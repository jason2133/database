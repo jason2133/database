{
  "nbformat": 4,
  "nbformat_minor": 0,
  "metadata": {
    "colab": {
      "name": "3d_nerf_u2net.ipynb",
      "provenance": [],
      "collapsed_sections": []
    },
    "kernelspec": {
      "name": "python3",
      "display_name": "Python 3"
    },
    "language_info": {
      "name": "python"
    },
    "accelerator": "GPU"
  },
  "cells": [
    {
      "cell_type": "code",
      "execution_count": null,
      "metadata": {
        "colab": {
          "base_uri": "https://localhost:8080/"
        },
        "id": "5xJatnp4LuOD",
        "outputId": "bb68f291-d866-48e7-d253-a8c3494e0919"
      },
      "outputs": [
        {
          "output_type": "stream",
          "name": "stdout",
          "text": [
            "Tue Feb 22 06:47:36 2022       \n",
            "+-----------------------------------------------------------------------------+\n",
            "| NVIDIA-SMI 460.32.03    Driver Version: 460.32.03    CUDA Version: 11.2     |\n",
            "|-------------------------------+----------------------+----------------------+\n",
            "| GPU  Name        Persistence-M| Bus-Id        Disp.A | Volatile Uncorr. ECC |\n",
            "| Fan  Temp  Perf  Pwr:Usage/Cap|         Memory-Usage | GPU-Util  Compute M. |\n",
            "|                               |                      |               MIG M. |\n",
            "|===============================+======================+======================|\n",
            "|   0  Tesla T4            Off  | 00000000:00:04.0 Off |                    0 |\n",
            "| N/A   43C    P8    10W /  70W |      0MiB / 15109MiB |      0%      Default |\n",
            "|                               |                      |                  N/A |\n",
            "+-------------------------------+----------------------+----------------------+\n",
            "                                                                               \n",
            "+-----------------------------------------------------------------------------+\n",
            "| Processes:                                                                  |\n",
            "|  GPU   GI   CI        PID   Type   Process name                  GPU Memory |\n",
            "|        ID   ID                                                   Usage      |\n",
            "|=============================================================================|\n",
            "|  No running processes found                                                 |\n",
            "+-----------------------------------------------------------------------------+\n"
          ]
        }
      ],
      "source": [
        "!nvidia-smi"
      ]
    },
    {
      "cell_type": "code",
      "source": [
        "from google.colab import drive\n",
        "drive.mount('/content/drive')"
      ],
      "metadata": {
        "colab": {
          "base_uri": "https://localhost:8080/"
        },
        "id": "sK_HK0FgLx0e",
        "outputId": "3d5235f4-3aff-488e-f6bf-f36d0320d9ef"
      },
      "execution_count": null,
      "outputs": [
        {
          "output_type": "stream",
          "name": "stdout",
          "text": [
            "Mounted at /content/drive\n"
          ]
        }
      ]
    },
    {
      "cell_type": "markdown",
      "source": [
        "### path는 본인 마음대로 조정하세요!"
      ],
      "metadata": {
        "id": "7bbmWFuZoq-G"
      }
    },
    {
      "cell_type": "code",
      "source": [
        "%cd /content/drive/MyDrive/nerf_project"
      ],
      "metadata": {
        "colab": {
          "base_uri": "https://localhost:8080/"
        },
        "id": "hg9HP737Lx2t",
        "outputId": "9b2eda6c-8497-4799-f6d0-689315344e13"
      },
      "execution_count": null,
      "outputs": [
        {
          "output_type": "stream",
          "name": "stdout",
          "text": [
            "/content/drive/MyDrive/nerf_project\n"
          ]
        }
      ]
    },
    {
      "cell_type": "markdown",
      "source": [
        "### Vid2Img"
      ],
      "metadata": {
        "id": "1edPMVYGotuD"
      }
    },
    {
      "cell_type": "code",
      "source": [
        "!git clone https://github.com/jason2133/vid2img.git"
      ],
      "metadata": {
        "id": "tVYDUWjsLx45"
      },
      "execution_count": null,
      "outputs": []
    },
    {
      "cell_type": "code",
      "source": [
        "%cd vid2img"
      ],
      "metadata": {
        "colab": {
          "base_uri": "https://localhost:8080/"
        },
        "id": "FlNypVQXLx60",
        "outputId": "70420b26-d294-4bdb-c82f-e361a2a9e012"
      },
      "execution_count": null,
      "outputs": [
        {
          "output_type": "stream",
          "name": "stdout",
          "text": [
            "/content/drive/MyDrive/nerf_project/vid2img\n"
          ]
        }
      ]
    },
    {
      "cell_type": "markdown",
      "source": [
        "#### python vid2img.py [동영상 파일명] -o [Vid2Img의 결과물인 이미지들이 저장될 폴더 경로] -i [몇 프레임 간격으로 vid2img 적용] -e [이미지 파일 저장 형식]\n",
        "- 여기서는 brown_guy_2.mp4라는 동영상 파일을 20개 프레임 간격으로 Vid2Img를 적용해서 png 파일 형식으로 image2라는 폴더에 이미지 결과물들을 저장하겠다는 것을 의미함."
      ],
      "metadata": {
        "id": "_tP1YiNGowHt"
      }
    },
    {
      "cell_type": "code",
      "source": [
        "!python vid2img.py '/content/drive/MyDrive/nerf_project/input_data/brown_guy_2.mp4' -o '/content/drive/MyDrive/nerf_project/input_data/image2' -i 20 -e png"
      ],
      "metadata": {
        "id": "qSJv955rLx88"
      },
      "execution_count": null,
      "outputs": []
    },
    {
      "cell_type": "markdown",
      "source": [
        "#### path는 본인 마음대로 조정하세요!"
      ],
      "metadata": {
        "id": "up7wt4nJpIA0"
      }
    },
    {
      "cell_type": "code",
      "source": [
        "%cd /content/drive/MyDrive/nerf_project"
      ],
      "metadata": {
        "colab": {
          "base_uri": "https://localhost:8080/"
        },
        "id": "Vp7yp58tMCAD",
        "outputId": "189401ad-a1ba-40cd-bdc8-55d85495c993"
      },
      "execution_count": null,
      "outputs": [
        {
          "output_type": "stream",
          "name": "stdout",
          "text": [
            "/content/drive/MyDrive/nerf_project\n"
          ]
        }
      ]
    },
    {
      "cell_type": "markdown",
      "source": [
        "### U-2-Net"
      ],
      "metadata": {
        "id": "B4xivnVbpLWc"
      }
    },
    {
      "cell_type": "code",
      "source": [
        "!git clone https://github.com/jason2133/u2net.git"
      ],
      "metadata": {
        "id": "XVjM9847MCCZ"
      },
      "execution_count": null,
      "outputs": []
    },
    {
      "cell_type": "markdown",
      "source": [
        "#### U-2-Net의 pretrain 파일을 아래 경로에서 다운받아서 하단 폴더에 넣어주세요."
      ],
      "metadata": {
        "id": "OFGyQBxvpNUh"
      }
    },
    {
      "cell_type": "markdown",
      "source": [
        "- Download u2net.pth from https://drive.google.com/file/d/1ao1ovG1Qtx4b7EoskHXmi2E9rp5CHLcZ/view?usp=sharing\n",
        "\n",
        "- Put u2net.pth to u2net/U-2-Net/saved_models/u2net"
      ],
      "metadata": {
        "id": "NKAfYU_MMOS2"
      }
    },
    {
      "cell_type": "markdown",
      "source": [
        "#### U-2-Net을 적용시키고 싶은 이미지들이 있는 폴더 경로를 미리 지정합니다."
      ],
      "metadata": {
        "id": "lFnHA7QvpVYH"
      }
    },
    {
      "cell_type": "code",
      "source": [
        "input_path = '/content/drive/MyDrive/nerf_project/input_data/image2'"
      ],
      "metadata": {
        "id": "zqJAESSUMCEL"
      },
      "execution_count": null,
      "outputs": []
    },
    {
      "cell_type": "code",
      "source": [
        "%cd u2net"
      ],
      "metadata": {
        "colab": {
          "base_uri": "https://localhost:8080/"
        },
        "id": "ocxY1I0RMCGc",
        "outputId": "07384986-b251-4b80-8207-4f6fcd7e76b1"
      },
      "execution_count": null,
      "outputs": [
        {
          "output_type": "stream",
          "name": "stdout",
          "text": [
            "/content/drive/MyDrive/nerf_project/u2net\n"
          ]
        }
      ]
    },
    {
      "cell_type": "code",
      "source": [
        "# 이미지들이 있는 폴더경로를 주면 이미지의 이름을 바꾸줌 ex) 0.png\n",
        "!python rename.py --image_path {input_path}"
      ],
      "metadata": {
        "id": "O_ERaNYQMCIa"
      },
      "execution_count": null,
      "outputs": []
    },
    {
      "cell_type": "code",
      "source": [
        "%cd U-2-Net"
      ],
      "metadata": {
        "colab": {
          "base_uri": "https://localhost:8080/"
        },
        "id": "t8y3DItXMCKd",
        "outputId": "e2c0f40f-f8da-4f66-cd2f-04330ed6df0a"
      },
      "execution_count": null,
      "outputs": [
        {
          "output_type": "stream",
          "name": "stdout",
          "text": [
            "/content/drive/MyDrive/nerf_project/u2net/U-2-Net\n"
          ]
        }
      ]
    },
    {
      "cell_type": "code",
      "source": [
        "# 이미지 경로를 주면 이미지 경로_mask 폴더를 만든 후, 그 폴더에 mask된 이미지를 저장.\n",
        "!python u2net_test.py --image_path {input_path}"
      ],
      "metadata": {
        "colab": {
          "base_uri": "https://localhost:8080/"
        },
        "id": "ORe9Db73MCME",
        "outputId": "b2beede1-15c3-41da-a1e5-681e3f82c027"
      },
      "execution_count": null,
      "outputs": [
        {
          "output_type": "stream",
          "name": "stdout",
          "text": [
            "['/content/drive/MyDrive/nerf_project/input_data/image2/0.jpg', '/content/drive/MyDrive/nerf_project/input_data/image2/1.jpg', '/content/drive/MyDrive/nerf_project/input_data/image2/2.jpg', '/content/drive/MyDrive/nerf_project/input_data/image2/3.jpg', '/content/drive/MyDrive/nerf_project/input_data/image2/4.jpg', '/content/drive/MyDrive/nerf_project/input_data/image2/5.jpg', '/content/drive/MyDrive/nerf_project/input_data/image2/6.jpg', '/content/drive/MyDrive/nerf_project/input_data/image2/7.jpg', '/content/drive/MyDrive/nerf_project/input_data/image2/8.jpg', '/content/drive/MyDrive/nerf_project/input_data/image2/9.jpg', '/content/drive/MyDrive/nerf_project/input_data/image2/10.jpg', '/content/drive/MyDrive/nerf_project/input_data/image2/11.jpg', '/content/drive/MyDrive/nerf_project/input_data/image2/12.jpg', '/content/drive/MyDrive/nerf_project/input_data/image2/13.jpg', '/content/drive/MyDrive/nerf_project/input_data/image2/14.jpg', '/content/drive/MyDrive/nerf_project/input_data/image2/15.jpg', '/content/drive/MyDrive/nerf_project/input_data/image2/16.jpg', '/content/drive/MyDrive/nerf_project/input_data/image2/17.jpg', '/content/drive/MyDrive/nerf_project/input_data/image2/18.jpg', '/content/drive/MyDrive/nerf_project/input_data/image2/19.jpg', '/content/drive/MyDrive/nerf_project/input_data/image2/20.jpg', '/content/drive/MyDrive/nerf_project/input_data/image2/21.jpg', '/content/drive/MyDrive/nerf_project/input_data/image2/22.jpg', '/content/drive/MyDrive/nerf_project/input_data/image2/23.jpg', '/content/drive/MyDrive/nerf_project/input_data/image2/24.jpg', '/content/drive/MyDrive/nerf_project/input_data/image2/25.jpg', '/content/drive/MyDrive/nerf_project/input_data/image2/26.jpg', '/content/drive/MyDrive/nerf_project/input_data/image2/27.jpg', '/content/drive/MyDrive/nerf_project/input_data/image2/28.jpg', '/content/drive/MyDrive/nerf_project/input_data/image2/29.jpg', '/content/drive/MyDrive/nerf_project/input_data/image2/30.jpg', '/content/drive/MyDrive/nerf_project/input_data/image2/31.jpg', '/content/drive/MyDrive/nerf_project/input_data/image2/32.jpg', '/content/drive/MyDrive/nerf_project/input_data/image2/33.jpg', '/content/drive/MyDrive/nerf_project/input_data/image2/34.jpg', '/content/drive/MyDrive/nerf_project/input_data/image2/35.jpg', '/content/drive/MyDrive/nerf_project/input_data/image2/36.jpg', '/content/drive/MyDrive/nerf_project/input_data/image2/37.jpg', '/content/drive/MyDrive/nerf_project/input_data/image2/38.jpg', '/content/drive/MyDrive/nerf_project/input_data/image2/39.jpg', '/content/drive/MyDrive/nerf_project/input_data/image2/40.jpg', '/content/drive/MyDrive/nerf_project/input_data/image2/41.jpg', '/content/drive/MyDrive/nerf_project/input_data/image2/42.jpg', '/content/drive/MyDrive/nerf_project/input_data/image2/43.jpg', '/content/drive/MyDrive/nerf_project/input_data/image2/44.jpg', '/content/drive/MyDrive/nerf_project/input_data/image2/45.jpg', '/content/drive/MyDrive/nerf_project/input_data/image2/46.jpg', '/content/drive/MyDrive/nerf_project/input_data/image2/47.jpg', '/content/drive/MyDrive/nerf_project/input_data/image2/48.jpg', '/content/drive/MyDrive/nerf_project/input_data/image2/49.jpg', '/content/drive/MyDrive/nerf_project/input_data/image2/50.jpg', '/content/drive/MyDrive/nerf_project/input_data/image2/51.jpg', '/content/drive/MyDrive/nerf_project/input_data/image2/52.jpg', '/content/drive/MyDrive/nerf_project/input_data/image2/53.jpg', '/content/drive/MyDrive/nerf_project/input_data/image2/54.jpg', '/content/drive/MyDrive/nerf_project/input_data/image2/55.jpg', '/content/drive/MyDrive/nerf_project/input_data/image2/56.jpg', '/content/drive/MyDrive/nerf_project/input_data/image2/57.jpg', '/content/drive/MyDrive/nerf_project/input_data/image2/58.jpg', '/content/drive/MyDrive/nerf_project/input_data/image2/59.jpg', '/content/drive/MyDrive/nerf_project/input_data/image2/60.jpg', '/content/drive/MyDrive/nerf_project/input_data/image2/61.jpg', '/content/drive/MyDrive/nerf_project/input_data/image2/62.jpg', '/content/drive/MyDrive/nerf_project/input_data/image2/63.jpg', '/content/drive/MyDrive/nerf_project/input_data/image2/64.jpg', '/content/drive/MyDrive/nerf_project/input_data/image2/65.jpg', '/content/drive/MyDrive/nerf_project/input_data/image2/66.jpg', '/content/drive/MyDrive/nerf_project/input_data/image2/67.jpg', '/content/drive/MyDrive/nerf_project/input_data/image2/68.jpg', '/content/drive/MyDrive/nerf_project/input_data/image2/69.jpg', '/content/drive/MyDrive/nerf_project/input_data/image2/70.jpg', '/content/drive/MyDrive/nerf_project/input_data/image2/71.jpg', '/content/drive/MyDrive/nerf_project/input_data/image2/72.jpg', '/content/drive/MyDrive/nerf_project/input_data/image2/73.jpg', '/content/drive/MyDrive/nerf_project/input_data/image2/74.jpg', '/content/drive/MyDrive/nerf_project/input_data/image2/75.jpg', '/content/drive/MyDrive/nerf_project/input_data/image2/76.jpg', '/content/drive/MyDrive/nerf_project/input_data/image2/77.jpg', '/content/drive/MyDrive/nerf_project/input_data/image2/78.jpg', '/content/drive/MyDrive/nerf_project/input_data/image2/79.jpg', '/content/drive/MyDrive/nerf_project/input_data/image2/80.jpg', '/content/drive/MyDrive/nerf_project/input_data/image2/81.jpg', '/content/drive/MyDrive/nerf_project/input_data/image2/82.jpg', '/content/drive/MyDrive/nerf_project/input_data/image2/83.jpg', '/content/drive/MyDrive/nerf_project/input_data/image2/84.jpg', '/content/drive/MyDrive/nerf_project/input_data/image2/85.jpg', '/content/drive/MyDrive/nerf_project/input_data/image2/86.jpg', '/content/drive/MyDrive/nerf_project/input_data/image2/87.jpg', '/content/drive/MyDrive/nerf_project/input_data/image2/88.jpg', '/content/drive/MyDrive/nerf_project/input_data/image2/89.jpg', '/content/drive/MyDrive/nerf_project/input_data/image2/90.jpg', '/content/drive/MyDrive/nerf_project/input_data/image2/91.jpg', '/content/drive/MyDrive/nerf_project/input_data/image2/92.jpg', '/content/drive/MyDrive/nerf_project/input_data/image2/93.jpg', '/content/drive/MyDrive/nerf_project/input_data/image2/94.jpg', '/content/drive/MyDrive/nerf_project/input_data/image2/95.jpg', '/content/drive/MyDrive/nerf_project/input_data/image2/96.jpg', '/content/drive/MyDrive/nerf_project/input_data/image2/97.jpg', '/content/drive/MyDrive/nerf_project/input_data/image2/98.jpg', '/content/drive/MyDrive/nerf_project/input_data/image2/99.jpg', '/content/drive/MyDrive/nerf_project/input_data/image2/100.jpg', '/content/drive/MyDrive/nerf_project/input_data/image2/101.jpg', '/content/drive/MyDrive/nerf_project/input_data/image2/102.jpg', '/content/drive/MyDrive/nerf_project/input_data/image2/103.jpg', '/content/drive/MyDrive/nerf_project/input_data/image2/104.jpg', '/content/drive/MyDrive/nerf_project/input_data/image2/105.jpg', '/content/drive/MyDrive/nerf_project/input_data/image2/106.jpg', '/content/drive/MyDrive/nerf_project/input_data/image2/107.jpg', '/content/drive/MyDrive/nerf_project/input_data/image2/108.jpg', '/content/drive/MyDrive/nerf_project/input_data/image2/109.jpg', '/content/drive/MyDrive/nerf_project/input_data/image2/110.jpg', '/content/drive/MyDrive/nerf_project/input_data/image2/111.jpg', '/content/drive/MyDrive/nerf_project/input_data/image2/112.jpg', '/content/drive/MyDrive/nerf_project/input_data/image2/113.jpg', '/content/drive/MyDrive/nerf_project/input_data/image2/114.jpg']\n",
            "...load U2NET---173.6 MB\n",
            "mask_dir: /content/drive/MyDrive/nerf_project/input_data/image2_mask\n",
            "inferencing: 0.jpg\n",
            "/usr/local/lib/python3.7/dist-packages/torch/nn/functional.py:3509: UserWarning: nn.functional.upsample is deprecated. Use nn.functional.interpolate instead.\n",
            "  warnings.warn(\"nn.functional.upsample is deprecated. Use nn.functional.interpolate instead.\")\n",
            "/usr/local/lib/python3.7/dist-packages/torch/nn/functional.py:3635: UserWarning: Default upsampling behavior when mode=bilinear is changed to align_corners=False since 0.4.0. Please specify align_corners=True if the old behavior is desired. See the documentation of nn.Upsample for details.\n",
            "  \"See the documentation of nn.Upsample for details.\".format(mode)\n",
            "/usr/local/lib/python3.7/dist-packages/torch/nn/functional.py:1806: UserWarning: nn.functional.sigmoid is deprecated. Use torch.sigmoid instead.\n",
            "  warnings.warn(\"nn.functional.sigmoid is deprecated. Use torch.sigmoid instead.\")\n",
            "inferencing: 1.jpg\n",
            "inferencing: 2.jpg\n",
            "inferencing: 3.jpg\n",
            "inferencing: 4.jpg\n",
            "inferencing: 5.jpg\n",
            "inferencing: 6.jpg\n",
            "inferencing: 7.jpg\n",
            "inferencing: 8.jpg\n",
            "inferencing: 9.jpg\n",
            "inferencing: 10.jpg\n",
            "inferencing: 11.jpg\n",
            "inferencing: 12.jpg\n",
            "inferencing: 13.jpg\n",
            "inferencing: 14.jpg\n",
            "inferencing: 15.jpg\n",
            "inferencing: 16.jpg\n",
            "inferencing: 17.jpg\n",
            "inferencing: 18.jpg\n",
            "inferencing: 19.jpg\n",
            "inferencing: 20.jpg\n",
            "inferencing: 21.jpg\n",
            "inferencing: 22.jpg\n",
            "inferencing: 23.jpg\n",
            "inferencing: 24.jpg\n",
            "inferencing: 25.jpg\n",
            "inferencing: 26.jpg\n",
            "inferencing: 27.jpg\n",
            "inferencing: 28.jpg\n",
            "inferencing: 29.jpg\n",
            "inferencing: 30.jpg\n",
            "inferencing: 31.jpg\n",
            "inferencing: 32.jpg\n",
            "inferencing: 33.jpg\n",
            "inferencing: 34.jpg\n",
            "inferencing: 35.jpg\n",
            "inferencing: 36.jpg\n",
            "inferencing: 37.jpg\n",
            "inferencing: 38.jpg\n",
            "inferencing: 39.jpg\n",
            "inferencing: 40.jpg\n",
            "inferencing: 41.jpg\n",
            "inferencing: 42.jpg\n",
            "inferencing: 43.jpg\n",
            "inferencing: 44.jpg\n",
            "inferencing: 45.jpg\n",
            "inferencing: 46.jpg\n",
            "inferencing: 47.jpg\n",
            "inferencing: 48.jpg\n",
            "inferencing: 49.jpg\n",
            "inferencing: 50.jpg\n",
            "inferencing: 51.jpg\n",
            "inferencing: 52.jpg\n",
            "inferencing: 53.jpg\n",
            "inferencing: 54.jpg\n",
            "inferencing: 55.jpg\n",
            "inferencing: 56.jpg\n",
            "inferencing: 57.jpg\n",
            "inferencing: 58.jpg\n",
            "inferencing: 59.jpg\n",
            "inferencing: 60.jpg\n",
            "inferencing: 61.jpg\n",
            "inferencing: 62.jpg\n",
            "inferencing: 63.jpg\n",
            "inferencing: 64.jpg\n",
            "inferencing: 65.jpg\n",
            "inferencing: 66.jpg\n",
            "inferencing: 67.jpg\n",
            "inferencing: 68.jpg\n",
            "inferencing: 69.jpg\n",
            "inferencing: 70.jpg\n",
            "inferencing: 71.jpg\n",
            "inferencing: 72.jpg\n",
            "inferencing: 73.jpg\n",
            "inferencing: 74.jpg\n",
            "inferencing: 75.jpg\n",
            "inferencing: 76.jpg\n",
            "inferencing: 77.jpg\n",
            "inferencing: 78.jpg\n",
            "inferencing: 79.jpg\n",
            "inferencing: 80.jpg\n",
            "inferencing: 81.jpg\n",
            "inferencing: 82.jpg\n",
            "inferencing: 83.jpg\n",
            "inferencing: 84.jpg\n",
            "inferencing: 85.jpg\n",
            "inferencing: 86.jpg\n",
            "inferencing: 87.jpg\n",
            "inferencing: 88.jpg\n",
            "inferencing: 89.jpg\n",
            "inferencing: 90.jpg\n",
            "inferencing: 91.jpg\n",
            "inferencing: 92.jpg\n",
            "inferencing: 93.jpg\n",
            "inferencing: 94.jpg\n",
            "inferencing: 95.jpg\n",
            "inferencing: 96.jpg\n",
            "inferencing: 97.jpg\n",
            "inferencing: 98.jpg\n",
            "inferencing: 99.jpg\n",
            "inferencing: 100.jpg\n",
            "inferencing: 101.jpg\n",
            "inferencing: 102.jpg\n",
            "inferencing: 103.jpg\n",
            "inferencing: 104.jpg\n",
            "inferencing: 105.jpg\n",
            "inferencing: 106.jpg\n",
            "inferencing: 107.jpg\n",
            "inferencing: 108.jpg\n",
            "inferencing: 109.jpg\n",
            "inferencing: 110.jpg\n",
            "inferencing: 111.jpg\n",
            "inferencing: 112.jpg\n",
            "inferencing: 113.jpg\n",
            "inferencing: 114.jpg\n"
          ]
        }
      ]
    },
    {
      "cell_type": "code",
      "source": [
        "%cd /content/drive/MyDrive/nerf_project/u2net"
      ],
      "metadata": {
        "colab": {
          "base_uri": "https://localhost:8080/"
        },
        "id": "Q_wkGgUuLx-8",
        "outputId": "71915115-6e29-4970-e990-13c44b6ecfb3"
      },
      "execution_count": null,
      "outputs": [
        {
          "output_type": "stream",
          "name": "stdout",
          "text": [
            "/content/drive/MyDrive/nerf_project/u2net\n"
          ]
        }
      ]
    },
    {
      "cell_type": "code",
      "source": [
        "# 이미지 경로를 주면 이미지 경로_rm_bg 폴더를 만든 후, 그 폴더에 백그라운드 제거된 이미지를 저장.\n",
        "!python mask.py --image_path {input_path}"
      ],
      "metadata": {
        "colab": {
          "base_uri": "https://localhost:8080/"
        },
        "id": "t6IfqRPRMfXl",
        "outputId": "61ce1a5a-de5e-4d70-c6e4-d8b9eea2b85c"
      },
      "execution_count": null,
      "outputs": [
        {
          "output_type": "stream",
          "name": "stdout",
          "text": [
            "115\n",
            "output_dir: /content/drive/MyDrive/nerf_project/input_data/image2_rm_bg\n",
            "Masking image 0 completed.\n",
            "\n",
            "Masking image 1 completed.\n",
            "\n",
            "Masking image 2 completed.\n",
            "\n",
            "Masking image 3 completed.\n",
            "\n",
            "Masking image 4 completed.\n",
            "\n",
            "Masking image 5 completed.\n",
            "\n",
            "Masking image 6 completed.\n",
            "\n",
            "Masking image 7 completed.\n",
            "\n",
            "Masking image 8 completed.\n",
            "\n",
            "Masking image 9 completed.\n",
            "\n",
            "Masking image 10 completed.\n",
            "\n",
            "Masking image 11 completed.\n",
            "\n",
            "Masking image 12 completed.\n",
            "\n",
            "Masking image 13 completed.\n",
            "\n",
            "Masking image 14 completed.\n",
            "\n",
            "Masking image 15 completed.\n",
            "\n",
            "Masking image 16 completed.\n",
            "\n",
            "Masking image 17 completed.\n",
            "\n",
            "Masking image 18 completed.\n",
            "\n",
            "Masking image 19 completed.\n",
            "\n",
            "Masking image 20 completed.\n",
            "\n",
            "Masking image 21 completed.\n",
            "\n",
            "Masking image 22 completed.\n",
            "\n",
            "Masking image 23 completed.\n",
            "\n",
            "Masking image 24 completed.\n",
            "\n",
            "Masking image 25 completed.\n",
            "\n",
            "Masking image 26 completed.\n",
            "\n",
            "Masking image 27 completed.\n",
            "\n",
            "Masking image 28 completed.\n",
            "\n",
            "Masking image 29 completed.\n",
            "\n",
            "Masking image 30 completed.\n",
            "\n",
            "Masking image 31 completed.\n",
            "\n",
            "Masking image 32 completed.\n",
            "\n",
            "Masking image 33 completed.\n",
            "\n",
            "Masking image 34 completed.\n",
            "\n",
            "Masking image 35 completed.\n",
            "\n",
            "Masking image 36 completed.\n",
            "\n",
            "Masking image 37 completed.\n",
            "\n",
            "Masking image 38 completed.\n",
            "\n",
            "Masking image 39 completed.\n",
            "\n",
            "Masking image 40 completed.\n",
            "\n",
            "Masking image 41 completed.\n",
            "\n",
            "Masking image 42 completed.\n",
            "\n",
            "Masking image 43 completed.\n",
            "\n",
            "Masking image 44 completed.\n",
            "\n",
            "Masking image 45 completed.\n",
            "\n",
            "Masking image 46 completed.\n",
            "\n",
            "Masking image 47 completed.\n",
            "\n",
            "Masking image 48 completed.\n",
            "\n",
            "Masking image 49 completed.\n",
            "\n",
            "Masking image 50 completed.\n",
            "\n",
            "Masking image 51 completed.\n",
            "\n",
            "Masking image 52 completed.\n",
            "\n",
            "Masking image 53 completed.\n",
            "\n",
            "Masking image 54 completed.\n",
            "\n",
            "Masking image 55 completed.\n",
            "\n",
            "Masking image 56 completed.\n",
            "\n",
            "Masking image 57 completed.\n",
            "\n",
            "Masking image 58 completed.\n",
            "\n",
            "Masking image 59 completed.\n",
            "\n",
            "Masking image 60 completed.\n",
            "\n",
            "Masking image 61 completed.\n",
            "\n",
            "Masking image 62 completed.\n",
            "\n",
            "Masking image 63 completed.\n",
            "\n",
            "Masking image 64 completed.\n",
            "\n",
            "Masking image 65 completed.\n",
            "\n",
            "Masking image 66 completed.\n",
            "\n",
            "Masking image 67 completed.\n",
            "\n",
            "Masking image 68 completed.\n",
            "\n",
            "Masking image 69 completed.\n",
            "\n",
            "Masking image 70 completed.\n",
            "\n",
            "Masking image 71 completed.\n",
            "\n",
            "Masking image 72 completed.\n",
            "\n",
            "Masking image 73 completed.\n",
            "\n",
            "Masking image 74 completed.\n",
            "\n",
            "Masking image 75 completed.\n",
            "\n",
            "Masking image 76 completed.\n",
            "\n",
            "Masking image 77 completed.\n",
            "\n",
            "Masking image 78 completed.\n",
            "\n",
            "Masking image 79 completed.\n",
            "\n",
            "Masking image 80 completed.\n",
            "\n",
            "Masking image 81 completed.\n",
            "\n",
            "Masking image 82 completed.\n",
            "\n",
            "Masking image 83 completed.\n",
            "\n",
            "Masking image 84 completed.\n",
            "\n",
            "Masking image 85 completed.\n",
            "\n",
            "Masking image 86 completed.\n",
            "\n",
            "Masking image 87 completed.\n",
            "\n",
            "Masking image 88 completed.\n",
            "\n",
            "Masking image 89 completed.\n",
            "\n",
            "Masking image 90 completed.\n",
            "\n",
            "Masking image 91 completed.\n",
            "\n",
            "Masking image 92 completed.\n",
            "\n",
            "Masking image 93 completed.\n",
            "\n",
            "Masking image 94 completed.\n",
            "\n",
            "Masking image 95 completed.\n",
            "\n",
            "Masking image 96 completed.\n",
            "\n",
            "Masking image 97 completed.\n",
            "\n",
            "Masking image 98 completed.\n",
            "\n",
            "Masking image 99 completed.\n",
            "\n",
            "Masking image 100 completed.\n",
            "\n",
            "Masking image 101 completed.\n",
            "\n",
            "Masking image 102 completed.\n",
            "\n",
            "Masking image 103 completed.\n",
            "\n",
            "Masking image 104 completed.\n",
            "\n",
            "Masking image 105 completed.\n",
            "\n",
            "Masking image 106 completed.\n",
            "\n",
            "Masking image 107 completed.\n",
            "\n",
            "Masking image 108 completed.\n",
            "\n",
            "Masking image 109 completed.\n",
            "\n",
            "Masking image 110 completed.\n",
            "\n",
            "Masking image 111 completed.\n",
            "\n",
            "Masking image 112 completed.\n",
            "\n",
            "Masking image 113 completed.\n",
            "\n",
            "Masking image 114 completed.\n",
            "\n"
          ]
        }
      ]
    },
    {
      "cell_type": "markdown",
      "source": [
        "### 비디오를 세로로 촬영하는 바람에, 시계방향으로 90도 회전해야 하는 경우"
      ],
      "metadata": {
        "id": "VcQG4oE0S6yH"
      }
    },
    {
      "cell_type": "markdown",
      "source": [
        "- image_rotate_path : 회전시켜야 하는 이미지들이 저장된 폴더 경로를 의미\n",
        "- image_rotate_output_path : 시계방향 90도 회전시킨 이미지들이 저장될 폴더 경로를 지정"
      ],
      "metadata": {
        "id": "GQ6mn5ePpvhD"
      }
    },
    {
      "cell_type": "code",
      "source": [
        "import cv2\n",
        "import numpy as np\n",
        "import os\n",
        "image_rotate_path = '/content/drive/MyDrive/nerf_project/input_data/image2_rm_bg'\n",
        "\n",
        "image_rotate_output_path = os.path.join(image_rotate_path + '_rotate')\n",
        "if not os.path.exists(image_rotate_output_path):\n",
        "    os.makedirs(image_rotate_output_path, exist_ok=True)\n",
        "    print(f\"image_rotate_output_path_dir: {image_rotate_output_path}\")"
      ],
      "metadata": {
        "colab": {
          "base_uri": "https://localhost:8080/"
        },
        "id": "-tpZ6or2MfZs",
        "outputId": "4c56078c-b5eb-4c5f-b015-759c9fd4c3fa"
      },
      "execution_count": null,
      "outputs": [
        {
          "output_type": "stream",
          "name": "stdout",
          "text": [
            "image_rotate_output_path_dir: /content/drive/MyDrive/nerf_project/input_data/image2_rm_bg_rotate\n"
          ]
        }
      ]
    },
    {
      "cell_type": "code",
      "source": [
        "def get_files_count(folder_path):\n",
        "  fileExt = r\".png\"\n",
        "  jpg_list = [_ for _ in os.listdir(folder_path) if _.endswith(fileExt)]\n",
        "  return len(jpg_list)"
      ],
      "metadata": {
        "id": "8AcKAOWQMfeM"
      },
      "execution_count": null,
      "outputs": []
    },
    {
      "cell_type": "code",
      "source": [
        "image_num = get_files_count(image_rotate_path)\n",
        "print(image_num)"
      ],
      "metadata": {
        "colab": {
          "base_uri": "https://localhost:8080/"
        },
        "id": "dLamF4sTMff5",
        "outputId": "21d09acf-262d-4d7c-ef5b-87d4a673714b"
      },
      "execution_count": null,
      "outputs": [
        {
          "output_type": "stream",
          "name": "stdout",
          "text": [
            "115\n"
          ]
        }
      ]
    },
    {
      "cell_type": "code",
      "source": [
        "# Save Results\n",
        "for i in range(image_num):\n",
        "  img1 = cv2.imread(os.path.join(image_rotate_path, str(i) + '.png'))\n",
        "  img2 = cv2.rotate(img1, cv2.ROTATE_90_CLOCKWISE)\n",
        "  output_path = image_rotate_output_path\n",
        "  output_dir = os.path.join(output_path, str(i) + '.png')\n",
        "  cv2.imwrite(output_dir, img2)\n",
        "  print(f\"Rotating image 90도 {i} completed\")"
      ],
      "metadata": {
        "colab": {
          "base_uri": "https://localhost:8080/"
        },
        "id": "McIes07FMfiI",
        "outputId": "76670f87-ed88-4c7d-8e8a-b13f2fc93dc8"
      },
      "execution_count": null,
      "outputs": [
        {
          "output_type": "stream",
          "name": "stdout",
          "text": [
            "Rotating image 90도 0 completed\n",
            "Rotating image 90도 1 completed\n",
            "Rotating image 90도 2 completed\n",
            "Rotating image 90도 3 completed\n",
            "Rotating image 90도 4 completed\n",
            "Rotating image 90도 5 completed\n",
            "Rotating image 90도 6 completed\n",
            "Rotating image 90도 7 completed\n",
            "Rotating image 90도 8 completed\n",
            "Rotating image 90도 9 completed\n",
            "Rotating image 90도 10 completed\n",
            "Rotating image 90도 11 completed\n",
            "Rotating image 90도 12 completed\n",
            "Rotating image 90도 13 completed\n",
            "Rotating image 90도 14 completed\n",
            "Rotating image 90도 15 completed\n",
            "Rotating image 90도 16 completed\n",
            "Rotating image 90도 17 completed\n",
            "Rotating image 90도 18 completed\n",
            "Rotating image 90도 19 completed\n",
            "Rotating image 90도 20 completed\n",
            "Rotating image 90도 21 completed\n",
            "Rotating image 90도 22 completed\n",
            "Rotating image 90도 23 completed\n",
            "Rotating image 90도 24 completed\n",
            "Rotating image 90도 25 completed\n",
            "Rotating image 90도 26 completed\n",
            "Rotating image 90도 27 completed\n",
            "Rotating image 90도 28 completed\n",
            "Rotating image 90도 29 completed\n",
            "Rotating image 90도 30 completed\n",
            "Rotating image 90도 31 completed\n",
            "Rotating image 90도 32 completed\n",
            "Rotating image 90도 33 completed\n",
            "Rotating image 90도 34 completed\n",
            "Rotating image 90도 35 completed\n",
            "Rotating image 90도 36 completed\n",
            "Rotating image 90도 37 completed\n",
            "Rotating image 90도 38 completed\n",
            "Rotating image 90도 39 completed\n",
            "Rotating image 90도 40 completed\n",
            "Rotating image 90도 41 completed\n",
            "Rotating image 90도 42 completed\n",
            "Rotating image 90도 43 completed\n",
            "Rotating image 90도 44 completed\n",
            "Rotating image 90도 45 completed\n",
            "Rotating image 90도 46 completed\n",
            "Rotating image 90도 47 completed\n",
            "Rotating image 90도 48 completed\n",
            "Rotating image 90도 49 completed\n",
            "Rotating image 90도 50 completed\n",
            "Rotating image 90도 51 completed\n",
            "Rotating image 90도 52 completed\n",
            "Rotating image 90도 53 completed\n",
            "Rotating image 90도 54 completed\n",
            "Rotating image 90도 55 completed\n",
            "Rotating image 90도 56 completed\n",
            "Rotating image 90도 57 completed\n",
            "Rotating image 90도 58 completed\n",
            "Rotating image 90도 59 completed\n",
            "Rotating image 90도 60 completed\n",
            "Rotating image 90도 61 completed\n",
            "Rotating image 90도 62 completed\n",
            "Rotating image 90도 63 completed\n",
            "Rotating image 90도 64 completed\n",
            "Rotating image 90도 65 completed\n",
            "Rotating image 90도 66 completed\n",
            "Rotating image 90도 67 completed\n",
            "Rotating image 90도 68 completed\n",
            "Rotating image 90도 69 completed\n",
            "Rotating image 90도 70 completed\n",
            "Rotating image 90도 71 completed\n",
            "Rotating image 90도 72 completed\n",
            "Rotating image 90도 73 completed\n",
            "Rotating image 90도 74 completed\n",
            "Rotating image 90도 75 completed\n",
            "Rotating image 90도 76 completed\n",
            "Rotating image 90도 77 completed\n",
            "Rotating image 90도 78 completed\n",
            "Rotating image 90도 79 completed\n",
            "Rotating image 90도 80 completed\n",
            "Rotating image 90도 81 completed\n",
            "Rotating image 90도 82 completed\n",
            "Rotating image 90도 83 completed\n",
            "Rotating image 90도 84 completed\n",
            "Rotating image 90도 85 completed\n",
            "Rotating image 90도 86 completed\n",
            "Rotating image 90도 87 completed\n",
            "Rotating image 90도 88 completed\n",
            "Rotating image 90도 89 completed\n",
            "Rotating image 90도 90 completed\n",
            "Rotating image 90도 91 completed\n",
            "Rotating image 90도 92 completed\n",
            "Rotating image 90도 93 completed\n",
            "Rotating image 90도 94 completed\n",
            "Rotating image 90도 95 completed\n",
            "Rotating image 90도 96 completed\n",
            "Rotating image 90도 97 completed\n",
            "Rotating image 90도 98 completed\n",
            "Rotating image 90도 99 completed\n",
            "Rotating image 90도 100 completed\n",
            "Rotating image 90도 101 completed\n",
            "Rotating image 90도 102 completed\n",
            "Rotating image 90도 103 completed\n",
            "Rotating image 90도 104 completed\n",
            "Rotating image 90도 105 completed\n",
            "Rotating image 90도 106 completed\n",
            "Rotating image 90도 107 completed\n",
            "Rotating image 90도 108 completed\n",
            "Rotating image 90도 109 completed\n",
            "Rotating image 90도 110 completed\n",
            "Rotating image 90도 111 completed\n",
            "Rotating image 90도 112 completed\n",
            "Rotating image 90도 113 completed\n",
            "Rotating image 90도 114 completed\n"
          ]
        }
      ]
    },
    {
      "cell_type": "markdown",
      "source": [
        "## 여기서부터 NeRF 아무 모델이나 적용해보아서 실습해보면 좋을 것 같습니다!"
      ],
      "metadata": {
        "id": "O8mliTVzUVZ8"
      }
    },
    {
      "cell_type": "code",
      "source": [
        ""
      ],
      "metadata": {
        "id": "FC3flolPMfmc"
      },
      "execution_count": null,
      "outputs": []
    },
    {
      "cell_type": "code",
      "source": [
        ""
      ],
      "metadata": {
        "id": "3zQ5lbOWLyA4"
      },
      "execution_count": null,
      "outputs": []
    }
  ]
}