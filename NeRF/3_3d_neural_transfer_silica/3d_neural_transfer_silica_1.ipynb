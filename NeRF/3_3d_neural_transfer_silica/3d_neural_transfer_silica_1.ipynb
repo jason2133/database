{
  "nbformat": 4,
  "nbformat_minor": 0,
  "metadata": {
    "colab": {
      "name": "3d_neural_transfer_silica_1.ipynb",
      "provenance": [],
      "collapsed_sections": []
    },
    "kernelspec": {
      "name": "python3",
      "display_name": "Python 3"
    },
    "language_info": {
      "name": "python"
    },
    "accelerator": "GPU"
  },
  "cells": [
    {
      "cell_type": "code",
      "execution_count": 1,
      "metadata": {
        "colab": {
          "base_uri": "https://localhost:8080/"
        },
        "id": "RAeap_1RM8XN",
        "outputId": "5d27c521-05cc-4055-c65b-7e535b726308"
      },
      "outputs": [
        {
          "output_type": "stream",
          "name": "stdout",
          "text": [
            "Sat Feb 26 13:24:28 2022       \n",
            "+-----------------------------------------------------------------------------+\n",
            "| NVIDIA-SMI 460.32.03    Driver Version: 460.32.03    CUDA Version: 11.2     |\n",
            "|-------------------------------+----------------------+----------------------+\n",
            "| GPU  Name        Persistence-M| Bus-Id        Disp.A | Volatile Uncorr. ECC |\n",
            "| Fan  Temp  Perf  Pwr:Usage/Cap|         Memory-Usage | GPU-Util  Compute M. |\n",
            "|                               |                      |               MIG M. |\n",
            "|===============================+======================+======================|\n",
            "|   0  Tesla P100-PCIE...  Off  | 00000000:00:04.0 Off |                    0 |\n",
            "| N/A   57C    P0    32W / 250W |      0MiB / 16280MiB |      0%      Default |\n",
            "|                               |                      |                  N/A |\n",
            "+-------------------------------+----------------------+----------------------+\n",
            "                                                                               \n",
            "+-----------------------------------------------------------------------------+\n",
            "| Processes:                                                                  |\n",
            "|  GPU   GI   CI        PID   Type   Process name                  GPU Memory |\n",
            "|        ID   ID                                                   Usage      |\n",
            "|=============================================================================|\n",
            "|  No running processes found                                                 |\n",
            "+-----------------------------------------------------------------------------+\n"
          ]
        }
      ],
      "source": [
        "!nvidia-smi"
      ]
    },
    {
      "cell_type": "code",
      "source": [
        "from google.colab import drive\n",
        "drive.mount('/content/drive')"
      ],
      "metadata": {
        "colab": {
          "base_uri": "https://localhost:8080/"
        },
        "id": "oftdUhBrM96q",
        "outputId": "fba52069-da50-4bcf-ceb7-205dc79b2d95"
      },
      "execution_count": 2,
      "outputs": [
        {
          "output_type": "stream",
          "name": "stdout",
          "text": [
            "Mounted at /content/drive\n"
          ]
        }
      ]
    },
    {
      "cell_type": "code",
      "source": [
        "%cd /content/drive/MyDrive/3d_transfer"
      ],
      "metadata": {
        "colab": {
          "base_uri": "https://localhost:8080/"
        },
        "id": "nI75VEX3M98u",
        "outputId": "f1c37fe0-59cc-4c98-822a-d13a49f5c4c8"
      },
      "execution_count": 3,
      "outputs": [
        {
          "output_type": "stream",
          "name": "stdout",
          "text": [
            "/content/drive/MyDrive/3d_transfer\n"
          ]
        }
      ]
    },
    {
      "cell_type": "markdown",
      "source": [
        "- Try to use pytorch==1.4.0! the version of pytorch < 1.5.0 better. At first i used 1.6.0 and appeared same error. But i changed the version, the problem was solved."
      ],
      "metadata": {
        "id": "h0auKZpNNV2Z"
      }
    },
    {
      "cell_type": "code",
      "source": [
        "!pip install torch==1.4.0 torchvision==0.5.0"
      ],
      "metadata": {
        "colab": {
          "base_uri": "https://localhost:8080/"
        },
        "id": "KnaDNUz8M9_T",
        "outputId": "d261ede9-df1e-4fa5-cce1-1f7a7673881b"
      },
      "execution_count": 4,
      "outputs": [
        {
          "output_type": "stream",
          "name": "stdout",
          "text": [
            "Collecting torch==1.4.0\n",
            "  Downloading torch-1.4.0-cp37-cp37m-manylinux1_x86_64.whl (753.4 MB)\n",
            "\u001b[K     |████████████████████████████████| 753.4 MB 6.7 kB/s \n",
            "\u001b[?25hCollecting torchvision==0.5.0\n",
            "  Downloading torchvision-0.5.0-cp37-cp37m-manylinux1_x86_64.whl (4.0 MB)\n",
            "\u001b[K     |████████████████████████████████| 4.0 MB 30.9 MB/s \n",
            "\u001b[?25hRequirement already satisfied: numpy in /usr/local/lib/python3.7/dist-packages (from torchvision==0.5.0) (1.21.5)\n",
            "Requirement already satisfied: pillow>=4.1.1 in /usr/local/lib/python3.7/dist-packages (from torchvision==0.5.0) (7.1.2)\n",
            "Requirement already satisfied: six in /usr/local/lib/python3.7/dist-packages (from torchvision==0.5.0) (1.15.0)\n",
            "Installing collected packages: torch, torchvision\n",
            "  Attempting uninstall: torch\n",
            "    Found existing installation: torch 1.10.0+cu111\n",
            "    Uninstalling torch-1.10.0+cu111:\n",
            "      Successfully uninstalled torch-1.10.0+cu111\n",
            "  Attempting uninstall: torchvision\n",
            "    Found existing installation: torchvision 0.11.1+cu111\n",
            "    Uninstalling torchvision-0.11.1+cu111:\n",
            "      Successfully uninstalled torchvision-0.11.1+cu111\n",
            "\u001b[31mERROR: pip's dependency resolver does not currently take into account all the packages that are installed. This behaviour is the source of the following dependency conflicts.\n",
            "torchtext 0.11.0 requires torch==1.10.0, but you have torch 1.4.0 which is incompatible.\n",
            "torchaudio 0.10.0+cu111 requires torch==1.10.0, but you have torch 1.4.0 which is incompatible.\u001b[0m\n",
            "Successfully installed torch-1.4.0 torchvision-0.5.0\n"
          ]
        }
      ]
    },
    {
      "cell_type": "code",
      "source": [
        "import torch\n",
        "print(torch.__version__)"
      ],
      "metadata": {
        "colab": {
          "base_uri": "https://localhost:8080/"
        },
        "id": "7-cxYdsJM-BO",
        "outputId": "d36939eb-1c39-4b77-b004-516352651c81"
      },
      "execution_count": 5,
      "outputs": [
        {
          "output_type": "stream",
          "name": "stdout",
          "text": [
            "1.4.0\n"
          ]
        }
      ]
    },
    {
      "cell_type": "code",
      "source": [
        "!pip install neural_renderer_pytorch"
      ],
      "metadata": {
        "colab": {
          "base_uri": "https://localhost:8080/"
        },
        "id": "A1q30kdkM-DX",
        "outputId": "06d92dc1-bec2-48e3-d789-b0b4dfb29652"
      },
      "execution_count": 6,
      "outputs": [
        {
          "output_type": "stream",
          "name": "stdout",
          "text": [
            "Collecting neural_renderer_pytorch\n",
            "  Downloading neural_renderer_pytorch-1.1.3.tar.gz (19 kB)\n",
            "Requirement already satisfied: torch in /usr/local/lib/python3.7/dist-packages (from neural_renderer_pytorch) (1.4.0)\n",
            "Requirement already satisfied: numpy in /usr/local/lib/python3.7/dist-packages (from neural_renderer_pytorch) (1.21.5)\n",
            "Requirement already satisfied: scikit-image in /usr/local/lib/python3.7/dist-packages (from neural_renderer_pytorch) (0.18.3)\n",
            "Requirement already satisfied: pillow!=7.1.0,!=7.1.1,>=4.3.0 in /usr/local/lib/python3.7/dist-packages (from scikit-image->neural_renderer_pytorch) (7.1.2)\n",
            "Requirement already satisfied: networkx>=2.0 in /usr/local/lib/python3.7/dist-packages (from scikit-image->neural_renderer_pytorch) (2.6.3)\n",
            "Requirement already satisfied: imageio>=2.3.0 in /usr/local/lib/python3.7/dist-packages (from scikit-image->neural_renderer_pytorch) (2.4.1)\n",
            "Requirement already satisfied: PyWavelets>=1.1.1 in /usr/local/lib/python3.7/dist-packages (from scikit-image->neural_renderer_pytorch) (1.2.0)\n",
            "Requirement already satisfied: matplotlib!=3.0.0,>=2.0.0 in /usr/local/lib/python3.7/dist-packages (from scikit-image->neural_renderer_pytorch) (3.2.2)\n",
            "Requirement already satisfied: scipy>=1.0.1 in /usr/local/lib/python3.7/dist-packages (from scikit-image->neural_renderer_pytorch) (1.4.1)\n",
            "Requirement already satisfied: tifffile>=2019.7.26 in /usr/local/lib/python3.7/dist-packages (from scikit-image->neural_renderer_pytorch) (2021.11.2)\n",
            "Requirement already satisfied: kiwisolver>=1.0.1 in /usr/local/lib/python3.7/dist-packages (from matplotlib!=3.0.0,>=2.0.0->scikit-image->neural_renderer_pytorch) (1.3.2)\n",
            "Requirement already satisfied: pyparsing!=2.0.4,!=2.1.2,!=2.1.6,>=2.0.1 in /usr/local/lib/python3.7/dist-packages (from matplotlib!=3.0.0,>=2.0.0->scikit-image->neural_renderer_pytorch) (3.0.7)\n",
            "Requirement already satisfied: cycler>=0.10 in /usr/local/lib/python3.7/dist-packages (from matplotlib!=3.0.0,>=2.0.0->scikit-image->neural_renderer_pytorch) (0.11.0)\n",
            "Requirement already satisfied: python-dateutil>=2.1 in /usr/local/lib/python3.7/dist-packages (from matplotlib!=3.0.0,>=2.0.0->scikit-image->neural_renderer_pytorch) (2.8.2)\n",
            "Requirement already satisfied: six>=1.5 in /usr/local/lib/python3.7/dist-packages (from python-dateutil>=2.1->matplotlib!=3.0.0,>=2.0.0->scikit-image->neural_renderer_pytorch) (1.15.0)\n",
            "Building wheels for collected packages: neural-renderer-pytorch\n",
            "  Building wheel for neural-renderer-pytorch (setup.py) ... \u001b[?25l\u001b[?25hdone\n",
            "  Created wheel for neural-renderer-pytorch: filename=neural_renderer_pytorch-1.1.3-cp37-cp37m-linux_x86_64.whl size=5057546 sha256=ba4861a1dd2aa0486bd97c071a6bcdf3665c6da3f63739ccf3fbe479c8d7445c\n",
            "  Stored in directory: /root/.cache/pip/wheels/7b/04/53/67810ec9b5a41e9dac79f0b99adde6865faba6d16b262b59cd\n",
            "Successfully built neural-renderer-pytorch\n",
            "Installing collected packages: neural-renderer-pytorch\n",
            "Successfully installed neural-renderer-pytorch-1.1.3\n"
          ]
        }
      ]
    },
    {
      "cell_type": "code",
      "source": [
        "%cd /content/drive/MyDrive/3d_transfer/neural_renderer"
      ],
      "metadata": {
        "colab": {
          "base_uri": "https://localhost:8080/"
        },
        "id": "xDYwnxloM-Ft",
        "outputId": "deeef4fa-5298-45a2-e3d0-af5984998ec7"
      },
      "execution_count": 7,
      "outputs": [
        {
          "output_type": "stream",
          "name": "stdout",
          "text": [
            "/content/drive/MyDrive/3d_transfer/neural_renderer\n"
          ]
        }
      ]
    },
    {
      "cell_type": "code",
      "source": [
        "!python ./examples/example1.py"
      ],
      "metadata": {
        "colab": {
          "base_uri": "https://localhost:8080/"
        },
        "id": "Ze5HIBwIM-Hu",
        "outputId": "5025f1af-8256-4132-b9cc-babced06cb19"
      },
      "execution_count": 8,
      "outputs": [
        {
          "output_type": "stream",
          "name": "stdout",
          "text": [
            "Drawing: 100% 90/90 [00:02<00:00, 35.46it/s]\n"
          ]
        }
      ]
    },
    {
      "cell_type": "code",
      "source": [
        "!python ./examples/example2.py"
      ],
      "metadata": {
        "colab": {
          "base_uri": "https://localhost:8080/"
        },
        "id": "d7tFWlhRM-KL",
        "outputId": "2d427fe3-91fb-4625-ae73-bb2450d5d2e8"
      },
      "execution_count": 9,
      "outputs": [
        {
          "output_type": "stream",
          "name": "stdout",
          "text": [
            "Optimizing:   0% 0/300 [00:00<?, ?it/s]WARNING:root:Lossy conversion from float32 to uint8. Range [0, 1]. Convert image to uint8 prior to saving to suppress this warning.\n",
            "Optimizing:   0% 0/300 [00:00<?, ?it/s]WARNING:root:Lossy conversion from float32 to uint8. Range [0, 1]. Convert image to uint8 prior to saving to suppress this warning.\n",
            "Optimizing:   1% 2/300 [00:00<00:25, 11.75it/s]WARNING:root:Lossy conversion from float32 to uint8. Range [0, 1]. Convert image to uint8 prior to saving to suppress this warning.\n",
            "Optimizing:   1% 2/300 [00:00<00:25, 11.75it/s]WARNING:root:Lossy conversion from float32 to uint8. Range [0, 1]. Convert image to uint8 prior to saving to suppress this warning.\n",
            "Optimizing:   1% 4/300 [00:00<00:23, 12.73it/s]WARNING:root:Lossy conversion from float32 to uint8. Range [0, 1]. Convert image to uint8 prior to saving to suppress this warning.\n",
            "Optimizing:   1% 4/300 [00:00<00:23, 12.73it/s]WARNING:root:Lossy conversion from float32 to uint8. Range [0, 1]. Convert image to uint8 prior to saving to suppress this warning.\n",
            "Optimizing:   2% 6/300 [00:00<00:21, 13.38it/s]WARNING:root:Lossy conversion from float32 to uint8. Range [0, 1]. Convert image to uint8 prior to saving to suppress this warning.\n",
            "Optimizing:   2% 6/300 [00:00<00:21, 13.38it/s]WARNING:root:Lossy conversion from float32 to uint8. Range [0, 1]. Convert image to uint8 prior to saving to suppress this warning.\n",
            "Optimizing:   3% 8/300 [00:00<00:21, 13.58it/s]WARNING:root:Lossy conversion from float32 to uint8. Range [0, 1]. Convert image to uint8 prior to saving to suppress this warning.\n",
            "Optimizing:   3% 8/300 [00:00<00:21, 13.58it/s]WARNING:root:Lossy conversion from float32 to uint8. Range [0, 1]. Convert image to uint8 prior to saving to suppress this warning.\n",
            "Optimizing:   3% 10/300 [00:00<00:21, 13.71it/s]WARNING:root:Lossy conversion from float32 to uint8. Range [0, 1]. Convert image to uint8 prior to saving to suppress this warning.\n",
            "Optimizing:   3% 10/300 [00:00<00:21, 13.71it/s]WARNING:root:Lossy conversion from float32 to uint8. Range [0, 1]. Convert image to uint8 prior to saving to suppress this warning.\n",
            "Optimizing:   4% 12/300 [00:00<00:21, 13.63it/s]WARNING:root:Lossy conversion from float32 to uint8. Range [0, 1]. Convert image to uint8 prior to saving to suppress this warning.\n",
            "Optimizing:   4% 12/300 [00:00<00:21, 13.63it/s]WARNING:root:Lossy conversion from float32 to uint8. Range [0, 1]. Convert image to uint8 prior to saving to suppress this warning.\n",
            "Optimizing:   5% 14/300 [00:01<00:21, 13.56it/s]WARNING:root:Lossy conversion from float32 to uint8. Range [0, 1]. Convert image to uint8 prior to saving to suppress this warning.\n",
            "Optimizing:   5% 14/300 [00:01<00:21, 13.56it/s]WARNING:root:Lossy conversion from float32 to uint8. Range [0, 1]. Convert image to uint8 prior to saving to suppress this warning.\n",
            "Optimizing:   5% 16/300 [00:01<00:20, 13.58it/s]WARNING:root:Lossy conversion from float32 to uint8. Range [0, 1]. Convert image to uint8 prior to saving to suppress this warning.\n",
            "Optimizing:   5% 16/300 [00:01<00:20, 13.58it/s]WARNING:root:Lossy conversion from float32 to uint8. Range [0, 1]. Convert image to uint8 prior to saving to suppress this warning.\n",
            "Optimizing:   6% 18/300 [00:01<00:21, 13.31it/s]WARNING:root:Lossy conversion from float32 to uint8. Range [0, 1]. Convert image to uint8 prior to saving to suppress this warning.\n",
            "Optimizing:   6% 18/300 [00:01<00:21, 13.31it/s]WARNING:root:Lossy conversion from float32 to uint8. Range [0, 1]. Convert image to uint8 prior to saving to suppress this warning.\n",
            "Optimizing:   7% 20/300 [00:01<00:20, 13.36it/s]WARNING:root:Lossy conversion from float32 to uint8. Range [0, 1]. Convert image to uint8 prior to saving to suppress this warning.\n",
            "Optimizing:   7% 20/300 [00:01<00:20, 13.36it/s]WARNING:root:Lossy conversion from float32 to uint8. Range [0, 1]. Convert image to uint8 prior to saving to suppress this warning.\n",
            "Optimizing:   7% 22/300 [00:01<00:20, 13.34it/s]WARNING:root:Lossy conversion from float32 to uint8. Range [0, 1]. Convert image to uint8 prior to saving to suppress this warning.\n",
            "Optimizing:   7% 22/300 [00:01<00:20, 13.34it/s]WARNING:root:Lossy conversion from float32 to uint8. Range [0, 1]. Convert image to uint8 prior to saving to suppress this warning.\n",
            "Optimizing:   8% 24/300 [00:01<00:21, 13.05it/s]WARNING:root:Lossy conversion from float32 to uint8. Range [0, 1]. Convert image to uint8 prior to saving to suppress this warning.\n",
            "Optimizing:   8% 24/300 [00:01<00:21, 13.05it/s]WARNING:root:Lossy conversion from float32 to uint8. Range [0, 1]. Convert image to uint8 prior to saving to suppress this warning.\n",
            "Optimizing:   9% 26/300 [00:01<00:21, 12.82it/s]WARNING:root:Lossy conversion from float32 to uint8. Range [0, 1]. Convert image to uint8 prior to saving to suppress this warning.\n",
            "Optimizing:   9% 26/300 [00:02<00:21, 12.82it/s]WARNING:root:Lossy conversion from float32 to uint8. Range [0, 1]. Convert image to uint8 prior to saving to suppress this warning.\n",
            "Optimizing:   9% 28/300 [00:02<00:21, 12.66it/s]WARNING:root:Lossy conversion from float32 to uint8. Range [0, 1]. Convert image to uint8 prior to saving to suppress this warning.\n",
            "Optimizing:   9% 28/300 [00:02<00:21, 12.66it/s]WARNING:root:Lossy conversion from float32 to uint8. Range [0, 1]. Convert image to uint8 prior to saving to suppress this warning.\n",
            "Optimizing:  10% 30/300 [00:02<00:21, 12.48it/s]WARNING:root:Lossy conversion from float32 to uint8. Range [0, 1]. Convert image to uint8 prior to saving to suppress this warning.\n",
            "Optimizing:  10% 30/300 [00:02<00:21, 12.48it/s]WARNING:root:Lossy conversion from float32 to uint8. Range [0, 1]. Convert image to uint8 prior to saving to suppress this warning.\n",
            "Optimizing:  11% 32/300 [00:02<00:22, 12.15it/s]WARNING:root:Lossy conversion from float32 to uint8. Range [0, 1]. Convert image to uint8 prior to saving to suppress this warning.\n",
            "Optimizing:  11% 32/300 [00:02<00:22, 12.15it/s]WARNING:root:Lossy conversion from float32 to uint8. Range [0, 1]. Convert image to uint8 prior to saving to suppress this warning.\n",
            "Optimizing:  11% 34/300 [00:02<00:21, 12.17it/s]WARNING:root:Lossy conversion from float32 to uint8. Range [0, 1]. Convert image to uint8 prior to saving to suppress this warning.\n",
            "Optimizing:  11% 34/300 [00:02<00:21, 12.17it/s]WARNING:root:Lossy conversion from float32 to uint8. Range [0, 1]. Convert image to uint8 prior to saving to suppress this warning.\n",
            "Optimizing:  12% 36/300 [00:02<00:22, 11.77it/s]WARNING:root:Lossy conversion from float32 to uint8. Range [0, 1]. Convert image to uint8 prior to saving to suppress this warning.\n",
            "Optimizing:  12% 36/300 [00:02<00:22, 11.77it/s]WARNING:root:Lossy conversion from float32 to uint8. Range [0, 1]. Convert image to uint8 prior to saving to suppress this warning.\n",
            "Optimizing:  13% 38/300 [00:02<00:22, 11.77it/s]WARNING:root:Lossy conversion from float32 to uint8. Range [0, 1]. Convert image to uint8 prior to saving to suppress this warning.\n",
            "Optimizing:  13% 38/300 [00:03<00:22, 11.77it/s]WARNING:root:Lossy conversion from float32 to uint8. Range [0, 1]. Convert image to uint8 prior to saving to suppress this warning.\n",
            "Optimizing:  13% 40/300 [00:03<00:22, 11.78it/s]WARNING:root:Lossy conversion from float32 to uint8. Range [0, 1]. Convert image to uint8 prior to saving to suppress this warning.\n",
            "Optimizing:  13% 40/300 [00:03<00:22, 11.78it/s]WARNING:root:Lossy conversion from float32 to uint8. Range [0, 1]. Convert image to uint8 prior to saving to suppress this warning.\n",
            "Optimizing:  14% 42/300 [00:03<00:22, 11.53it/s]WARNING:root:Lossy conversion from float32 to uint8. Range [0, 1]. Convert image to uint8 prior to saving to suppress this warning.\n",
            "Optimizing:  14% 42/300 [00:03<00:22, 11.53it/s]WARNING:root:Lossy conversion from float32 to uint8. Range [0, 1]. Convert image to uint8 prior to saving to suppress this warning.\n",
            "Optimizing:  15% 44/300 [00:03<00:22, 11.54it/s]WARNING:root:Lossy conversion from float32 to uint8. Range [0, 1]. Convert image to uint8 prior to saving to suppress this warning.\n",
            "Optimizing:  15% 44/300 [00:03<00:22, 11.54it/s]WARNING:root:Lossy conversion from float32 to uint8. Range [0, 1]. Convert image to uint8 prior to saving to suppress this warning.\n",
            "Optimizing:  15% 46/300 [00:03<00:22, 11.52it/s]WARNING:root:Lossy conversion from float32 to uint8. Range [0, 1]. Convert image to uint8 prior to saving to suppress this warning.\n",
            "Optimizing:  15% 46/300 [00:03<00:22, 11.52it/s]WARNING:root:Lossy conversion from float32 to uint8. Range [0, 1]. Convert image to uint8 prior to saving to suppress this warning.\n",
            "Optimizing:  16% 48/300 [00:03<00:22, 11.26it/s]WARNING:root:Lossy conversion from float32 to uint8. Range [0, 1]. Convert image to uint8 prior to saving to suppress this warning.\n",
            "Optimizing:  16% 48/300 [00:03<00:22, 11.26it/s]WARNING:root:Lossy conversion from float32 to uint8. Range [0, 1]. Convert image to uint8 prior to saving to suppress this warning.\n",
            "Optimizing:  17% 50/300 [00:04<00:22, 11.19it/s]WARNING:root:Lossy conversion from float32 to uint8. Range [0, 1]. Convert image to uint8 prior to saving to suppress this warning.\n",
            "Optimizing:  17% 50/300 [00:04<00:22, 11.19it/s]WARNING:root:Lossy conversion from float32 to uint8. Range [0, 1]. Convert image to uint8 prior to saving to suppress this warning.\n",
            "Optimizing:  17% 52/300 [00:04<00:22, 11.06it/s]WARNING:root:Lossy conversion from float32 to uint8. Range [0, 1]. Convert image to uint8 prior to saving to suppress this warning.\n",
            "Optimizing:  17% 52/300 [00:04<00:22, 11.06it/s]WARNING:root:Lossy conversion from float32 to uint8. Range [0, 1]. Convert image to uint8 prior to saving to suppress this warning.\n",
            "Optimizing:  18% 54/300 [00:04<00:22, 10.99it/s]WARNING:root:Lossy conversion from float32 to uint8. Range [0, 1]. Convert image to uint8 prior to saving to suppress this warning.\n",
            "Optimizing:  18% 54/300 [00:04<00:22, 10.99it/s]WARNING:root:Lossy conversion from float32 to uint8. Range [0, 1]. Convert image to uint8 prior to saving to suppress this warning.\n",
            "Optimizing:  19% 56/300 [00:04<00:22, 10.91it/s]WARNING:root:Lossy conversion from float32 to uint8. Range [0, 1]. Convert image to uint8 prior to saving to suppress this warning.\n",
            "Optimizing:  19% 56/300 [00:04<00:22, 10.91it/s]WARNING:root:Lossy conversion from float32 to uint8. Range [0, 1]. Convert image to uint8 prior to saving to suppress this warning.\n",
            "Optimizing:  19% 58/300 [00:04<00:22, 10.74it/s]WARNING:root:Lossy conversion from float32 to uint8. Range [0, 1]. Convert image to uint8 prior to saving to suppress this warning.\n",
            "Optimizing:  19% 58/300 [00:04<00:22, 10.74it/s]WARNING:root:Lossy conversion from float32 to uint8. Range [0, 1]. Convert image to uint8 prior to saving to suppress this warning.\n",
            "Optimizing:  20% 60/300 [00:04<00:22, 10.60it/s]WARNING:root:Lossy conversion from float32 to uint8. Range [0, 1]. Convert image to uint8 prior to saving to suppress this warning.\n",
            "Optimizing:  20% 60/300 [00:05<00:22, 10.60it/s]WARNING:root:Lossy conversion from float32 to uint8. Range [0, 1]. Convert image to uint8 prior to saving to suppress this warning.\n",
            "Optimizing:  21% 62/300 [00:05<00:22, 10.51it/s]WARNING:root:Lossy conversion from float32 to uint8. Range [0, 1]. Convert image to uint8 prior to saving to suppress this warning.\n",
            "Optimizing:  21% 62/300 [00:05<00:22, 10.51it/s]WARNING:root:Lossy conversion from float32 to uint8. Range [0, 1]. Convert image to uint8 prior to saving to suppress this warning.\n",
            "Optimizing:  21% 64/300 [00:05<00:22, 10.39it/s]WARNING:root:Lossy conversion from float32 to uint8. Range [0, 1]. Convert image to uint8 prior to saving to suppress this warning.\n",
            "Optimizing:  21% 64/300 [00:05<00:22, 10.39it/s]WARNING:root:Lossy conversion from float32 to uint8. Range [0, 1]. Convert image to uint8 prior to saving to suppress this warning.\n",
            "Optimizing:  22% 66/300 [00:05<00:22, 10.31it/s]WARNING:root:Lossy conversion from float32 to uint8. Range [0, 1]. Convert image to uint8 prior to saving to suppress this warning.\n",
            "Optimizing:  22% 66/300 [00:05<00:22, 10.31it/s]WARNING:root:Lossy conversion from float32 to uint8. Range [0, 1]. Convert image to uint8 prior to saving to suppress this warning.\n",
            "Optimizing:  23% 68/300 [00:05<00:22, 10.21it/s]WARNING:root:Lossy conversion from float32 to uint8. Range [0, 1]. Convert image to uint8 prior to saving to suppress this warning.\n",
            "Optimizing:  23% 68/300 [00:05<00:22, 10.21it/s]WARNING:root:Lossy conversion from float32 to uint8. Range [0, 1]. Convert image to uint8 prior to saving to suppress this warning.\n",
            "Optimizing:  23% 70/300 [00:05<00:23,  9.99it/s]WARNING:root:Lossy conversion from float32 to uint8. Range [0, 1]. Convert image to uint8 prior to saving to suppress this warning.\n",
            "Optimizing:  23% 70/300 [00:06<00:23,  9.99it/s]WARNING:root:Lossy conversion from float32 to uint8. Range [0, 1]. Convert image to uint8 prior to saving to suppress this warning.\n",
            "Optimizing:  24% 72/300 [00:06<00:22,  9.93it/s]WARNING:root:Lossy conversion from float32 to uint8. Range [0, 1]. Convert image to uint8 prior to saving to suppress this warning.\n",
            "Optimizing:  24% 73/300 [00:06<00:22,  9.90it/s]WARNING:root:Lossy conversion from float32 to uint8. Range [0, 1]. Convert image to uint8 prior to saving to suppress this warning.\n",
            "Optimizing:  25% 74/300 [00:06<00:22,  9.84it/s]WARNING:root:Lossy conversion from float32 to uint8. Range [0, 1]. Convert image to uint8 prior to saving to suppress this warning.\n",
            "Optimizing:  25% 75/300 [00:06<00:23,  9.78it/s]WARNING:root:Lossy conversion from float32 to uint8. Range [0, 1]. Convert image to uint8 prior to saving to suppress this warning.\n",
            "Optimizing:  25% 76/300 [00:06<00:23,  9.72it/s]WARNING:root:Lossy conversion from float32 to uint8. Range [0, 1]. Convert image to uint8 prior to saving to suppress this warning.\n",
            "Optimizing:  26% 77/300 [00:06<00:23,  9.66it/s]WARNING:root:Lossy conversion from float32 to uint8. Range [0, 1]. Convert image to uint8 prior to saving to suppress this warning.\n",
            "Optimizing:  26% 78/300 [00:06<00:23,  9.61it/s]WARNING:root:Lossy conversion from float32 to uint8. Range [0, 1]. Convert image to uint8 prior to saving to suppress this warning.\n",
            "Optimizing:  26% 79/300 [00:06<00:23,  9.51it/s]WARNING:root:Lossy conversion from float32 to uint8. Range [0, 1]. Convert image to uint8 prior to saving to suppress this warning.\n",
            "Optimizing:  27% 80/300 [00:07<00:23,  9.46it/s]WARNING:root:Lossy conversion from float32 to uint8. Range [0, 1]. Convert image to uint8 prior to saving to suppress this warning.\n",
            "Optimizing:  27% 81/300 [00:07<00:23,  9.38it/s]WARNING:root:Lossy conversion from float32 to uint8. Range [0, 1]. Convert image to uint8 prior to saving to suppress this warning.\n",
            "Optimizing:  27% 82/300 [00:07<00:23,  9.37it/s]WARNING:root:Lossy conversion from float32 to uint8. Range [0, 1]. Convert image to uint8 prior to saving to suppress this warning.\n",
            "Optimizing:  28% 83/300 [00:07<00:23,  9.33it/s]WARNING:root:Lossy conversion from float32 to uint8. Range [0, 1]. Convert image to uint8 prior to saving to suppress this warning.\n",
            "Optimizing:  28% 84/300 [00:07<00:23,  9.29it/s]WARNING:root:Lossy conversion from float32 to uint8. Range [0, 1]. Convert image to uint8 prior to saving to suppress this warning.\n",
            "Optimizing:  28% 85/300 [00:07<00:23,  9.27it/s]WARNING:root:Lossy conversion from float32 to uint8. Range [0, 1]. Convert image to uint8 prior to saving to suppress this warning.\n",
            "Optimizing:  29% 86/300 [00:07<00:23,  9.19it/s]WARNING:root:Lossy conversion from float32 to uint8. Range [0, 1]. Convert image to uint8 prior to saving to suppress this warning.\n",
            "Optimizing:  29% 87/300 [00:07<00:23,  9.09it/s]WARNING:root:Lossy conversion from float32 to uint8. Range [0, 1]. Convert image to uint8 prior to saving to suppress this warning.\n",
            "Optimizing:  29% 88/300 [00:07<00:23,  9.12it/s]WARNING:root:Lossy conversion from float32 to uint8. Range [0, 1]. Convert image to uint8 prior to saving to suppress this warning.\n",
            "Optimizing:  30% 89/300 [00:08<00:23,  9.12it/s]WARNING:root:Lossy conversion from float32 to uint8. Range [0, 1]. Convert image to uint8 prior to saving to suppress this warning.\n",
            "Optimizing:  30% 90/300 [00:08<00:23,  9.07it/s]WARNING:root:Lossy conversion from float32 to uint8. Range [0, 1]. Convert image to uint8 prior to saving to suppress this warning.\n",
            "Optimizing:  30% 91/300 [00:08<00:23,  9.00it/s]WARNING:root:Lossy conversion from float32 to uint8. Range [0, 1]. Convert image to uint8 prior to saving to suppress this warning.\n",
            "Optimizing:  31% 92/300 [00:08<00:23,  9.01it/s]WARNING:root:Lossy conversion from float32 to uint8. Range [0, 1]. Convert image to uint8 prior to saving to suppress this warning.\n",
            "Optimizing:  31% 93/300 [00:08<00:22,  9.01it/s]WARNING:root:Lossy conversion from float32 to uint8. Range [0, 1]. Convert image to uint8 prior to saving to suppress this warning.\n",
            "Optimizing:  31% 94/300 [00:08<00:22,  8.99it/s]WARNING:root:Lossy conversion from float32 to uint8. Range [0, 1]. Convert image to uint8 prior to saving to suppress this warning.\n",
            "Optimizing:  32% 95/300 [00:08<00:22,  8.97it/s]WARNING:root:Lossy conversion from float32 to uint8. Range [0, 1]. Convert image to uint8 prior to saving to suppress this warning.\n",
            "Optimizing:  32% 96/300 [00:08<00:22,  8.95it/s]WARNING:root:Lossy conversion from float32 to uint8. Range [0, 1]. Convert image to uint8 prior to saving to suppress this warning.\n",
            "Optimizing:  32% 97/300 [00:08<00:22,  8.90it/s]WARNING:root:Lossy conversion from float32 to uint8. Range [0, 1]. Convert image to uint8 prior to saving to suppress this warning.\n",
            "Optimizing:  33% 98/300 [00:09<00:22,  8.81it/s]WARNING:root:Lossy conversion from float32 to uint8. Range [0, 1]. Convert image to uint8 prior to saving to suppress this warning.\n",
            "Optimizing:  33% 99/300 [00:09<00:22,  8.81it/s]WARNING:root:Lossy conversion from float32 to uint8. Range [0, 1]. Convert image to uint8 prior to saving to suppress this warning.\n",
            "Optimizing:  33% 100/300 [00:09<00:22,  8.72it/s]WARNING:root:Lossy conversion from float32 to uint8. Range [0, 1]. Convert image to uint8 prior to saving to suppress this warning.\n",
            "Optimizing:  34% 101/300 [00:09<00:22,  8.73it/s]WARNING:root:Lossy conversion from float32 to uint8. Range [0, 1]. Convert image to uint8 prior to saving to suppress this warning.\n",
            "Optimizing:  34% 102/300 [00:09<00:22,  8.72it/s]WARNING:root:Lossy conversion from float32 to uint8. Range [0, 1]. Convert image to uint8 prior to saving to suppress this warning.\n",
            "Optimizing:  34% 103/300 [00:09<00:22,  8.74it/s]WARNING:root:Lossy conversion from float32 to uint8. Range [0, 1]. Convert image to uint8 prior to saving to suppress this warning.\n",
            "Optimizing:  35% 104/300 [00:09<00:22,  8.74it/s]WARNING:root:Lossy conversion from float32 to uint8. Range [0, 1]. Convert image to uint8 prior to saving to suppress this warning.\n",
            "Optimizing:  35% 105/300 [00:09<00:22,  8.68it/s]WARNING:root:Lossy conversion from float32 to uint8. Range [0, 1]. Convert image to uint8 prior to saving to suppress this warning.\n",
            "Optimizing:  35% 106/300 [00:09<00:22,  8.66it/s]WARNING:root:Lossy conversion from float32 to uint8. Range [0, 1]. Convert image to uint8 prior to saving to suppress this warning.\n",
            "Optimizing:  36% 107/300 [00:10<00:22,  8.64it/s]WARNING:root:Lossy conversion from float32 to uint8. Range [0, 1]. Convert image to uint8 prior to saving to suppress this warning.\n",
            "Optimizing:  36% 108/300 [00:10<00:22,  8.69it/s]WARNING:root:Lossy conversion from float32 to uint8. Range [0, 1]. Convert image to uint8 prior to saving to suppress this warning.\n",
            "Optimizing:  36% 109/300 [00:10<00:22,  8.68it/s]WARNING:root:Lossy conversion from float32 to uint8. Range [0, 1]. Convert image to uint8 prior to saving to suppress this warning.\n",
            "Optimizing:  37% 110/300 [00:10<00:21,  8.64it/s]WARNING:root:Lossy conversion from float32 to uint8. Range [0, 1]. Convert image to uint8 prior to saving to suppress this warning.\n",
            "Optimizing:  37% 111/300 [00:10<00:21,  8.66it/s]WARNING:root:Lossy conversion from float32 to uint8. Range [0, 1]. Convert image to uint8 prior to saving to suppress this warning.\n",
            "Optimizing:  37% 112/300 [00:10<00:21,  8.70it/s]WARNING:root:Lossy conversion from float32 to uint8. Range [0, 1]. Convert image to uint8 prior to saving to suppress this warning.\n",
            "Optimizing:  38% 113/300 [00:10<00:21,  8.63it/s]WARNING:root:Lossy conversion from float32 to uint8. Range [0, 1]. Convert image to uint8 prior to saving to suppress this warning.\n",
            "Optimizing:  38% 114/300 [00:10<00:21,  8.69it/s]WARNING:root:Lossy conversion from float32 to uint8. Range [0, 1]. Convert image to uint8 prior to saving to suppress this warning.\n",
            "Optimizing:  38% 115/300 [00:11<00:21,  8.68it/s]WARNING:root:Lossy conversion from float32 to uint8. Range [0, 1]. Convert image to uint8 prior to saving to suppress this warning.\n",
            "Optimizing:  39% 116/300 [00:11<00:21,  8.73it/s]WARNING:root:Lossy conversion from float32 to uint8. Range [0, 1]. Convert image to uint8 prior to saving to suppress this warning.\n",
            "Optimizing:  39% 117/300 [00:11<00:20,  8.81it/s]WARNING:root:Lossy conversion from float32 to uint8. Range [0, 1]. Convert image to uint8 prior to saving to suppress this warning.\n",
            "Optimizing:  39% 118/300 [00:11<00:20,  8.88it/s]WARNING:root:Lossy conversion from float32 to uint8. Range [0, 1]. Convert image to uint8 prior to saving to suppress this warning.\n",
            "Optimizing:  40% 119/300 [00:11<00:20,  8.92it/s]WARNING:root:Lossy conversion from float32 to uint8. Range [0, 1]. Convert image to uint8 prior to saving to suppress this warning.\n",
            "Optimizing:  40% 120/300 [00:11<00:20,  8.96it/s]WARNING:root:Lossy conversion from float32 to uint8. Range [0, 1]. Convert image to uint8 prior to saving to suppress this warning.\n",
            "Optimizing:  40% 121/300 [00:11<00:19,  9.03it/s]WARNING:root:Lossy conversion from float32 to uint8. Range [0, 1]. Convert image to uint8 prior to saving to suppress this warning.\n",
            "Optimizing:  41% 122/300 [00:11<00:19,  8.99it/s]WARNING:root:Lossy conversion from float32 to uint8. Range [0, 1]. Convert image to uint8 prior to saving to suppress this warning.\n",
            "Optimizing:  41% 123/300 [00:11<00:19,  8.97it/s]WARNING:root:Lossy conversion from float32 to uint8. Range [0, 1]. Convert image to uint8 prior to saving to suppress this warning.\n",
            "Optimizing:  41% 124/300 [00:11<00:19,  9.04it/s]WARNING:root:Lossy conversion from float32 to uint8. Range [0, 1]. Convert image to uint8 prior to saving to suppress this warning.\n",
            "Optimizing:  42% 125/300 [00:12<00:19,  9.06it/s]WARNING:root:Lossy conversion from float32 to uint8. Range [0, 1]. Convert image to uint8 prior to saving to suppress this warning.\n",
            "Optimizing:  42% 126/300 [00:12<00:19,  9.16it/s]WARNING:root:Lossy conversion from float32 to uint8. Range [0, 1]. Convert image to uint8 prior to saving to suppress this warning.\n",
            "Optimizing:  42% 127/300 [00:12<00:18,  9.18it/s]WARNING:root:Lossy conversion from float32 to uint8. Range [0, 1]. Convert image to uint8 prior to saving to suppress this warning.\n",
            "Optimizing:  43% 128/300 [00:12<00:18,  9.23it/s]WARNING:root:Lossy conversion from float32 to uint8. Range [0, 1]. Convert image to uint8 prior to saving to suppress this warning.\n",
            "Optimizing:  43% 129/300 [00:12<00:18,  9.28it/s]WARNING:root:Lossy conversion from float32 to uint8. Range [0, 1]. Convert image to uint8 prior to saving to suppress this warning.\n",
            "Optimizing:  43% 130/300 [00:12<00:18,  9.31it/s]WARNING:root:Lossy conversion from float32 to uint8. Range [0, 1]. Convert image to uint8 prior to saving to suppress this warning.\n",
            "Optimizing:  44% 131/300 [00:12<00:18,  9.29it/s]WARNING:root:Lossy conversion from float32 to uint8. Range [0, 1]. Convert image to uint8 prior to saving to suppress this warning.\n",
            "Optimizing:  44% 132/300 [00:12<00:18,  9.32it/s]WARNING:root:Lossy conversion from float32 to uint8. Range [0, 1]. Convert image to uint8 prior to saving to suppress this warning.\n",
            "Optimizing:  44% 133/300 [00:12<00:17,  9.34it/s]WARNING:root:Lossy conversion from float32 to uint8. Range [0, 1]. Convert image to uint8 prior to saving to suppress this warning.\n",
            "Optimizing:  45% 134/300 [00:13<00:17,  9.34it/s]WARNING:root:Lossy conversion from float32 to uint8. Range [0, 1]. Convert image to uint8 prior to saving to suppress this warning.\n",
            "Optimizing:  45% 135/300 [00:13<00:17,  9.24it/s]WARNING:root:Lossy conversion from float32 to uint8. Range [0, 1]. Convert image to uint8 prior to saving to suppress this warning.\n",
            "Optimizing:  45% 136/300 [00:13<00:17,  9.26it/s]WARNING:root:Lossy conversion from float32 to uint8. Range [0, 1]. Convert image to uint8 prior to saving to suppress this warning.\n",
            "Optimizing:  46% 137/300 [00:13<00:17,  9.32it/s]WARNING:root:Lossy conversion from float32 to uint8. Range [0, 1]. Convert image to uint8 prior to saving to suppress this warning.\n",
            "Optimizing:  46% 138/300 [00:13<00:17,  9.25it/s]WARNING:root:Lossy conversion from float32 to uint8. Range [0, 1]. Convert image to uint8 prior to saving to suppress this warning.\n",
            "Optimizing:  46% 139/300 [00:13<00:17,  9.32it/s]WARNING:root:Lossy conversion from float32 to uint8. Range [0, 1]. Convert image to uint8 prior to saving to suppress this warning.\n",
            "Optimizing:  47% 140/300 [00:13<00:17,  9.16it/s]WARNING:root:Lossy conversion from float32 to uint8. Range [0, 1]. Convert image to uint8 prior to saving to suppress this warning.\n",
            "Optimizing:  47% 141/300 [00:13<00:17,  9.24it/s]WARNING:root:Lossy conversion from float32 to uint8. Range [0, 1]. Convert image to uint8 prior to saving to suppress this warning.\n",
            "Optimizing:  47% 142/300 [00:13<00:17,  9.28it/s]WARNING:root:Lossy conversion from float32 to uint8. Range [0, 1]. Convert image to uint8 prior to saving to suppress this warning.\n",
            "Optimizing:  48% 143/300 [00:14<00:16,  9.31it/s]WARNING:root:Lossy conversion from float32 to uint8. Range [0, 1]. Convert image to uint8 prior to saving to suppress this warning.\n",
            "Optimizing:  48% 144/300 [00:14<00:16,  9.30it/s]WARNING:root:Lossy conversion from float32 to uint8. Range [0, 1]. Convert image to uint8 prior to saving to suppress this warning.\n",
            "Optimizing:  48% 145/300 [00:14<00:16,  9.33it/s]WARNING:root:Lossy conversion from float32 to uint8. Range [0, 1]. Convert image to uint8 prior to saving to suppress this warning.\n",
            "Optimizing:  49% 146/300 [00:14<00:16,  9.30it/s]WARNING:root:Lossy conversion from float32 to uint8. Range [0, 1]. Convert image to uint8 prior to saving to suppress this warning.\n",
            "Optimizing:  49% 147/300 [00:14<00:16,  9.31it/s]WARNING:root:Lossy conversion from float32 to uint8. Range [0, 1]. Convert image to uint8 prior to saving to suppress this warning.\n",
            "Optimizing:  49% 148/300 [00:14<00:16,  9.33it/s]WARNING:root:Lossy conversion from float32 to uint8. Range [0, 1]. Convert image to uint8 prior to saving to suppress this warning.\n",
            "Optimizing:  50% 149/300 [00:14<00:16,  9.32it/s]WARNING:root:Lossy conversion from float32 to uint8. Range [0, 1]. Convert image to uint8 prior to saving to suppress this warning.\n",
            "Optimizing:  50% 150/300 [00:14<00:16,  9.33it/s]WARNING:root:Lossy conversion from float32 to uint8. Range [0, 1]. Convert image to uint8 prior to saving to suppress this warning.\n",
            "Optimizing:  50% 151/300 [00:14<00:15,  9.33it/s]WARNING:root:Lossy conversion from float32 to uint8. Range [0, 1]. Convert image to uint8 prior to saving to suppress this warning.\n",
            "Optimizing:  51% 152/300 [00:15<00:15,  9.28it/s]WARNING:root:Lossy conversion from float32 to uint8. Range [0, 1]. Convert image to uint8 prior to saving to suppress this warning.\n",
            "Optimizing:  51% 153/300 [00:15<00:15,  9.31it/s]WARNING:root:Lossy conversion from float32 to uint8. Range [0, 1]. Convert image to uint8 prior to saving to suppress this warning.\n",
            "Optimizing:  51% 154/300 [00:15<00:15,  9.31it/s]WARNING:root:Lossy conversion from float32 to uint8. Range [0, 1]. Convert image to uint8 prior to saving to suppress this warning.\n",
            "Optimizing:  52% 155/300 [00:15<00:15,  9.33it/s]WARNING:root:Lossy conversion from float32 to uint8. Range [0, 1]. Convert image to uint8 prior to saving to suppress this warning.\n",
            "Optimizing:  52% 156/300 [00:15<00:15,  9.25it/s]WARNING:root:Lossy conversion from float32 to uint8. Range [0, 1]. Convert image to uint8 prior to saving to suppress this warning.\n",
            "Optimizing:  52% 157/300 [00:15<00:15,  9.26it/s]WARNING:root:Lossy conversion from float32 to uint8. Range [0, 1]. Convert image to uint8 prior to saving to suppress this warning.\n",
            "Optimizing:  53% 158/300 [00:15<00:15,  9.28it/s]WARNING:root:Lossy conversion from float32 to uint8. Range [0, 1]. Convert image to uint8 prior to saving to suppress this warning.\n",
            "Optimizing:  53% 159/300 [00:15<00:15,  9.30it/s]WARNING:root:Lossy conversion from float32 to uint8. Range [0, 1]. Convert image to uint8 prior to saving to suppress this warning.\n",
            "Optimizing:  53% 160/300 [00:15<00:15,  9.30it/s]WARNING:root:Lossy conversion from float32 to uint8. Range [0, 1]. Convert image to uint8 prior to saving to suppress this warning.\n",
            "Optimizing:  54% 161/300 [00:15<00:14,  9.30it/s]WARNING:root:Lossy conversion from float32 to uint8. Range [0, 1]. Convert image to uint8 prior to saving to suppress this warning.\n",
            "Optimizing:  54% 162/300 [00:16<00:14,  9.21it/s]WARNING:root:Lossy conversion from float32 to uint8. Range [0, 1]. Convert image to uint8 prior to saving to suppress this warning.\n",
            "Optimizing:  54% 163/300 [00:16<00:14,  9.18it/s]WARNING:root:Lossy conversion from float32 to uint8. Range [0, 1]. Convert image to uint8 prior to saving to suppress this warning.\n",
            "Optimizing:  55% 164/300 [00:16<00:14,  9.23it/s]WARNING:root:Lossy conversion from float32 to uint8. Range [0, 1]. Convert image to uint8 prior to saving to suppress this warning.\n",
            "Optimizing:  55% 165/300 [00:16<00:14,  9.17it/s]WARNING:root:Lossy conversion from float32 to uint8. Range [0, 1]. Convert image to uint8 prior to saving to suppress this warning.\n",
            "Optimizing:  55% 166/300 [00:16<00:14,  9.22it/s]WARNING:root:Lossy conversion from float32 to uint8. Range [0, 1]. Convert image to uint8 prior to saving to suppress this warning.\n",
            "Optimizing:  56% 167/300 [00:16<00:14,  9.25it/s]WARNING:root:Lossy conversion from float32 to uint8. Range [0, 1]. Convert image to uint8 prior to saving to suppress this warning.\n",
            "Optimizing:  56% 168/300 [00:16<00:14,  9.20it/s]WARNING:root:Lossy conversion from float32 to uint8. Range [0, 1]. Convert image to uint8 prior to saving to suppress this warning.\n",
            "Optimizing:  56% 169/300 [00:16<00:14,  9.24it/s]WARNING:root:Lossy conversion from float32 to uint8. Range [0, 1]. Convert image to uint8 prior to saving to suppress this warning.\n",
            "Optimizing:  57% 170/300 [00:16<00:14,  9.24it/s]WARNING:root:Lossy conversion from float32 to uint8. Range [0, 1]. Convert image to uint8 prior to saving to suppress this warning.\n",
            "Optimizing:  57% 171/300 [00:17<00:13,  9.26it/s]WARNING:root:Lossy conversion from float32 to uint8. Range [0, 1]. Convert image to uint8 prior to saving to suppress this warning.\n",
            "Optimizing:  57% 172/300 [00:17<00:13,  9.25it/s]WARNING:root:Lossy conversion from float32 to uint8. Range [0, 1]. Convert image to uint8 prior to saving to suppress this warning.\n",
            "Optimizing:  58% 173/300 [00:17<00:13,  9.29it/s]WARNING:root:Lossy conversion from float32 to uint8. Range [0, 1]. Convert image to uint8 prior to saving to suppress this warning.\n",
            "Optimizing:  58% 174/300 [00:17<00:13,  9.26it/s]WARNING:root:Lossy conversion from float32 to uint8. Range [0, 1]. Convert image to uint8 prior to saving to suppress this warning.\n",
            "Optimizing:  58% 175/300 [00:17<00:13,  9.25it/s]WARNING:root:Lossy conversion from float32 to uint8. Range [0, 1]. Convert image to uint8 prior to saving to suppress this warning.\n",
            "Optimizing:  59% 176/300 [00:17<00:13,  9.25it/s]WARNING:root:Lossy conversion from float32 to uint8. Range [0, 1]. Convert image to uint8 prior to saving to suppress this warning.\n",
            "Optimizing:  59% 177/300 [00:17<00:13,  9.30it/s]WARNING:root:Lossy conversion from float32 to uint8. Range [0, 1]. Convert image to uint8 prior to saving to suppress this warning.\n",
            "Optimizing:  59% 178/300 [00:17<00:13,  9.29it/s]WARNING:root:Lossy conversion from float32 to uint8. Range [0, 1]. Convert image to uint8 prior to saving to suppress this warning.\n",
            "Optimizing:  60% 179/300 [00:17<00:12,  9.33it/s]WARNING:root:Lossy conversion from float32 to uint8. Range [0, 1]. Convert image to uint8 prior to saving to suppress this warning.\n",
            "Optimizing:  60% 180/300 [00:18<00:12,  9.35it/s]WARNING:root:Lossy conversion from float32 to uint8. Range [0, 1]. Convert image to uint8 prior to saving to suppress this warning.\n",
            "Optimizing:  60% 181/300 [00:18<00:12,  9.26it/s]WARNING:root:Lossy conversion from float32 to uint8. Range [0, 1]. Convert image to uint8 prior to saving to suppress this warning.\n",
            "Optimizing:  61% 182/300 [00:18<00:12,  9.24it/s]WARNING:root:Lossy conversion from float32 to uint8. Range [0, 1]. Convert image to uint8 prior to saving to suppress this warning.\n",
            "Optimizing:  61% 183/300 [00:18<00:12,  9.30it/s]WARNING:root:Lossy conversion from float32 to uint8. Range [0, 1]. Convert image to uint8 prior to saving to suppress this warning.\n",
            "Optimizing:  61% 184/300 [00:18<00:12,  9.34it/s]WARNING:root:Lossy conversion from float32 to uint8. Range [0, 1]. Convert image to uint8 prior to saving to suppress this warning.\n",
            "Optimizing:  62% 185/300 [00:18<00:12,  9.36it/s]WARNING:root:Lossy conversion from float32 to uint8. Range [0, 1]. Convert image to uint8 prior to saving to suppress this warning.\n",
            "Optimizing:  62% 186/300 [00:18<00:12,  9.38it/s]WARNING:root:Lossy conversion from float32 to uint8. Range [0, 1]. Convert image to uint8 prior to saving to suppress this warning.\n",
            "Optimizing:  62% 187/300 [00:18<00:12,  9.39it/s]WARNING:root:Lossy conversion from float32 to uint8. Range [0, 1]. Convert image to uint8 prior to saving to suppress this warning.\n",
            "Optimizing:  63% 188/300 [00:18<00:11,  9.38it/s]WARNING:root:Lossy conversion from float32 to uint8. Range [0, 1]. Convert image to uint8 prior to saving to suppress this warning.\n",
            "Optimizing:  63% 189/300 [00:18<00:11,  9.37it/s]WARNING:root:Lossy conversion from float32 to uint8. Range [0, 1]. Convert image to uint8 prior to saving to suppress this warning.\n",
            "Optimizing:  63% 190/300 [00:19<00:11,  9.34it/s]WARNING:root:Lossy conversion from float32 to uint8. Range [0, 1]. Convert image to uint8 prior to saving to suppress this warning.\n",
            "Optimizing:  64% 191/300 [00:19<00:11,  9.37it/s]WARNING:root:Lossy conversion from float32 to uint8. Range [0, 1]. Convert image to uint8 prior to saving to suppress this warning.\n",
            "Optimizing:  64% 192/300 [00:19<00:11,  9.30it/s]WARNING:root:Lossy conversion from float32 to uint8. Range [0, 1]. Convert image to uint8 prior to saving to suppress this warning.\n",
            "Optimizing:  64% 193/300 [00:19<00:11,  9.33it/s]WARNING:root:Lossy conversion from float32 to uint8. Range [0, 1]. Convert image to uint8 prior to saving to suppress this warning.\n",
            "Optimizing:  65% 194/300 [00:19<00:11,  9.34it/s]WARNING:root:Lossy conversion from float32 to uint8. Range [0, 1]. Convert image to uint8 prior to saving to suppress this warning.\n",
            "Optimizing:  65% 195/300 [00:19<00:11,  9.25it/s]WARNING:root:Lossy conversion from float32 to uint8. Range [0, 1]. Convert image to uint8 prior to saving to suppress this warning.\n",
            "Optimizing:  65% 196/300 [00:19<00:11,  9.26it/s]WARNING:root:Lossy conversion from float32 to uint8. Range [0, 1]. Convert image to uint8 prior to saving to suppress this warning.\n",
            "Optimizing:  66% 197/300 [00:19<00:11,  9.32it/s]WARNING:root:Lossy conversion from float32 to uint8. Range [0, 1]. Convert image to uint8 prior to saving to suppress this warning.\n",
            "Optimizing:  66% 198/300 [00:19<00:10,  9.37it/s]WARNING:root:Lossy conversion from float32 to uint8. Range [0, 1]. Convert image to uint8 prior to saving to suppress this warning.\n",
            "Optimizing:  66% 199/300 [00:20<00:10,  9.39it/s]WARNING:root:Lossy conversion from float32 to uint8. Range [0, 1]. Convert image to uint8 prior to saving to suppress this warning.\n",
            "Optimizing:  67% 200/300 [00:20<00:10,  9.42it/s]WARNING:root:Lossy conversion from float32 to uint8. Range [0, 1]. Convert image to uint8 prior to saving to suppress this warning.\n",
            "Optimizing:  67% 201/300 [00:20<00:10,  9.43it/s]WARNING:root:Lossy conversion from float32 to uint8. Range [0, 1]. Convert image to uint8 prior to saving to suppress this warning.\n",
            "Optimizing:  67% 202/300 [00:20<00:10,  9.46it/s]WARNING:root:Lossy conversion from float32 to uint8. Range [0, 1]. Convert image to uint8 prior to saving to suppress this warning.\n",
            "Optimizing:  68% 203/300 [00:20<00:10,  9.49it/s]WARNING:root:Lossy conversion from float32 to uint8. Range [0, 1]. Convert image to uint8 prior to saving to suppress this warning.\n",
            "Optimizing:  68% 204/300 [00:20<00:10,  9.51it/s]WARNING:root:Lossy conversion from float32 to uint8. Range [0, 1]. Convert image to uint8 prior to saving to suppress this warning.\n",
            "Optimizing:  68% 205/300 [00:20<00:10,  9.49it/s]WARNING:root:Lossy conversion from float32 to uint8. Range [0, 1]. Convert image to uint8 prior to saving to suppress this warning.\n",
            "Optimizing:  69% 206/300 [00:20<00:09,  9.50it/s]WARNING:root:Lossy conversion from float32 to uint8. Range [0, 1]. Convert image to uint8 prior to saving to suppress this warning.\n",
            "Optimizing:  69% 207/300 [00:20<00:09,  9.51it/s]WARNING:root:Lossy conversion from float32 to uint8. Range [0, 1]. Convert image to uint8 prior to saving to suppress this warning.\n",
            "Optimizing:  69% 208/300 [00:21<00:09,  9.51it/s]WARNING:root:Lossy conversion from float32 to uint8. Range [0, 1]. Convert image to uint8 prior to saving to suppress this warning.\n",
            "Optimizing:  70% 209/300 [00:21<00:09,  9.51it/s]WARNING:root:Lossy conversion from float32 to uint8. Range [0, 1]. Convert image to uint8 prior to saving to suppress this warning.\n",
            "Optimizing:  70% 210/300 [00:21<00:09,  9.46it/s]WARNING:root:Lossy conversion from float32 to uint8. Range [0, 1]. Convert image to uint8 prior to saving to suppress this warning.\n",
            "Optimizing:  70% 211/300 [00:21<00:09,  9.44it/s]WARNING:root:Lossy conversion from float32 to uint8. Range [0, 1]. Convert image to uint8 prior to saving to suppress this warning.\n",
            "Optimizing:  71% 212/300 [00:21<00:09,  9.46it/s]WARNING:root:Lossy conversion from float32 to uint8. Range [0, 1]. Convert image to uint8 prior to saving to suppress this warning.\n",
            "Optimizing:  71% 213/300 [00:21<00:09,  9.45it/s]WARNING:root:Lossy conversion from float32 to uint8. Range [0, 1]. Convert image to uint8 prior to saving to suppress this warning.\n",
            "Optimizing:  71% 214/300 [00:21<00:09,  9.48it/s]WARNING:root:Lossy conversion from float32 to uint8. Range [0, 1]. Convert image to uint8 prior to saving to suppress this warning.\n",
            "Optimizing:  72% 215/300 [00:21<00:09,  9.43it/s]WARNING:root:Lossy conversion from float32 to uint8. Range [0, 1]. Convert image to uint8 prior to saving to suppress this warning.\n",
            "Optimizing:  72% 216/300 [00:21<00:08,  9.37it/s]WARNING:root:Lossy conversion from float32 to uint8. Range [0, 1]. Convert image to uint8 prior to saving to suppress this warning.\n",
            "Optimizing:  72% 217/300 [00:21<00:08,  9.28it/s]WARNING:root:Lossy conversion from float32 to uint8. Range [0, 1]. Convert image to uint8 prior to saving to suppress this warning.\n",
            "Optimizing:  73% 218/300 [00:22<00:08,  9.29it/s]WARNING:root:Lossy conversion from float32 to uint8. Range [0, 1]. Convert image to uint8 prior to saving to suppress this warning.\n",
            "Optimizing:  73% 219/300 [00:22<00:08,  9.34it/s]WARNING:root:Lossy conversion from float32 to uint8. Range [0, 1]. Convert image to uint8 prior to saving to suppress this warning.\n",
            "Optimizing:  73% 220/300 [00:22<00:08,  9.38it/s]WARNING:root:Lossy conversion from float32 to uint8. Range [0, 1]. Convert image to uint8 prior to saving to suppress this warning.\n",
            "Optimizing:  74% 221/300 [00:22<00:08,  9.43it/s]WARNING:root:Lossy conversion from float32 to uint8. Range [0, 1]. Convert image to uint8 prior to saving to suppress this warning.\n",
            "Optimizing:  74% 222/300 [00:22<00:08,  9.40it/s]WARNING:root:Lossy conversion from float32 to uint8. Range [0, 1]. Convert image to uint8 prior to saving to suppress this warning.\n",
            "Optimizing:  74% 223/300 [00:22<00:08,  9.43it/s]WARNING:root:Lossy conversion from float32 to uint8. Range [0, 1]. Convert image to uint8 prior to saving to suppress this warning.\n",
            "Optimizing:  75% 224/300 [00:22<00:08,  9.37it/s]WARNING:root:Lossy conversion from float32 to uint8. Range [0, 1]. Convert image to uint8 prior to saving to suppress this warning.\n",
            "Optimizing:  75% 225/300 [00:22<00:07,  9.42it/s]WARNING:root:Lossy conversion from float32 to uint8. Range [0, 1]. Convert image to uint8 prior to saving to suppress this warning.\n",
            "Optimizing:  75% 226/300 [00:22<00:07,  9.45it/s]WARNING:root:Lossy conversion from float32 to uint8. Range [0, 1]. Convert image to uint8 prior to saving to suppress this warning.\n",
            "Optimizing:  76% 227/300 [00:23<00:07,  9.47it/s]WARNING:root:Lossy conversion from float32 to uint8. Range [0, 1]. Convert image to uint8 prior to saving to suppress this warning.\n",
            "Optimizing:  76% 228/300 [00:23<00:07,  9.51it/s]WARNING:root:Lossy conversion from float32 to uint8. Range [0, 1]. Convert image to uint8 prior to saving to suppress this warning.\n",
            "Optimizing:  76% 229/300 [00:23<00:07,  9.46it/s]WARNING:root:Lossy conversion from float32 to uint8. Range [0, 1]. Convert image to uint8 prior to saving to suppress this warning.\n",
            "Optimizing:  77% 230/300 [00:23<00:07,  9.47it/s]WARNING:root:Lossy conversion from float32 to uint8. Range [0, 1]. Convert image to uint8 prior to saving to suppress this warning.\n",
            "Optimizing:  77% 231/300 [00:23<00:07,  9.52it/s]WARNING:root:Lossy conversion from float32 to uint8. Range [0, 1]. Convert image to uint8 prior to saving to suppress this warning.\n",
            "Optimizing:  77% 232/300 [00:23<00:07,  9.55it/s]WARNING:root:Lossy conversion from float32 to uint8. Range [0, 1]. Convert image to uint8 prior to saving to suppress this warning.\n",
            "Optimizing:  78% 233/300 [00:23<00:07,  9.48it/s]WARNING:root:Lossy conversion from float32 to uint8. Range [0, 1]. Convert image to uint8 prior to saving to suppress this warning.\n",
            "Optimizing:  78% 234/300 [00:23<00:06,  9.54it/s]WARNING:root:Lossy conversion from float32 to uint8. Range [0, 1]. Convert image to uint8 prior to saving to suppress this warning.\n",
            "Optimizing:  78% 235/300 [00:23<00:06,  9.57it/s]WARNING:root:Lossy conversion from float32 to uint8. Range [0, 1]. Convert image to uint8 prior to saving to suppress this warning.\n",
            "Optimizing:  79% 236/300 [00:23<00:06,  9.59it/s]WARNING:root:Lossy conversion from float32 to uint8. Range [0, 1]. Convert image to uint8 prior to saving to suppress this warning.\n",
            "Optimizing:  79% 237/300 [00:24<00:06,  9.59it/s]WARNING:root:Lossy conversion from float32 to uint8. Range [0, 1]. Convert image to uint8 prior to saving to suppress this warning.\n",
            "Optimizing:  79% 238/300 [00:24<00:06,  9.59it/s]WARNING:root:Lossy conversion from float32 to uint8. Range [0, 1]. Convert image to uint8 prior to saving to suppress this warning.\n",
            "Optimizing:  80% 239/300 [00:24<00:06,  9.55it/s]WARNING:root:Lossy conversion from float32 to uint8. Range [0, 1]. Convert image to uint8 prior to saving to suppress this warning.\n",
            "Optimizing:  80% 240/300 [00:24<00:06,  9.46it/s]WARNING:root:Lossy conversion from float32 to uint8. Range [0, 1]. Convert image to uint8 prior to saving to suppress this warning.\n",
            "Optimizing:  80% 241/300 [00:24<00:06,  9.51it/s]WARNING:root:Lossy conversion from float32 to uint8. Range [0, 1]. Convert image to uint8 prior to saving to suppress this warning.\n",
            "Optimizing:  81% 242/300 [00:24<00:06,  9.56it/s]WARNING:root:Lossy conversion from float32 to uint8. Range [0, 1]. Convert image to uint8 prior to saving to suppress this warning.\n",
            "Optimizing:  81% 243/300 [00:24<00:05,  9.56it/s]WARNING:root:Lossy conversion from float32 to uint8. Range [0, 1]. Convert image to uint8 prior to saving to suppress this warning.\n",
            "Optimizing:  81% 244/300 [00:24<00:05,  9.55it/s]WARNING:root:Lossy conversion from float32 to uint8. Range [0, 1]. Convert image to uint8 prior to saving to suppress this warning.\n",
            "Optimizing:  82% 245/300 [00:24<00:05,  9.59it/s]WARNING:root:Lossy conversion from float32 to uint8. Range [0, 1]. Convert image to uint8 prior to saving to suppress this warning.\n",
            "Optimizing:  82% 246/300 [00:25<00:05,  9.57it/s]WARNING:root:Lossy conversion from float32 to uint8. Range [0, 1]. Convert image to uint8 prior to saving to suppress this warning.\n",
            "Optimizing:  82% 247/300 [00:25<00:05,  9.59it/s]WARNING:root:Lossy conversion from float32 to uint8. Range [0, 1]. Convert image to uint8 prior to saving to suppress this warning.\n",
            "Optimizing:  83% 248/300 [00:25<00:05,  9.54it/s]WARNING:root:Lossy conversion from float32 to uint8. Range [0, 1]. Convert image to uint8 prior to saving to suppress this warning.\n",
            "Optimizing:  83% 249/300 [00:25<00:05,  9.57it/s]WARNING:root:Lossy conversion from float32 to uint8. Range [0, 1]. Convert image to uint8 prior to saving to suppress this warning.\n",
            "Optimizing:  83% 250/300 [00:25<00:05,  9.49it/s]WARNING:root:Lossy conversion from float32 to uint8. Range [0, 1]. Convert image to uint8 prior to saving to suppress this warning.\n",
            "Optimizing:  84% 251/300 [00:25<00:05,  9.50it/s]WARNING:root:Lossy conversion from float32 to uint8. Range [0, 1]. Convert image to uint8 prior to saving to suppress this warning.\n",
            "Optimizing:  84% 252/300 [00:25<00:05,  9.46it/s]WARNING:root:Lossy conversion from float32 to uint8. Range [0, 1]. Convert image to uint8 prior to saving to suppress this warning.\n",
            "Optimizing:  84% 253/300 [00:25<00:04,  9.48it/s]WARNING:root:Lossy conversion from float32 to uint8. Range [0, 1]. Convert image to uint8 prior to saving to suppress this warning.\n",
            "Optimizing:  85% 254/300 [00:25<00:04,  9.45it/s]WARNING:root:Lossy conversion from float32 to uint8. Range [0, 1]. Convert image to uint8 prior to saving to suppress this warning.\n",
            "Optimizing:  85% 255/300 [00:25<00:04,  9.49it/s]WARNING:root:Lossy conversion from float32 to uint8. Range [0, 1]. Convert image to uint8 prior to saving to suppress this warning.\n",
            "Optimizing:  85% 256/300 [00:26<00:04,  9.50it/s]WARNING:root:Lossy conversion from float32 to uint8. Range [0, 1]. Convert image to uint8 prior to saving to suppress this warning.\n",
            "Optimizing:  86% 257/300 [00:26<00:04,  9.53it/s]WARNING:root:Lossy conversion from float32 to uint8. Range [0, 1]. Convert image to uint8 prior to saving to suppress this warning.\n",
            "Optimizing:  86% 258/300 [00:26<00:04,  9.52it/s]WARNING:root:Lossy conversion from float32 to uint8. Range [0, 1]. Convert image to uint8 prior to saving to suppress this warning.\n",
            "Optimizing:  86% 259/300 [00:26<00:04,  9.53it/s]WARNING:root:Lossy conversion from float32 to uint8. Range [0, 1]. Convert image to uint8 prior to saving to suppress this warning.\n",
            "Optimizing:  87% 260/300 [00:26<00:04,  9.58it/s]WARNING:root:Lossy conversion from float32 to uint8. Range [0, 1]. Convert image to uint8 prior to saving to suppress this warning.\n",
            "Optimizing:  87% 261/300 [00:26<00:04,  9.58it/s]WARNING:root:Lossy conversion from float32 to uint8. Range [0, 1]. Convert image to uint8 prior to saving to suppress this warning.\n",
            "Optimizing:  87% 262/300 [00:26<00:03,  9.61it/s]WARNING:root:Lossy conversion from float32 to uint8. Range [0, 1]. Convert image to uint8 prior to saving to suppress this warning.\n",
            "Optimizing:  88% 263/300 [00:26<00:03,  9.61it/s]WARNING:root:Lossy conversion from float32 to uint8. Range [0, 1]. Convert image to uint8 prior to saving to suppress this warning.\n",
            "Optimizing:  88% 264/300 [00:26<00:03,  9.65it/s]WARNING:root:Lossy conversion from float32 to uint8. Range [0, 1]. Convert image to uint8 prior to saving to suppress this warning.\n",
            "Optimizing:  88% 265/300 [00:27<00:03,  9.62it/s]WARNING:root:Lossy conversion from float32 to uint8. Range [0, 1]. Convert image to uint8 prior to saving to suppress this warning.\n",
            "Optimizing:  89% 266/300 [00:27<00:03,  9.61it/s]WARNING:root:Lossy conversion from float32 to uint8. Range [0, 1]. Convert image to uint8 prior to saving to suppress this warning.\n",
            "Optimizing:  89% 267/300 [00:27<00:03,  9.64it/s]WARNING:root:Lossy conversion from float32 to uint8. Range [0, 1]. Convert image to uint8 prior to saving to suppress this warning.\n",
            "Optimizing:  89% 268/300 [00:27<00:03,  9.60it/s]WARNING:root:Lossy conversion from float32 to uint8. Range [0, 1]. Convert image to uint8 prior to saving to suppress this warning.\n",
            "Optimizing:  90% 269/300 [00:27<00:03,  9.58it/s]WARNING:root:Lossy conversion from float32 to uint8. Range [0, 1]. Convert image to uint8 prior to saving to suppress this warning.\n",
            "Optimizing:  90% 270/300 [00:27<00:03,  9.61it/s]WARNING:root:Lossy conversion from float32 to uint8. Range [0, 1]. Convert image to uint8 prior to saving to suppress this warning.\n",
            "Optimizing:  90% 271/300 [00:27<00:03,  9.62it/s]WARNING:root:Lossy conversion from float32 to uint8. Range [0, 1]. Convert image to uint8 prior to saving to suppress this warning.\n",
            "Optimizing:  91% 272/300 [00:27<00:02,  9.64it/s]WARNING:root:Lossy conversion from float32 to uint8. Range [0, 1]. Convert image to uint8 prior to saving to suppress this warning.\n",
            "Optimizing:  91% 273/300 [00:27<00:02,  9.65it/s]WARNING:root:Lossy conversion from float32 to uint8. Range [0, 1]. Convert image to uint8 prior to saving to suppress this warning.\n",
            "Optimizing:  91% 274/300 [00:27<00:02,  9.64it/s]WARNING:root:Lossy conversion from float32 to uint8. Range [0, 1]. Convert image to uint8 prior to saving to suppress this warning.\n",
            "Optimizing:  92% 275/300 [00:28<00:02,  9.66it/s]WARNING:root:Lossy conversion from float32 to uint8. Range [0, 1]. Convert image to uint8 prior to saving to suppress this warning.\n",
            "Optimizing:  92% 276/300 [00:28<00:02,  9.68it/s]WARNING:root:Lossy conversion from float32 to uint8. Range [0, 1]. Convert image to uint8 prior to saving to suppress this warning.\n",
            "Optimizing:  92% 277/300 [00:28<00:02,  9.69it/s]WARNING:root:Lossy conversion from float32 to uint8. Range [0, 1]. Convert image to uint8 prior to saving to suppress this warning.\n",
            "Optimizing:  93% 278/300 [00:28<00:02,  9.61it/s]WARNING:root:Lossy conversion from float32 to uint8. Range [0, 1]. Convert image to uint8 prior to saving to suppress this warning.\n",
            "Optimizing:  93% 279/300 [00:28<00:02,  9.63it/s]WARNING:root:Lossy conversion from float32 to uint8. Range [0, 1]. Convert image to uint8 prior to saving to suppress this warning.\n",
            "Optimizing:  93% 280/300 [00:28<00:02,  9.63it/s]WARNING:root:Lossy conversion from float32 to uint8. Range [0, 1]. Convert image to uint8 prior to saving to suppress this warning.\n",
            "Optimizing:  94% 281/300 [00:28<00:01,  9.65it/s]WARNING:root:Lossy conversion from float32 to uint8. Range [0, 1]. Convert image to uint8 prior to saving to suppress this warning.\n",
            "Optimizing:  94% 282/300 [00:28<00:01,  9.61it/s]WARNING:root:Lossy conversion from float32 to uint8. Range [0, 1]. Convert image to uint8 prior to saving to suppress this warning.\n",
            "Optimizing:  94% 283/300 [00:28<00:01,  9.62it/s]WARNING:root:Lossy conversion from float32 to uint8. Range [0, 1]. Convert image to uint8 prior to saving to suppress this warning.\n",
            "Optimizing:  95% 284/300 [00:28<00:01,  9.63it/s]WARNING:root:Lossy conversion from float32 to uint8. Range [0, 1]. Convert image to uint8 prior to saving to suppress this warning.\n",
            "Optimizing:  95% 285/300 [00:29<00:01,  9.63it/s]WARNING:root:Lossy conversion from float32 to uint8. Range [0, 1]. Convert image to uint8 prior to saving to suppress this warning.\n",
            "Optimizing:  95% 286/300 [00:29<00:01,  9.62it/s]WARNING:root:Lossy conversion from float32 to uint8. Range [0, 1]. Convert image to uint8 prior to saving to suppress this warning.\n",
            "Optimizing:  96% 287/300 [00:29<00:01,  9.63it/s]WARNING:root:Lossy conversion from float32 to uint8. Range [0, 1]. Convert image to uint8 prior to saving to suppress this warning.\n",
            "Optimizing:  96% 288/300 [00:29<00:01,  9.64it/s]WARNING:root:Lossy conversion from float32 to uint8. Range [0, 1]. Convert image to uint8 prior to saving to suppress this warning.\n",
            "Optimizing:  96% 289/300 [00:29<00:01,  9.64it/s]WARNING:root:Lossy conversion from float32 to uint8. Range [0, 1]. Convert image to uint8 prior to saving to suppress this warning.\n",
            "Optimizing:  97% 290/300 [00:29<00:01,  9.66it/s]WARNING:root:Lossy conversion from float32 to uint8. Range [0, 1]. Convert image to uint8 prior to saving to suppress this warning.\n",
            "Optimizing:  97% 291/300 [00:29<00:00,  9.67it/s]WARNING:root:Lossy conversion from float32 to uint8. Range [0, 1]. Convert image to uint8 prior to saving to suppress this warning.\n",
            "Optimizing:  97% 292/300 [00:29<00:00,  9.62it/s]WARNING:root:Lossy conversion from float32 to uint8. Range [0, 1]. Convert image to uint8 prior to saving to suppress this warning.\n",
            "Optimizing:  98% 293/300 [00:29<00:00,  9.62it/s]WARNING:root:Lossy conversion from float32 to uint8. Range [0, 1]. Convert image to uint8 prior to saving to suppress this warning.\n",
            "Optimizing:  98% 294/300 [00:30<00:00,  9.53it/s]WARNING:root:Lossy conversion from float32 to uint8. Range [0, 1]. Convert image to uint8 prior to saving to suppress this warning.\n",
            "Optimizing:  98% 295/300 [00:30<00:00,  9.57it/s]WARNING:root:Lossy conversion from float32 to uint8. Range [0, 1]. Convert image to uint8 prior to saving to suppress this warning.\n",
            "Optimizing:  99% 296/300 [00:30<00:00,  9.54it/s]WARNING:root:Lossy conversion from float32 to uint8. Range [0, 1]. Convert image to uint8 prior to saving to suppress this warning.\n",
            "Optimizing:  99% 297/300 [00:30<00:00,  9.58it/s]WARNING:root:Lossy conversion from float32 to uint8. Range [0, 1]. Convert image to uint8 prior to saving to suppress this warning.\n",
            "Optimizing:  99% 298/300 [00:30<00:00,  9.59it/s]WARNING:root:Lossy conversion from float32 to uint8. Range [0, 1]. Convert image to uint8 prior to saving to suppress this warning.\n",
            "Optimizing: 100% 299/300 [00:30<00:00,  9.43it/s]WARNING:root:Lossy conversion from float32 to uint8. Range [0, 1]. Convert image to uint8 prior to saving to suppress this warning.\n",
            "Optimizing: 100% 300/300 [00:30<00:00,  9.79it/s]\n",
            "Drawing:   0% 0/90 [00:00<?, ?it/s]WARNING:root:Lossy conversion from float32 to uint8. Range [0, 1]. Convert image to uint8 prior to saving to suppress this warning.\n",
            "Drawing:   0% 0/90 [00:00<?, ?it/s]WARNING:root:Lossy conversion from float32 to uint8. Range [0, 1]. Convert image to uint8 prior to saving to suppress this warning.\n",
            "Drawing:   0% 0/90 [00:00<?, ?it/s]WARNING:root:Lossy conversion from float32 to uint8. Range [0, 1]. Convert image to uint8 prior to saving to suppress this warning.\n",
            "Drawing:   3% 3/90 [00:00<00:03, 25.68it/s]WARNING:root:Lossy conversion from float32 to uint8. Range [0, 1]. Convert image to uint8 prior to saving to suppress this warning.\n",
            "Drawing:   3% 3/90 [00:00<00:03, 25.68it/s]WARNING:root:Lossy conversion from float32 to uint8. Range [0, 1]. Convert image to uint8 prior to saving to suppress this warning.\n",
            "Drawing:   3% 3/90 [00:00<00:03, 25.68it/s]WARNING:root:Lossy conversion from float32 to uint8. Range [0, 1]. Convert image to uint8 prior to saving to suppress this warning.\n",
            "Drawing:   7% 6/90 [00:00<00:03, 24.53it/s]WARNING:root:Lossy conversion from float32 to uint8. Range [0, 1]. Convert image to uint8 prior to saving to suppress this warning.\n",
            "Drawing:   7% 6/90 [00:00<00:03, 24.53it/s]WARNING:root:Lossy conversion from float32 to uint8. Range [0, 1]. Convert image to uint8 prior to saving to suppress this warning.\n",
            "Drawing:   7% 6/90 [00:00<00:03, 24.53it/s]WARNING:root:Lossy conversion from float32 to uint8. Range [0, 1]. Convert image to uint8 prior to saving to suppress this warning.\n",
            "Drawing:  10% 9/90 [00:00<00:03, 24.49it/s]WARNING:root:Lossy conversion from float32 to uint8. Range [0, 1]. Convert image to uint8 prior to saving to suppress this warning.\n",
            "Drawing:  10% 9/90 [00:00<00:03, 24.49it/s]WARNING:root:Lossy conversion from float32 to uint8. Range [0, 1]. Convert image to uint8 prior to saving to suppress this warning.\n",
            "Drawing:  10% 9/90 [00:00<00:03, 24.49it/s]WARNING:root:Lossy conversion from float32 to uint8. Range [0, 1]. Convert image to uint8 prior to saving to suppress this warning.\n",
            "Drawing:  13% 12/90 [00:00<00:03, 24.55it/s]WARNING:root:Lossy conversion from float32 to uint8. Range [0, 1]. Convert image to uint8 prior to saving to suppress this warning.\n",
            "Drawing:  13% 12/90 [00:00<00:03, 24.55it/s]WARNING:root:Lossy conversion from float32 to uint8. Range [0, 1]. Convert image to uint8 prior to saving to suppress this warning.\n",
            "Drawing:  13% 12/90 [00:00<00:03, 24.55it/s]WARNING:root:Lossy conversion from float32 to uint8. Range [0, 1]. Convert image to uint8 prior to saving to suppress this warning.\n",
            "Drawing:  17% 15/90 [00:00<00:03, 24.67it/s]WARNING:root:Lossy conversion from float32 to uint8. Range [0, 1]. Convert image to uint8 prior to saving to suppress this warning.\n",
            "Drawing:  17% 15/90 [00:00<00:03, 24.67it/s]WARNING:root:Lossy conversion from float32 to uint8. Range [0, 1]. Convert image to uint8 prior to saving to suppress this warning.\n",
            "Drawing:  17% 15/90 [00:00<00:03, 24.67it/s]WARNING:root:Lossy conversion from float32 to uint8. Range [0, 1]. Convert image to uint8 prior to saving to suppress this warning.\n",
            "Drawing:  20% 18/90 [00:00<00:02, 25.28it/s]WARNING:root:Lossy conversion from float32 to uint8. Range [0, 1]. Convert image to uint8 prior to saving to suppress this warning.\n",
            "Drawing:  20% 18/90 [00:00<00:02, 25.28it/s]WARNING:root:Lossy conversion from float32 to uint8. Range [0, 1]. Convert image to uint8 prior to saving to suppress this warning.\n",
            "Drawing:  20% 18/90 [00:00<00:02, 25.28it/s]WARNING:root:Lossy conversion from float32 to uint8. Range [0, 1]. Convert image to uint8 prior to saving to suppress this warning.\n",
            "Drawing:  23% 21/90 [00:00<00:02, 25.62it/s]WARNING:root:Lossy conversion from float32 to uint8. Range [0, 1]. Convert image to uint8 prior to saving to suppress this warning.\n",
            "Drawing:  23% 21/90 [00:00<00:02, 25.62it/s]WARNING:root:Lossy conversion from float32 to uint8. Range [0, 1]. Convert image to uint8 prior to saving to suppress this warning.\n",
            "Drawing:  23% 21/90 [00:00<00:02, 25.62it/s]WARNING:root:Lossy conversion from float32 to uint8. Range [0, 1]. Convert image to uint8 prior to saving to suppress this warning.\n",
            "Drawing:  27% 24/90 [00:00<00:02, 26.10it/s]WARNING:root:Lossy conversion from float32 to uint8. Range [0, 1]. Convert image to uint8 prior to saving to suppress this warning.\n",
            "Drawing:  27% 24/90 [00:00<00:02, 26.10it/s]WARNING:root:Lossy conversion from float32 to uint8. Range [0, 1]. Convert image to uint8 prior to saving to suppress this warning.\n",
            "Drawing:  27% 24/90 [00:01<00:02, 26.10it/s]WARNING:root:Lossy conversion from float32 to uint8. Range [0, 1]. Convert image to uint8 prior to saving to suppress this warning.\n",
            "Drawing:  30% 27/90 [00:01<00:02, 26.47it/s]WARNING:root:Lossy conversion from float32 to uint8. Range [0, 1]. Convert image to uint8 prior to saving to suppress this warning.\n",
            "Drawing:  30% 27/90 [00:01<00:02, 26.47it/s]WARNING:root:Lossy conversion from float32 to uint8. Range [0, 1]. Convert image to uint8 prior to saving to suppress this warning.\n",
            "Drawing:  30% 27/90 [00:01<00:02, 26.47it/s]WARNING:root:Lossy conversion from float32 to uint8. Range [0, 1]. Convert image to uint8 prior to saving to suppress this warning.\n",
            "Drawing:  33% 30/90 [00:01<00:02, 26.27it/s]WARNING:root:Lossy conversion from float32 to uint8. Range [0, 1]. Convert image to uint8 prior to saving to suppress this warning.\n",
            "Drawing:  33% 30/90 [00:01<00:02, 26.27it/s]WARNING:root:Lossy conversion from float32 to uint8. Range [0, 1]. Convert image to uint8 prior to saving to suppress this warning.\n",
            "Drawing:  33% 30/90 [00:01<00:02, 26.27it/s]WARNING:root:Lossy conversion from float32 to uint8. Range [0, 1]. Convert image to uint8 prior to saving to suppress this warning.\n",
            "Drawing:  37% 33/90 [00:01<00:02, 25.70it/s]WARNING:root:Lossy conversion from float32 to uint8. Range [0, 1]. Convert image to uint8 prior to saving to suppress this warning.\n",
            "Drawing:  37% 33/90 [00:01<00:02, 25.70it/s]WARNING:root:Lossy conversion from float32 to uint8. Range [0, 1]. Convert image to uint8 prior to saving to suppress this warning.\n",
            "Drawing:  37% 33/90 [00:01<00:02, 25.70it/s]WARNING:root:Lossy conversion from float32 to uint8. Range [0, 1]. Convert image to uint8 prior to saving to suppress this warning.\n",
            "Drawing:  40% 36/90 [00:01<00:02, 25.61it/s]WARNING:root:Lossy conversion from float32 to uint8. Range [0, 1]. Convert image to uint8 prior to saving to suppress this warning.\n",
            "Drawing:  40% 36/90 [00:01<00:02, 25.61it/s]WARNING:root:Lossy conversion from float32 to uint8. Range [0, 1]. Convert image to uint8 prior to saving to suppress this warning.\n",
            "Drawing:  40% 36/90 [00:01<00:02, 25.61it/s]WARNING:root:Lossy conversion from float32 to uint8. Range [0, 1]. Convert image to uint8 prior to saving to suppress this warning.\n",
            "Drawing:  43% 39/90 [00:01<00:02, 25.26it/s]WARNING:root:Lossy conversion from float32 to uint8. Range [0, 1]. Convert image to uint8 prior to saving to suppress this warning.\n",
            "Drawing:  43% 39/90 [00:01<00:02, 25.26it/s]WARNING:root:Lossy conversion from float32 to uint8. Range [0, 1]. Convert image to uint8 prior to saving to suppress this warning.\n",
            "Drawing:  43% 39/90 [00:01<00:02, 25.26it/s]WARNING:root:Lossy conversion from float32 to uint8. Range [0, 1]. Convert image to uint8 prior to saving to suppress this warning.\n",
            "Drawing:  47% 42/90 [00:01<00:01, 25.11it/s]WARNING:root:Lossy conversion from float32 to uint8. Range [0, 1]. Convert image to uint8 prior to saving to suppress this warning.\n",
            "Drawing:  47% 42/90 [00:01<00:01, 25.11it/s]WARNING:root:Lossy conversion from float32 to uint8. Range [0, 1]. Convert image to uint8 prior to saving to suppress this warning.\n",
            "Drawing:  47% 42/90 [00:01<00:01, 25.11it/s]WARNING:root:Lossy conversion from float32 to uint8. Range [0, 1]. Convert image to uint8 prior to saving to suppress this warning.\n",
            "Drawing:  50% 45/90 [00:01<00:01, 25.15it/s]WARNING:root:Lossy conversion from float32 to uint8. Range [0, 1]. Convert image to uint8 prior to saving to suppress this warning.\n",
            "Drawing:  50% 45/90 [00:01<00:01, 25.15it/s]WARNING:root:Lossy conversion from float32 to uint8. Range [0, 1]. Convert image to uint8 prior to saving to suppress this warning.\n",
            "Drawing:  50% 45/90 [00:01<00:01, 25.15it/s]WARNING:root:Lossy conversion from float32 to uint8. Range [0, 1]. Convert image to uint8 prior to saving to suppress this warning.\n",
            "Drawing:  53% 48/90 [00:01<00:01, 21.92it/s]WARNING:root:Lossy conversion from float32 to uint8. Range [0, 1]. Convert image to uint8 prior to saving to suppress this warning.\n",
            "Drawing:  53% 48/90 [00:01<00:01, 21.92it/s]WARNING:root:Lossy conversion from float32 to uint8. Range [0, 1]. Convert image to uint8 prior to saving to suppress this warning.\n",
            "Drawing:  53% 48/90 [00:02<00:01, 21.92it/s]WARNING:root:Lossy conversion from float32 to uint8. Range [0, 1]. Convert image to uint8 prior to saving to suppress this warning.\n",
            "Drawing:  57% 51/90 [00:02<00:01, 23.24it/s]WARNING:root:Lossy conversion from float32 to uint8. Range [0, 1]. Convert image to uint8 prior to saving to suppress this warning.\n",
            "Drawing:  57% 51/90 [00:02<00:01, 23.24it/s]WARNING:root:Lossy conversion from float32 to uint8. Range [0, 1]. Convert image to uint8 prior to saving to suppress this warning.\n",
            "Drawing:  57% 51/90 [00:02<00:01, 23.24it/s]WARNING:root:Lossy conversion from float32 to uint8. Range [0, 1]. Convert image to uint8 prior to saving to suppress this warning.\n",
            "Drawing:  60% 54/90 [00:02<00:01, 24.60it/s]WARNING:root:Lossy conversion from float32 to uint8. Range [0, 1]. Convert image to uint8 prior to saving to suppress this warning.\n",
            "Drawing:  60% 54/90 [00:02<00:01, 24.60it/s]WARNING:root:Lossy conversion from float32 to uint8. Range [0, 1]. Convert image to uint8 prior to saving to suppress this warning.\n",
            "Drawing:  60% 54/90 [00:02<00:01, 24.60it/s]WARNING:root:Lossy conversion from float32 to uint8. Range [0, 1]. Convert image to uint8 prior to saving to suppress this warning.\n",
            "Drawing:  63% 57/90 [00:02<00:01, 25.06it/s]WARNING:root:Lossy conversion from float32 to uint8. Range [0, 1]. Convert image to uint8 prior to saving to suppress this warning.\n",
            "Drawing:  63% 57/90 [00:02<00:01, 25.06it/s]WARNING:root:Lossy conversion from float32 to uint8. Range [0, 1]. Convert image to uint8 prior to saving to suppress this warning.\n",
            "Drawing:  63% 57/90 [00:02<00:01, 25.06it/s]WARNING:root:Lossy conversion from float32 to uint8. Range [0, 1]. Convert image to uint8 prior to saving to suppress this warning.\n",
            "Drawing:  63% 57/90 [00:02<00:01, 25.06it/s]WARNING:root:Lossy conversion from float32 to uint8. Range [0, 1]. Convert image to uint8 prior to saving to suppress this warning.\n",
            "Drawing:  68% 61/90 [00:02<00:01, 26.70it/s]WARNING:root:Lossy conversion from float32 to uint8. Range [0, 1]. Convert image to uint8 prior to saving to suppress this warning.\n",
            "Drawing:  68% 61/90 [00:02<00:01, 26.70it/s]WARNING:root:Lossy conversion from float32 to uint8. Range [0, 1]. Convert image to uint8 prior to saving to suppress this warning.\n",
            "Drawing:  68% 61/90 [00:02<00:01, 26.70it/s]WARNING:root:Lossy conversion from float32 to uint8. Range [0, 1]. Convert image to uint8 prior to saving to suppress this warning.\n",
            "Drawing:  71% 64/90 [00:02<00:01, 23.30it/s]WARNING:root:Lossy conversion from float32 to uint8. Range [0, 1]. Convert image to uint8 prior to saving to suppress this warning.\n",
            "Drawing:  71% 64/90 [00:02<00:01, 23.30it/s]WARNING:root:Lossy conversion from float32 to uint8. Range [0, 1]. Convert image to uint8 prior to saving to suppress this warning.\n",
            "Drawing:  71% 64/90 [00:02<00:01, 23.30it/s]WARNING:root:Lossy conversion from float32 to uint8. Range [0, 1]. Convert image to uint8 prior to saving to suppress this warning.\n",
            "Drawing:  71% 64/90 [00:02<00:01, 23.30it/s]WARNING:root:Lossy conversion from float32 to uint8. Range [0, 1]. Convert image to uint8 prior to saving to suppress this warning.\n",
            "Drawing:  76% 68/90 [00:02<00:00, 25.28it/s]WARNING:root:Lossy conversion from float32 to uint8. Range [0, 1]. Convert image to uint8 prior to saving to suppress this warning.\n",
            "Drawing:  76% 68/90 [00:02<00:00, 25.28it/s]WARNING:root:Lossy conversion from float32 to uint8. Range [0, 1]. Convert image to uint8 prior to saving to suppress this warning.\n",
            "Drawing:  76% 68/90 [00:02<00:00, 25.28it/s]WARNING:root:Lossy conversion from float32 to uint8. Range [0, 1]. Convert image to uint8 prior to saving to suppress this warning.\n",
            "Drawing:  76% 68/90 [00:02<00:00, 25.28it/s]WARNING:root:Lossy conversion from float32 to uint8. Range [0, 1]. Convert image to uint8 prior to saving to suppress this warning.\n",
            "Drawing:  80% 72/90 [00:02<00:00, 26.84it/s]WARNING:root:Lossy conversion from float32 to uint8. Range [0, 1]. Convert image to uint8 prior to saving to suppress this warning.\n",
            "Drawing:  80% 72/90 [00:02<00:00, 26.84it/s]WARNING:root:Lossy conversion from float32 to uint8. Range [0, 1]. Convert image to uint8 prior to saving to suppress this warning.\n",
            "Drawing:  80% 72/90 [00:02<00:00, 26.84it/s]WARNING:root:Lossy conversion from float32 to uint8. Range [0, 1]. Convert image to uint8 prior to saving to suppress this warning.\n",
            "Drawing:  83% 75/90 [00:02<00:00, 27.24it/s]WARNING:root:Lossy conversion from float32 to uint8. Range [0, 1]. Convert image to uint8 prior to saving to suppress this warning.\n",
            "Drawing:  83% 75/90 [00:02<00:00, 27.24it/s]WARNING:root:Lossy conversion from float32 to uint8. Range [0, 1]. Convert image to uint8 prior to saving to suppress this warning.\n",
            "Drawing:  83% 75/90 [00:03<00:00, 27.24it/s]WARNING:root:Lossy conversion from float32 to uint8. Range [0, 1]. Convert image to uint8 prior to saving to suppress this warning.\n",
            "Drawing:  83% 75/90 [00:03<00:00, 27.24it/s]WARNING:root:Lossy conversion from float32 to uint8. Range [0, 1]. Convert image to uint8 prior to saving to suppress this warning.\n",
            "Drawing:  88% 79/90 [00:03<00:00, 28.16it/s]WARNING:root:Lossy conversion from float32 to uint8. Range [0, 1]. Convert image to uint8 prior to saving to suppress this warning.\n",
            "Drawing:  88% 79/90 [00:03<00:00, 28.16it/s]WARNING:root:Lossy conversion from float32 to uint8. Range [0, 1]. Convert image to uint8 prior to saving to suppress this warning.\n",
            "Drawing:  88% 79/90 [00:03<00:00, 28.16it/s]WARNING:root:Lossy conversion from float32 to uint8. Range [0, 1]. Convert image to uint8 prior to saving to suppress this warning.\n",
            "Drawing:  91% 82/90 [00:03<00:00, 25.32it/s]WARNING:root:Lossy conversion from float32 to uint8. Range [0, 1]. Convert image to uint8 prior to saving to suppress this warning.\n",
            "Drawing:  91% 82/90 [00:03<00:00, 25.32it/s]WARNING:root:Lossy conversion from float32 to uint8. Range [0, 1]. Convert image to uint8 prior to saving to suppress this warning.\n",
            "Drawing:  91% 82/90 [00:03<00:00, 25.32it/s]WARNING:root:Lossy conversion from float32 to uint8. Range [0, 1]. Convert image to uint8 prior to saving to suppress this warning.\n",
            "Drawing:  94% 85/90 [00:03<00:00, 25.19it/s]WARNING:root:Lossy conversion from float32 to uint8. Range [0, 1]. Convert image to uint8 prior to saving to suppress this warning.\n",
            "Drawing:  94% 85/90 [00:03<00:00, 25.19it/s]WARNING:root:Lossy conversion from float32 to uint8. Range [0, 1]. Convert image to uint8 prior to saving to suppress this warning.\n",
            "Drawing:  94% 85/90 [00:03<00:00, 25.19it/s]WARNING:root:Lossy conversion from float32 to uint8. Range [0, 1]. Convert image to uint8 prior to saving to suppress this warning.\n",
            "Drawing:  98% 88/90 [00:03<00:00, 25.89it/s]WARNING:root:Lossy conversion from float32 to uint8. Range [0, 1]. Convert image to uint8 prior to saving to suppress this warning.\n",
            "Drawing:  98% 88/90 [00:03<00:00, 25.89it/s]WARNING:root:Lossy conversion from float32 to uint8. Range [0, 1]. Convert image to uint8 prior to saving to suppress this warning.\n",
            "Drawing: 100% 90/90 [00:03<00:00, 25.38it/s]\n"
          ]
        }
      ]
    },
    {
      "cell_type": "code",
      "source": [
        "!python ./examples/example3.py"
      ],
      "metadata": {
        "colab": {
          "base_uri": "https://localhost:8080/"
        },
        "id": "KEeHJ6WqM-Md",
        "outputId": "aef2f63b-485e-46a0-85be-394db63bd893"
      },
      "execution_count": 10,
      "outputs": [
        {
          "output_type": "stream",
          "name": "stdout",
          "text": [
            "Optimizing: 100% 300/300 [00:30<00:00,  9.88it/s]\n",
            "Drawing:   0% 0/90 [00:00<?, ?it/s]WARNING:root:Lossy conversion from float32 to uint8. Range [0, 1]. Convert image to uint8 prior to saving to suppress this warning.\n",
            "Drawing:   1% 1/90 [00:00<00:13,  6.60it/s]WARNING:root:Lossy conversion from float32 to uint8. Range [0, 1]. Convert image to uint8 prior to saving to suppress this warning.\n",
            "Drawing:   1% 1/90 [00:00<00:13,  6.60it/s]WARNING:root:Lossy conversion from float32 to uint8. Range [0, 1]. Convert image to uint8 prior to saving to suppress this warning.\n",
            "Drawing:   3% 3/90 [00:00<00:07, 11.34it/s]WARNING:root:Lossy conversion from float32 to uint8. Range [0, 1]. Convert image to uint8 prior to saving to suppress this warning.\n",
            "Drawing:   3% 3/90 [00:00<00:07, 11.34it/s]WARNING:root:Lossy conversion from float32 to uint8. Range [0, 1]. Convert image to uint8 prior to saving to suppress this warning.\n",
            "Drawing:   6% 5/90 [00:00<00:06, 13.10it/s]WARNING:root:Lossy conversion from float32 to uint8. Range [0, 1]. Convert image to uint8 prior to saving to suppress this warning.\n",
            "Drawing:   6% 5/90 [00:00<00:06, 13.10it/s]WARNING:root:Lossy conversion from float32 to uint8. Range [0, 1]. Convert image to uint8 prior to saving to suppress this warning.\n",
            "Drawing:   8% 7/90 [00:00<00:05, 14.09it/s]WARNING:root:Lossy conversion from float32 to uint8. Range [0, 1]. Convert image to uint8 prior to saving to suppress this warning.\n",
            "Drawing:   8% 7/90 [00:00<00:05, 14.09it/s]WARNING:root:Lossy conversion from float32 to uint8. Range [0, 1]. Convert image to uint8 prior to saving to suppress this warning.\n",
            "Drawing:  10% 9/90 [00:00<00:05, 14.73it/s]WARNING:root:Lossy conversion from float32 to uint8. Range [0, 1]. Convert image to uint8 prior to saving to suppress this warning.\n",
            "Drawing:  10% 9/90 [00:00<00:05, 14.73it/s]WARNING:root:Lossy conversion from float32 to uint8. Range [0, 1]. Convert image to uint8 prior to saving to suppress this warning.\n",
            "Drawing:  12% 11/90 [00:00<00:05, 15.11it/s]WARNING:root:Lossy conversion from float32 to uint8. Range [0, 1]. Convert image to uint8 prior to saving to suppress this warning.\n",
            "Drawing:  12% 11/90 [00:00<00:05, 15.11it/s]WARNING:root:Lossy conversion from float32 to uint8. Range [0, 1]. Convert image to uint8 prior to saving to suppress this warning.\n",
            "Drawing:  14% 13/90 [00:00<00:04, 15.78it/s]WARNING:root:Lossy conversion from float32 to uint8. Range [0, 1]. Convert image to uint8 prior to saving to suppress this warning.\n",
            "Drawing:  14% 13/90 [00:00<00:04, 15.78it/s]WARNING:root:Lossy conversion from float32 to uint8. Range [0, 1]. Convert image to uint8 prior to saving to suppress this warning.\n",
            "Drawing:  17% 15/90 [00:01<00:04, 16.38it/s]WARNING:root:Lossy conversion from float32 to uint8. Range [0, 1]. Convert image to uint8 prior to saving to suppress this warning.\n",
            "Drawing:  17% 15/90 [00:01<00:04, 16.38it/s]WARNING:root:Lossy conversion from float32 to uint8. Range [0, 1]. Convert image to uint8 prior to saving to suppress this warning.\n",
            "Drawing:  19% 17/90 [00:01<00:04, 16.24it/s]WARNING:root:Lossy conversion from float32 to uint8. Range [0, 1]. Convert image to uint8 prior to saving to suppress this warning.\n",
            "Drawing:  19% 17/90 [00:01<00:04, 16.24it/s]WARNING:root:Lossy conversion from float32 to uint8. Range [0, 1]. Convert image to uint8 prior to saving to suppress this warning.\n",
            "Drawing:  21% 19/90 [00:01<00:04, 16.57it/s]WARNING:root:Lossy conversion from float32 to uint8. Range [0, 1]. Convert image to uint8 prior to saving to suppress this warning.\n",
            "Drawing:  21% 19/90 [00:01<00:04, 16.57it/s]WARNING:root:Lossy conversion from float32 to uint8. Range [0, 1]. Convert image to uint8 prior to saving to suppress this warning.\n",
            "Drawing:  23% 21/90 [00:01<00:04, 17.17it/s]WARNING:root:Lossy conversion from float32 to uint8. Range [0, 1]. Convert image to uint8 prior to saving to suppress this warning.\n",
            "Drawing:  23% 21/90 [00:01<00:04, 17.17it/s]WARNING:root:Lossy conversion from float32 to uint8. Range [0, 1]. Convert image to uint8 prior to saving to suppress this warning.\n",
            "Drawing:  26% 23/90 [00:01<00:03, 17.60it/s]WARNING:root:Lossy conversion from float32 to uint8. Range [0, 1]. Convert image to uint8 prior to saving to suppress this warning.\n",
            "Drawing:  26% 23/90 [00:01<00:03, 17.60it/s]WARNING:root:Lossy conversion from float32 to uint8. Range [0, 1]. Convert image to uint8 prior to saving to suppress this warning.\n",
            "Drawing:  28% 25/90 [00:01<00:03, 17.70it/s]WARNING:root:Lossy conversion from float32 to uint8. Range [0, 1]. Convert image to uint8 prior to saving to suppress this warning.\n",
            "Drawing:  28% 25/90 [00:01<00:03, 17.70it/s]WARNING:root:Lossy conversion from float32 to uint8. Range [0, 1]. Convert image to uint8 prior to saving to suppress this warning.\n",
            "Drawing:  30% 27/90 [00:01<00:03, 18.21it/s]WARNING:root:Lossy conversion from float32 to uint8. Range [0, 1]. Convert image to uint8 prior to saving to suppress this warning.\n",
            "Drawing:  30% 27/90 [00:01<00:03, 18.21it/s]WARNING:root:Lossy conversion from float32 to uint8. Range [0, 1]. Convert image to uint8 prior to saving to suppress this warning.\n",
            "Drawing:  32% 29/90 [00:01<00:03, 18.25it/s]WARNING:root:Lossy conversion from float32 to uint8. Range [0, 1]. Convert image to uint8 prior to saving to suppress this warning.\n",
            "Drawing:  32% 29/90 [00:01<00:03, 18.25it/s]WARNING:root:Lossy conversion from float32 to uint8. Range [0, 1]. Convert image to uint8 prior to saving to suppress this warning.\n",
            "Drawing:  34% 31/90 [00:01<00:03, 18.59it/s]WARNING:root:Lossy conversion from float32 to uint8. Range [0, 1]. Convert image to uint8 prior to saving to suppress this warning.\n",
            "Drawing:  34% 31/90 [00:01<00:03, 18.59it/s]WARNING:root:Lossy conversion from float32 to uint8. Range [0, 1]. Convert image to uint8 prior to saving to suppress this warning.\n",
            "Drawing:  37% 33/90 [00:02<00:03, 18.38it/s]WARNING:root:Lossy conversion from float32 to uint8. Range [0, 1]. Convert image to uint8 prior to saving to suppress this warning.\n",
            "Drawing:  37% 33/90 [00:02<00:03, 18.38it/s]WARNING:root:Lossy conversion from float32 to uint8. Range [0, 1]. Convert image to uint8 prior to saving to suppress this warning.\n",
            "Drawing:  39% 35/90 [00:02<00:03, 18.28it/s]WARNING:root:Lossy conversion from float32 to uint8. Range [0, 1]. Convert image to uint8 prior to saving to suppress this warning.\n",
            "Drawing:  39% 35/90 [00:02<00:03, 18.28it/s]WARNING:root:Lossy conversion from float32 to uint8. Range [0, 1]. Convert image to uint8 prior to saving to suppress this warning.\n",
            "Drawing:  41% 37/90 [00:02<00:02, 18.07it/s]WARNING:root:Lossy conversion from float32 to uint8. Range [0, 1]. Convert image to uint8 prior to saving to suppress this warning.\n",
            "Drawing:  41% 37/90 [00:02<00:02, 18.07it/s]WARNING:root:Lossy conversion from float32 to uint8. Range [0, 1]. Convert image to uint8 prior to saving to suppress this warning.\n",
            "Drawing:  43% 39/90 [00:02<00:02, 17.65it/s]WARNING:root:Lossy conversion from float32 to uint8. Range [0, 1]. Convert image to uint8 prior to saving to suppress this warning.\n",
            "Drawing:  43% 39/90 [00:02<00:02, 17.65it/s]WARNING:root:Lossy conversion from float32 to uint8. Range [0, 1]. Convert image to uint8 prior to saving to suppress this warning.\n",
            "Drawing:  46% 41/90 [00:02<00:02, 17.47it/s]WARNING:root:Lossy conversion from float32 to uint8. Range [0, 1]. Convert image to uint8 prior to saving to suppress this warning.\n",
            "Drawing:  46% 41/90 [00:02<00:02, 17.47it/s]WARNING:root:Lossy conversion from float32 to uint8. Range [0, 1]. Convert image to uint8 prior to saving to suppress this warning.\n",
            "Drawing:  48% 43/90 [00:02<00:02, 17.25it/s]WARNING:root:Lossy conversion from float32 to uint8. Range [0, 1]. Convert image to uint8 prior to saving to suppress this warning.\n",
            "Drawing:  48% 43/90 [00:02<00:02, 17.25it/s]WARNING:root:Lossy conversion from float32 to uint8. Range [0, 1]. Convert image to uint8 prior to saving to suppress this warning.\n",
            "Drawing:  50% 45/90 [00:02<00:02, 17.08it/s]WARNING:root:Lossy conversion from float32 to uint8. Range [0, 1]. Convert image to uint8 prior to saving to suppress this warning.\n",
            "Drawing:  50% 45/90 [00:02<00:02, 17.08it/s]WARNING:root:Lossy conversion from float32 to uint8. Range [0, 1]. Convert image to uint8 prior to saving to suppress this warning.\n",
            "Drawing:  52% 47/90 [00:02<00:02, 16.71it/s]WARNING:root:Lossy conversion from float32 to uint8. Range [0, 1]. Convert image to uint8 prior to saving to suppress this warning.\n",
            "Drawing:  52% 47/90 [00:02<00:02, 16.71it/s]WARNING:root:Lossy conversion from float32 to uint8. Range [0, 1]. Convert image to uint8 prior to saving to suppress this warning.\n",
            "Drawing:  54% 49/90 [00:02<00:02, 16.76it/s]WARNING:root:Lossy conversion from float32 to uint8. Range [0, 1]. Convert image to uint8 prior to saving to suppress this warning.\n",
            "Drawing:  54% 49/90 [00:03<00:02, 16.76it/s]WARNING:root:Lossy conversion from float32 to uint8. Range [0, 1]. Convert image to uint8 prior to saving to suppress this warning.\n",
            "Drawing:  57% 51/90 [00:03<00:02, 16.63it/s]WARNING:root:Lossy conversion from float32 to uint8. Range [0, 1]. Convert image to uint8 prior to saving to suppress this warning.\n",
            "Drawing:  57% 51/90 [00:03<00:02, 16.63it/s]WARNING:root:Lossy conversion from float32 to uint8. Range [0, 1]. Convert image to uint8 prior to saving to suppress this warning.\n",
            "Drawing:  59% 53/90 [00:03<00:02, 16.44it/s]WARNING:root:Lossy conversion from float32 to uint8. Range [0, 1]. Convert image to uint8 prior to saving to suppress this warning.\n",
            "Drawing:  59% 53/90 [00:03<00:02, 16.44it/s]WARNING:root:Lossy conversion from float32 to uint8. Range [0, 1]. Convert image to uint8 prior to saving to suppress this warning.\n",
            "Drawing:  61% 55/90 [00:03<00:02, 15.92it/s]WARNING:root:Lossy conversion from float32 to uint8. Range [0, 1]. Convert image to uint8 prior to saving to suppress this warning.\n",
            "Drawing:  61% 55/90 [00:03<00:02, 15.92it/s]WARNING:root:Lossy conversion from float32 to uint8. Range [0, 1]. Convert image to uint8 prior to saving to suppress this warning.\n",
            "Drawing:  63% 57/90 [00:03<00:02, 16.13it/s]WARNING:root:Lossy conversion from float32 to uint8. Range [0, 1]. Convert image to uint8 prior to saving to suppress this warning.\n",
            "Drawing:  63% 57/90 [00:03<00:02, 16.13it/s]WARNING:root:Lossy conversion from float32 to uint8. Range [0, 1]. Convert image to uint8 prior to saving to suppress this warning.\n",
            "Drawing:  66% 59/90 [00:03<00:01, 16.53it/s]WARNING:root:Lossy conversion from float32 to uint8. Range [0, 1]. Convert image to uint8 prior to saving to suppress this warning.\n",
            "Drawing:  66% 59/90 [00:03<00:01, 16.53it/s]WARNING:root:Lossy conversion from float32 to uint8. Range [0, 1]. Convert image to uint8 prior to saving to suppress this warning.\n",
            "Drawing:  68% 61/90 [00:03<00:01, 16.94it/s]WARNING:root:Lossy conversion from float32 to uint8. Range [0, 1]. Convert image to uint8 prior to saving to suppress this warning.\n",
            "Drawing:  68% 61/90 [00:03<00:01, 16.94it/s]WARNING:root:Lossy conversion from float32 to uint8. Range [0, 1]. Convert image to uint8 prior to saving to suppress this warning.\n",
            "Drawing:  70% 63/90 [00:03<00:01, 17.13it/s]WARNING:root:Lossy conversion from float32 to uint8. Range [0, 1]. Convert image to uint8 prior to saving to suppress this warning.\n",
            "Drawing:  70% 63/90 [00:03<00:01, 17.13it/s]WARNING:root:Lossy conversion from float32 to uint8. Range [0, 1]. Convert image to uint8 prior to saving to suppress this warning.\n",
            "Drawing:  72% 65/90 [00:03<00:01, 17.50it/s]WARNING:root:Lossy conversion from float32 to uint8. Range [0, 1]. Convert image to uint8 prior to saving to suppress this warning.\n",
            "Drawing:  72% 65/90 [00:03<00:01, 17.50it/s]WARNING:root:Lossy conversion from float32 to uint8. Range [0, 1]. Convert image to uint8 prior to saving to suppress this warning.\n",
            "Drawing:  74% 67/90 [00:04<00:01, 17.79it/s]WARNING:root:Lossy conversion from float32 to uint8. Range [0, 1]. Convert image to uint8 prior to saving to suppress this warning.\n",
            "Drawing:  74% 67/90 [00:04<00:01, 17.79it/s]WARNING:root:Lossy conversion from float32 to uint8. Range [0, 1]. Convert image to uint8 prior to saving to suppress this warning.\n",
            "Drawing:  77% 69/90 [00:04<00:01, 17.78it/s]WARNING:root:Lossy conversion from float32 to uint8. Range [0, 1]. Convert image to uint8 prior to saving to suppress this warning.\n",
            "Drawing:  77% 69/90 [00:04<00:01, 17.78it/s]WARNING:root:Lossy conversion from float32 to uint8. Range [0, 1]. Convert image to uint8 prior to saving to suppress this warning.\n",
            "Drawing:  79% 71/90 [00:04<00:01, 18.07it/s]WARNING:root:Lossy conversion from float32 to uint8. Range [0, 1]. Convert image to uint8 prior to saving to suppress this warning.\n",
            "Drawing:  79% 71/90 [00:04<00:01, 18.07it/s]WARNING:root:Lossy conversion from float32 to uint8. Range [0, 1]. Convert image to uint8 prior to saving to suppress this warning.\n",
            "Drawing:  81% 73/90 [00:04<00:00, 17.71it/s]WARNING:root:Lossy conversion from float32 to uint8. Range [0, 1]. Convert image to uint8 prior to saving to suppress this warning.\n",
            "Drawing:  81% 73/90 [00:04<00:00, 17.71it/s]WARNING:root:Lossy conversion from float32 to uint8. Range [0, 1]. Convert image to uint8 prior to saving to suppress this warning.\n",
            "Drawing:  83% 75/90 [00:04<00:00, 17.28it/s]WARNING:root:Lossy conversion from float32 to uint8. Range [0, 1]. Convert image to uint8 prior to saving to suppress this warning.\n",
            "Drawing:  83% 75/90 [00:04<00:00, 17.28it/s]WARNING:root:Lossy conversion from float32 to uint8. Range [0, 1]. Convert image to uint8 prior to saving to suppress this warning.\n",
            "Drawing:  86% 77/90 [00:04<00:00, 17.15it/s]WARNING:root:Lossy conversion from float32 to uint8. Range [0, 1]. Convert image to uint8 prior to saving to suppress this warning.\n",
            "Drawing:  86% 77/90 [00:04<00:00, 17.15it/s]WARNING:root:Lossy conversion from float32 to uint8. Range [0, 1]. Convert image to uint8 prior to saving to suppress this warning.\n",
            "Drawing:  88% 79/90 [00:04<00:00, 17.27it/s]WARNING:root:Lossy conversion from float32 to uint8. Range [0, 1]. Convert image to uint8 prior to saving to suppress this warning.\n",
            "Drawing:  88% 79/90 [00:04<00:00, 17.27it/s]WARNING:root:Lossy conversion from float32 to uint8. Range [0, 1]. Convert image to uint8 prior to saving to suppress this warning.\n",
            "Drawing:  90% 81/90 [00:04<00:00, 16.93it/s]WARNING:root:Lossy conversion from float32 to uint8. Range [0, 1]. Convert image to uint8 prior to saving to suppress this warning.\n",
            "Drawing:  90% 81/90 [00:04<00:00, 16.93it/s]WARNING:root:Lossy conversion from float32 to uint8. Range [0, 1]. Convert image to uint8 prior to saving to suppress this warning.\n",
            "Drawing:  92% 83/90 [00:04<00:00, 16.67it/s]WARNING:root:Lossy conversion from float32 to uint8. Range [0, 1]. Convert image to uint8 prior to saving to suppress this warning.\n",
            "Drawing:  92% 83/90 [00:05<00:00, 16.67it/s]WARNING:root:Lossy conversion from float32 to uint8. Range [0, 1]. Convert image to uint8 prior to saving to suppress this warning.\n",
            "Drawing:  94% 85/90 [00:05<00:00, 16.36it/s]WARNING:root:Lossy conversion from float32 to uint8. Range [0, 1]. Convert image to uint8 prior to saving to suppress this warning.\n",
            "Drawing:  94% 85/90 [00:05<00:00, 16.36it/s]WARNING:root:Lossy conversion from float32 to uint8. Range [0, 1]. Convert image to uint8 prior to saving to suppress this warning.\n",
            "Drawing:  97% 87/90 [00:05<00:00, 16.22it/s]WARNING:root:Lossy conversion from float32 to uint8. Range [0, 1]. Convert image to uint8 prior to saving to suppress this warning.\n",
            "Drawing:  97% 87/90 [00:05<00:00, 16.22it/s]WARNING:root:Lossy conversion from float32 to uint8. Range [0, 1]. Convert image to uint8 prior to saving to suppress this warning.\n",
            "Drawing:  99% 89/90 [00:05<00:00, 15.94it/s]WARNING:root:Lossy conversion from float32 to uint8. Range [0, 1]. Convert image to uint8 prior to saving to suppress this warning.\n",
            "Drawing: 100% 90/90 [00:05<00:00, 16.66it/s]\n"
          ]
        }
      ]
    },
    {
      "cell_type": "code",
      "source": [
        "!python ./examples/example4.py"
      ],
      "metadata": {
        "colab": {
          "base_uri": "https://localhost:8080/"
        },
        "id": "wHSAN3BeM-OZ",
        "outputId": "8b894301-5db4-4c67-d90f-3d22dc8dda39"
      },
      "execution_count": 11,
      "outputs": [
        {
          "output_type": "stream",
          "name": "stdout",
          "text": [
            "\r  0% 0/1000 [00:00<?, ?it/s]./examples/example4.py:94: UserWarning: /tmp/_tmp_0000.png is a low contrast image\n",
            "  imsave('/tmp/_tmp_%04d.png' % i, image)\n",
            "WARNING:root:Lossy conversion from float32 to uint8. Range [0, 1]. Convert image to uint8 prior to saving to suppress this warning.\n",
            "Optimizing (loss 8444.8750):   0% 0/1000 [00:00<?, ?it/s]./examples/example4.py:94: UserWarning: /tmp/_tmp_0001.png is a low contrast image\n",
            "  imsave('/tmp/_tmp_%04d.png' % i, image)\n",
            "WARNING:root:Lossy conversion from float32 to uint8. Range [0, 1]. Convert image to uint8 prior to saving to suppress this warning.\n",
            "Optimizing (loss 8438.6250):   0% 2/1000 [00:00<01:02, 16.08it/s]./examples/example4.py:94: UserWarning: /tmp/_tmp_0002.png is a low contrast image\n",
            "  imsave('/tmp/_tmp_%04d.png' % i, image)\n",
            "WARNING:root:Lossy conversion from float32 to uint8. Range [0, 1]. Convert image to uint8 prior to saving to suppress this warning.\n",
            "Optimizing (loss 8436.5625):   0% 2/1000 [00:00<01:02, 16.08it/s]./examples/example4.py:94: UserWarning: /tmp/_tmp_0003.png is a low contrast image\n",
            "  imsave('/tmp/_tmp_%04d.png' % i, image)\n",
            "WARNING:root:Lossy conversion from float32 to uint8. Range [0, 1]. Convert image to uint8 prior to saving to suppress this warning.\n",
            "Optimizing (loss 8432.7500):   0% 4/1000 [00:00<00:57, 17.29it/s]./examples/example4.py:94: UserWarning: /tmp/_tmp_0004.png is a low contrast image\n",
            "  imsave('/tmp/_tmp_%04d.png' % i, image)\n",
            "WARNING:root:Lossy conversion from float32 to uint8. Range [0, 1]. Convert image to uint8 prior to saving to suppress this warning.\n",
            "Optimizing (loss 8431.8125):   0% 4/1000 [00:00<00:57, 17.29it/s]./examples/example4.py:94: UserWarning: /tmp/_tmp_0005.png is a low contrast image\n",
            "  imsave('/tmp/_tmp_%04d.png' % i, image)\n",
            "WARNING:root:Lossy conversion from float32 to uint8. Range [0, 1]. Convert image to uint8 prior to saving to suppress this warning.\n",
            "Optimizing (loss 8426.8125):   1% 6/1000 [00:00<00:54, 18.13it/s]./examples/example4.py:94: UserWarning: /tmp/_tmp_0006.png is a low contrast image\n",
            "  imsave('/tmp/_tmp_%04d.png' % i, image)\n",
            "WARNING:root:Lossy conversion from float32 to uint8. Range [0, 1]. Convert image to uint8 prior to saving to suppress this warning.\n",
            "Optimizing (loss 8422.2500):   1% 6/1000 [00:00<00:54, 18.13it/s]./examples/example4.py:94: UserWarning: /tmp/_tmp_0007.png is a low contrast image\n",
            "  imsave('/tmp/_tmp_%04d.png' % i, image)\n",
            "WARNING:root:Lossy conversion from float32 to uint8. Range [0, 1]. Convert image to uint8 prior to saving to suppress this warning.\n",
            "Optimizing (loss 8417.9375):   1% 8/1000 [00:00<00:53, 18.39it/s]./examples/example4.py:94: UserWarning: /tmp/_tmp_0008.png is a low contrast image\n",
            "  imsave('/tmp/_tmp_%04d.png' % i, image)\n",
            "WARNING:root:Lossy conversion from float32 to uint8. Range [0, 1]. Convert image to uint8 prior to saving to suppress this warning.\n",
            "Optimizing (loss 8414.0625):   1% 8/1000 [00:00<00:53, 18.39it/s]./examples/example4.py:94: UserWarning: /tmp/_tmp_0009.png is a low contrast image\n",
            "  imsave('/tmp/_tmp_%04d.png' % i, image)\n",
            "WARNING:root:Lossy conversion from float32 to uint8. Range [0, 1]. Convert image to uint8 prior to saving to suppress this warning.\n",
            "Optimizing (loss 8411.5625):   1% 10/1000 [00:00<00:52, 18.81it/s]./examples/example4.py:94: UserWarning: /tmp/_tmp_0010.png is a low contrast image\n",
            "  imsave('/tmp/_tmp_%04d.png' % i, image)\n",
            "WARNING:root:Lossy conversion from float32 to uint8. Range [0, 1]. Convert image to uint8 prior to saving to suppress this warning.\n",
            "Optimizing (loss 8404.1250):   1% 10/1000 [00:00<00:52, 18.81it/s]./examples/example4.py:94: UserWarning: /tmp/_tmp_0011.png is a low contrast image\n",
            "  imsave('/tmp/_tmp_%04d.png' % i, image)\n",
            "WARNING:root:Lossy conversion from float32 to uint8. Range [0, 1]. Convert image to uint8 prior to saving to suppress this warning.\n",
            "Optimizing (loss 8400.5625):   1% 12/1000 [00:00<00:52, 18.81it/s]./examples/example4.py:94: UserWarning: /tmp/_tmp_0012.png is a low contrast image\n",
            "  imsave('/tmp/_tmp_%04d.png' % i, image)\n",
            "WARNING:root:Lossy conversion from float32 to uint8. Range [0, 1]. Convert image to uint8 prior to saving to suppress this warning.\n",
            "Optimizing (loss 8396.5000):   1% 12/1000 [00:00<00:52, 18.81it/s]./examples/example4.py:94: UserWarning: /tmp/_tmp_0013.png is a low contrast image\n",
            "  imsave('/tmp/_tmp_%04d.png' % i, image)\n",
            "WARNING:root:Lossy conversion from float32 to uint8. Range [0, 1]. Convert image to uint8 prior to saving to suppress this warning.\n",
            "Optimizing (loss 8389.5000):   1% 14/1000 [00:00<00:52, 18.95it/s]./examples/example4.py:94: UserWarning: /tmp/_tmp_0014.png is a low contrast image\n",
            "  imsave('/tmp/_tmp_%04d.png' % i, image)\n",
            "WARNING:root:Lossy conversion from float32 to uint8. Range [0, 1]. Convert image to uint8 prior to saving to suppress this warning.\n",
            "Optimizing (loss 8384.0625):   1% 14/1000 [00:00<00:52, 18.95it/s]./examples/example4.py:94: UserWarning: /tmp/_tmp_0015.png is a low contrast image\n",
            "  imsave('/tmp/_tmp_%04d.png' % i, image)\n",
            "WARNING:root:Lossy conversion from float32 to uint8. Range [0, 1]. Convert image to uint8 prior to saving to suppress this warning.\n",
            "Optimizing (loss 8378.8750):   2% 16/1000 [00:00<00:51, 19.03it/s]./examples/example4.py:94: UserWarning: /tmp/_tmp_0016.png is a low contrast image\n",
            "  imsave('/tmp/_tmp_%04d.png' % i, image)\n",
            "WARNING:root:Lossy conversion from float32 to uint8. Range [0, 1]. Convert image to uint8 prior to saving to suppress this warning.\n",
            "Optimizing (loss 8372.8125):   2% 16/1000 [00:00<00:51, 19.03it/s]./examples/example4.py:94: UserWarning: /tmp/_tmp_0017.png is a low contrast image\n",
            "  imsave('/tmp/_tmp_%04d.png' % i, image)\n",
            "WARNING:root:Lossy conversion from float32 to uint8. Range [0, 1]. Convert image to uint8 prior to saving to suppress this warning.\n",
            "Optimizing (loss 8368.7500):   2% 18/1000 [00:00<00:52, 18.85it/s]./examples/example4.py:94: UserWarning: /tmp/_tmp_0018.png is a low contrast image\n",
            "  imsave('/tmp/_tmp_%04d.png' % i, image)\n",
            "WARNING:root:Lossy conversion from float32 to uint8. Range [0, 1]. Convert image to uint8 prior to saving to suppress this warning.\n",
            "Optimizing (loss 8363.5625):   2% 18/1000 [00:01<00:52, 18.85it/s]./examples/example4.py:94: UserWarning: /tmp/_tmp_0019.png is a low contrast image\n",
            "  imsave('/tmp/_tmp_%04d.png' % i, image)\n",
            "WARNING:root:Lossy conversion from float32 to uint8. Range [0, 1]. Convert image to uint8 prior to saving to suppress this warning.\n",
            "Optimizing (loss 8357.2500):   2% 20/1000 [00:01<00:51, 18.94it/s]./examples/example4.py:94: UserWarning: /tmp/_tmp_0020.png is a low contrast image\n",
            "  imsave('/tmp/_tmp_%04d.png' % i, image)\n",
            "WARNING:root:Lossy conversion from float32 to uint8. Range [0, 1]. Convert image to uint8 prior to saving to suppress this warning.\n",
            "Optimizing (loss 8350.2500):   2% 20/1000 [00:01<00:51, 18.94it/s]./examples/example4.py:94: UserWarning: /tmp/_tmp_0021.png is a low contrast image\n",
            "  imsave('/tmp/_tmp_%04d.png' % i, image)\n",
            "WARNING:root:Lossy conversion from float32 to uint8. Range [0, 1]. Convert image to uint8 prior to saving to suppress this warning.\n",
            "Optimizing (loss 8343.7500):   2% 22/1000 [00:01<00:52, 18.68it/s]./examples/example4.py:94: UserWarning: /tmp/_tmp_0022.png is a low contrast image\n",
            "  imsave('/tmp/_tmp_%04d.png' % i, image)\n",
            "WARNING:root:Lossy conversion from float32 to uint8. Range [0, 1]. Convert image to uint8 prior to saving to suppress this warning.\n",
            "Optimizing (loss 8334.1875):   2% 22/1000 [00:01<00:52, 18.68it/s]./examples/example4.py:94: UserWarning: /tmp/_tmp_0023.png is a low contrast image\n",
            "  imsave('/tmp/_tmp_%04d.png' % i, image)\n",
            "WARNING:root:Lossy conversion from float32 to uint8. Range [0, 1]. Convert image to uint8 prior to saving to suppress this warning.\n",
            "Optimizing (loss 8327.3125):   2% 24/1000 [00:01<00:51, 18.88it/s]./examples/example4.py:94: UserWarning: /tmp/_tmp_0024.png is a low contrast image\n",
            "  imsave('/tmp/_tmp_%04d.png' % i, image)\n",
            "WARNING:root:Lossy conversion from float32 to uint8. Range [0, 1]. Convert image to uint8 prior to saving to suppress this warning.\n",
            "Optimizing (loss 8319.8125):   2% 24/1000 [00:01<00:51, 18.88it/s]./examples/example4.py:94: UserWarning: /tmp/_tmp_0025.png is a low contrast image\n",
            "  imsave('/tmp/_tmp_%04d.png' % i, image)\n",
            "WARNING:root:Lossy conversion from float32 to uint8. Range [0, 1]. Convert image to uint8 prior to saving to suppress this warning.\n",
            "Optimizing (loss 8312.0625):   3% 26/1000 [00:01<00:51, 18.90it/s]./examples/example4.py:94: UserWarning: /tmp/_tmp_0026.png is a low contrast image\n",
            "  imsave('/tmp/_tmp_%04d.png' % i, image)\n",
            "WARNING:root:Lossy conversion from float32 to uint8. Range [0, 1]. Convert image to uint8 prior to saving to suppress this warning.\n",
            "Optimizing (loss 8303.7500):   3% 26/1000 [00:01<00:51, 18.90it/s]./examples/example4.py:94: UserWarning: /tmp/_tmp_0027.png is a low contrast image\n",
            "  imsave('/tmp/_tmp_%04d.png' % i, image)\n",
            "WARNING:root:Lossy conversion from float32 to uint8. Range [0, 1]. Convert image to uint8 prior to saving to suppress this warning.\n",
            "Optimizing (loss 8296.0000):   3% 28/1000 [00:01<00:51, 18.98it/s]./examples/example4.py:94: UserWarning: /tmp/_tmp_0028.png is a low contrast image\n",
            "  imsave('/tmp/_tmp_%04d.png' % i, image)\n",
            "WARNING:root:Lossy conversion from float32 to uint8. Range [0, 1]. Convert image to uint8 prior to saving to suppress this warning.\n",
            "Optimizing (loss 8286.4375):   3% 28/1000 [00:01<00:51, 18.98it/s]./examples/example4.py:94: UserWarning: /tmp/_tmp_0029.png is a low contrast image\n",
            "  imsave('/tmp/_tmp_%04d.png' % i, image)\n",
            "WARNING:root:Lossy conversion from float32 to uint8. Range [0, 1]. Convert image to uint8 prior to saving to suppress this warning.\n",
            "Optimizing (loss 8275.2500):   3% 30/1000 [00:01<00:51, 18.76it/s]./examples/example4.py:94: UserWarning: /tmp/_tmp_0030.png is a low contrast image\n",
            "  imsave('/tmp/_tmp_%04d.png' % i, image)\n",
            "WARNING:root:Lossy conversion from float32 to uint8. Range [0, 1]. Convert image to uint8 prior to saving to suppress this warning.\n",
            "Optimizing (loss 8266.8125):   3% 30/1000 [00:01<00:51, 18.76it/s]./examples/example4.py:94: UserWarning: /tmp/_tmp_0031.png is a low contrast image\n",
            "  imsave('/tmp/_tmp_%04d.png' % i, image)\n",
            "WARNING:root:Lossy conversion from float32 to uint8. Range [0, 1]. Convert image to uint8 prior to saving to suppress this warning.\n",
            "Optimizing (loss 8256.7500):   3% 32/1000 [00:01<00:51, 18.87it/s]./examples/example4.py:94: UserWarning: /tmp/_tmp_0032.png is a low contrast image\n",
            "  imsave('/tmp/_tmp_%04d.png' % i, image)\n",
            "WARNING:root:Lossy conversion from float32 to uint8. Range [0, 1]. Convert image to uint8 prior to saving to suppress this warning.\n",
            "Optimizing (loss 8244.1250):   3% 32/1000 [00:01<00:51, 18.87it/s]./examples/example4.py:94: UserWarning: /tmp/_tmp_0033.png is a low contrast image\n",
            "  imsave('/tmp/_tmp_%04d.png' % i, image)\n",
            "WARNING:root:Lossy conversion from float32 to uint8. Range [0, 1]. Convert image to uint8 prior to saving to suppress this warning.\n",
            "Optimizing (loss 8232.7500):   3% 34/1000 [00:01<00:51, 18.87it/s]./examples/example4.py:94: UserWarning: /tmp/_tmp_0034.png is a low contrast image\n",
            "  imsave('/tmp/_tmp_%04d.png' % i, image)\n",
            "WARNING:root:Lossy conversion from float32 to uint8. Range [0, 1]. Convert image to uint8 prior to saving to suppress this warning.\n",
            "Optimizing (loss 8217.8750):   3% 34/1000 [00:01<00:51, 18.87it/s]./examples/example4.py:94: UserWarning: /tmp/_tmp_0035.png is a low contrast image\n",
            "  imsave('/tmp/_tmp_%04d.png' % i, image)\n",
            "WARNING:root:Lossy conversion from float32 to uint8. Range [0, 1]. Convert image to uint8 prior to saving to suppress this warning.\n",
            "Optimizing (loss 8207.5000):   4% 36/1000 [00:01<00:51, 18.70it/s]./examples/example4.py:94: UserWarning: /tmp/_tmp_0036.png is a low contrast image\n",
            "  imsave('/tmp/_tmp_%04d.png' % i, image)\n",
            "WARNING:root:Lossy conversion from float32 to uint8. Range [0, 1]. Convert image to uint8 prior to saving to suppress this warning.\n",
            "Optimizing (loss 8192.9375):   4% 36/1000 [00:01<00:51, 18.70it/s]./examples/example4.py:94: UserWarning: /tmp/_tmp_0037.png is a low contrast image\n",
            "  imsave('/tmp/_tmp_%04d.png' % i, image)\n",
            "WARNING:root:Lossy conversion from float32 to uint8. Range [0, 1]. Convert image to uint8 prior to saving to suppress this warning.\n",
            "Optimizing (loss 8176.8750):   4% 38/1000 [00:02<00:52, 18.40it/s]./examples/example4.py:94: UserWarning: /tmp/_tmp_0038.png is a low contrast image\n",
            "  imsave('/tmp/_tmp_%04d.png' % i, image)\n",
            "WARNING:root:Lossy conversion from float32 to uint8. Range [0, 1]. Convert image to uint8 prior to saving to suppress this warning.\n",
            "Optimizing (loss 8162.0000):   4% 38/1000 [00:02<00:52, 18.40it/s]./examples/example4.py:94: UserWarning: /tmp/_tmp_0039.png is a low contrast image\n",
            "  imsave('/tmp/_tmp_%04d.png' % i, image)\n",
            "WARNING:root:Lossy conversion from float32 to uint8. Range [0, 1]. Convert image to uint8 prior to saving to suppress this warning.\n",
            "Optimizing (loss 8146.4375):   4% 40/1000 [00:02<00:52, 18.43it/s]./examples/example4.py:94: UserWarning: /tmp/_tmp_0040.png is a low contrast image\n",
            "  imsave('/tmp/_tmp_%04d.png' % i, image)\n",
            "WARNING:root:Lossy conversion from float32 to uint8. Range [0, 1]. Convert image to uint8 prior to saving to suppress this warning.\n",
            "Optimizing (loss 8127.5625):   4% 40/1000 [00:02<00:52, 18.43it/s]./examples/example4.py:94: UserWarning: /tmp/_tmp_0041.png is a low contrast image\n",
            "  imsave('/tmp/_tmp_%04d.png' % i, image)\n",
            "WARNING:root:Lossy conversion from float32 to uint8. Range [0, 1]. Convert image to uint8 prior to saving to suppress this warning.\n",
            "Optimizing (loss 8111.1875):   4% 42/1000 [00:02<00:52, 18.25it/s]./examples/example4.py:94: UserWarning: /tmp/_tmp_0042.png is a low contrast image\n",
            "  imsave('/tmp/_tmp_%04d.png' % i, image)\n",
            "WARNING:root:Lossy conversion from float32 to uint8. Range [0, 1]. Convert image to uint8 prior to saving to suppress this warning.\n",
            "Optimizing (loss 8090.6875):   4% 42/1000 [00:02<00:52, 18.25it/s]./examples/example4.py:94: UserWarning: /tmp/_tmp_0043.png is a low contrast image\n",
            "  imsave('/tmp/_tmp_%04d.png' % i, image)\n",
            "WARNING:root:Lossy conversion from float32 to uint8. Range [0, 1]. Convert image to uint8 prior to saving to suppress this warning.\n",
            "Optimizing (loss 8066.8125):   4% 44/1000 [00:02<00:52, 18.28it/s]./examples/example4.py:94: UserWarning: /tmp/_tmp_0044.png is a low contrast image\n",
            "  imsave('/tmp/_tmp_%04d.png' % i, image)\n",
            "WARNING:root:Lossy conversion from float32 to uint8. Range [0, 1]. Convert image to uint8 prior to saving to suppress this warning.\n",
            "Optimizing (loss 8042.5625):   4% 44/1000 [00:02<00:52, 18.28it/s]./examples/example4.py:94: UserWarning: /tmp/_tmp_0045.png is a low contrast image\n",
            "  imsave('/tmp/_tmp_%04d.png' % i, image)\n",
            "WARNING:root:Lossy conversion from float32 to uint8. Range [0, 1]. Convert image to uint8 prior to saving to suppress this warning.\n",
            "Optimizing (loss 8015.6875):   5% 46/1000 [00:02<00:52, 18.24it/s]WARNING:root:Lossy conversion from float32 to uint8. Range [0, 1]. Convert image to uint8 prior to saving to suppress this warning.\n",
            "Optimizing (loss 7993.5625):   5% 46/1000 [00:02<00:52, 18.24it/s]WARNING:root:Lossy conversion from float32 to uint8. Range [0, 1]. Convert image to uint8 prior to saving to suppress this warning.\n",
            "Optimizing (loss 7962.1875):   5% 48/1000 [00:02<00:52, 17.99it/s]WARNING:root:Lossy conversion from float32 to uint8. Range [0, 1]. Convert image to uint8 prior to saving to suppress this warning.\n",
            "Optimizing (loss 7930.3125):   5% 48/1000 [00:02<00:52, 17.99it/s]WARNING:root:Lossy conversion from float32 to uint8. Range [0, 1]. Convert image to uint8 prior to saving to suppress this warning.\n",
            "Optimizing (loss 7899.0625):   5% 50/1000 [00:02<00:53, 17.84it/s]WARNING:root:Lossy conversion from float32 to uint8. Range [0, 1]. Convert image to uint8 prior to saving to suppress this warning.\n",
            "Optimizing (loss 7864.5625):   5% 50/1000 [00:02<00:53, 17.84it/s]WARNING:root:Lossy conversion from float32 to uint8. Range [0, 1]. Convert image to uint8 prior to saving to suppress this warning.\n",
            "Optimizing (loss 7827.0000):   5% 52/1000 [00:02<00:53, 17.78it/s]WARNING:root:Lossy conversion from float32 to uint8. Range [0, 1]. Convert image to uint8 prior to saving to suppress this warning.\n",
            "Optimizing (loss 7788.7500):   5% 52/1000 [00:02<00:53, 17.78it/s]WARNING:root:Lossy conversion from float32 to uint8. Range [0, 1]. Convert image to uint8 prior to saving to suppress this warning.\n",
            "Optimizing (loss 7746.5000):   5% 54/1000 [00:02<00:54, 17.40it/s]WARNING:root:Lossy conversion from float32 to uint8. Range [0, 1]. Convert image to uint8 prior to saving to suppress this warning.\n",
            "Optimizing (loss 7700.4375):   5% 54/1000 [00:03<00:54, 17.40it/s]WARNING:root:Lossy conversion from float32 to uint8. Range [0, 1]. Convert image to uint8 prior to saving to suppress this warning.\n",
            "Optimizing (loss 7648.6250):   6% 56/1000 [00:03<00:55, 17.03it/s]WARNING:root:Lossy conversion from float32 to uint8. Range [0, 1]. Convert image to uint8 prior to saving to suppress this warning.\n",
            "Optimizing (loss 7596.4375):   6% 56/1000 [00:03<00:55, 17.03it/s]WARNING:root:Lossy conversion from float32 to uint8. Range [0, 1]. Convert image to uint8 prior to saving to suppress this warning.\n",
            "Optimizing (loss 7532.9375):   6% 58/1000 [00:03<00:55, 16.87it/s]WARNING:root:Lossy conversion from float32 to uint8. Range [0, 1]. Convert image to uint8 prior to saving to suppress this warning.\n",
            "Optimizing (loss 7470.6875):   6% 58/1000 [00:03<00:55, 16.87it/s]WARNING:root:Lossy conversion from float32 to uint8. Range [0, 1]. Convert image to uint8 prior to saving to suppress this warning.\n",
            "Optimizing (loss 7398.1875):   6% 60/1000 [00:03<00:55, 16.82it/s]WARNING:root:Lossy conversion from float32 to uint8. Range [0, 1]. Convert image to uint8 prior to saving to suppress this warning.\n",
            "Optimizing (loss 7321.1875):   6% 60/1000 [00:03<00:55, 16.82it/s]WARNING:root:Lossy conversion from float32 to uint8. Range [0, 1]. Convert image to uint8 prior to saving to suppress this warning.\n",
            "Optimizing (loss 7233.0625):   6% 62/1000 [00:03<00:56, 16.74it/s]WARNING:root:Lossy conversion from float32 to uint8. Range [0, 1]. Convert image to uint8 prior to saving to suppress this warning.\n",
            "Optimizing (loss 7139.6875):   6% 62/1000 [00:03<00:56, 16.74it/s]WARNING:root:Lossy conversion from float32 to uint8. Range [0, 1]. Convert image to uint8 prior to saving to suppress this warning.\n",
            "Optimizing (loss 7036.7500):   6% 64/1000 [00:03<00:56, 16.59it/s]WARNING:root:Lossy conversion from float32 to uint8. Range [0, 1]. Convert image to uint8 prior to saving to suppress this warning.\n",
            "Optimizing (loss 6915.9375):   6% 64/1000 [00:03<00:56, 16.59it/s]WARNING:root:Lossy conversion from float32 to uint8. Range [0, 1]. Convert image to uint8 prior to saving to suppress this warning.\n",
            "Optimizing (loss 6794.3125):   7% 66/1000 [00:03<00:57, 16.17it/s]WARNING:root:Lossy conversion from float32 to uint8. Range [0, 1]. Convert image to uint8 prior to saving to suppress this warning.\n",
            "Optimizing (loss 6653.3750):   7% 66/1000 [00:03<00:57, 16.17it/s]WARNING:root:Lossy conversion from float32 to uint8. Range [0, 1]. Convert image to uint8 prior to saving to suppress this warning.\n",
            "Optimizing (loss 6507.1875):   7% 68/1000 [00:03<00:58, 15.98it/s]WARNING:root:Lossy conversion from float32 to uint8. Range [0, 1]. Convert image to uint8 prior to saving to suppress this warning.\n",
            "Optimizing (loss 6354.0000):   7% 68/1000 [00:03<00:58, 15.98it/s]WARNING:root:Lossy conversion from float32 to uint8. Range [0, 1]. Convert image to uint8 prior to saving to suppress this warning.\n",
            "Optimizing (loss 6185.7500):   7% 70/1000 [00:03<00:58, 15.82it/s]WARNING:root:Lossy conversion from float32 to uint8. Range [0, 1]. Convert image to uint8 prior to saving to suppress this warning.\n",
            "Optimizing (loss 6003.5625):   7% 70/1000 [00:04<00:58, 15.82it/s]WARNING:root:Lossy conversion from float32 to uint8. Range [0, 1]. Convert image to uint8 prior to saving to suppress this warning.\n",
            "Optimizing (loss 5763.5000):   7% 72/1000 [00:04<00:59, 15.61it/s]WARNING:root:Lossy conversion from float32 to uint8. Range [0, 1]. Convert image to uint8 prior to saving to suppress this warning.\n",
            "Optimizing (loss 5472.1875):   7% 72/1000 [00:04<00:59, 15.61it/s]WARNING:root:Lossy conversion from float32 to uint8. Range [0, 1]. Convert image to uint8 prior to saving to suppress this warning.\n",
            "Optimizing (loss 5152.6875):   7% 74/1000 [00:04<01:00, 15.19it/s]WARNING:root:Lossy conversion from float32 to uint8. Range [0, 1]. Convert image to uint8 prior to saving to suppress this warning.\n",
            "Optimizing (loss 4775.8125):   7% 74/1000 [00:04<01:00, 15.19it/s]WARNING:root:Lossy conversion from float32 to uint8. Range [0, 1]. Convert image to uint8 prior to saving to suppress this warning.\n",
            "Optimizing (loss 4345.8750):   8% 76/1000 [00:04<01:02, 14.90it/s]WARNING:root:Lossy conversion from float32 to uint8. Range [0, 1]. Convert image to uint8 prior to saving to suppress this warning.\n",
            "Optimizing (loss 3850.2500):   8% 76/1000 [00:04<01:02, 14.90it/s]WARNING:root:Lossy conversion from float32 to uint8. Range [0, 1]. Convert image to uint8 prior to saving to suppress this warning.\n",
            "Optimizing (loss 3347.7500):   8% 78/1000 [00:04<01:03, 14.50it/s]WARNING:root:Lossy conversion from float32 to uint8. Range [0, 1]. Convert image to uint8 prior to saving to suppress this warning.\n",
            "Optimizing (loss 2912.4375):   8% 78/1000 [00:04<01:03, 14.50it/s]WARNING:root:Lossy conversion from float32 to uint8. Range [0, 1]. Convert image to uint8 prior to saving to suppress this warning.\n",
            "Optimizing (loss 2401.8750):   8% 80/1000 [00:04<01:05, 13.98it/s]WARNING:root:Lossy conversion from float32 to uint8. Range [0, 1]. Convert image to uint8 prior to saving to suppress this warning.\n",
            "Optimizing (loss 2085.0000):   8% 80/1000 [00:04<01:05, 13.98it/s]WARNING:root:Lossy conversion from float32 to uint8. Range [0, 1]. Convert image to uint8 prior to saving to suppress this warning.\n",
            "Optimizing (loss 3031.8125):   8% 82/1000 [00:04<01:09, 13.27it/s]WARNING:root:Lossy conversion from float32 to uint8. Range [0, 1]. Convert image to uint8 prior to saving to suppress this warning.\n",
            "Optimizing (loss 3622.2500):   8% 82/1000 [00:04<01:09, 13.27it/s]WARNING:root:Lossy conversion from float32 to uint8. Range [0, 1]. Convert image to uint8 prior to saving to suppress this warning.\n",
            "Optimizing (loss 3535.2500):   8% 84/1000 [00:04<01:11, 12.79it/s]WARNING:root:Lossy conversion from float32 to uint8. Range [0, 1]. Convert image to uint8 prior to saving to suppress this warning.\n",
            "Optimizing (loss 2940.1875):   8% 84/1000 [00:05<01:11, 12.79it/s]WARNING:root:Lossy conversion from float32 to uint8. Range [0, 1]. Convert image to uint8 prior to saving to suppress this warning.\n",
            "Optimizing (loss 2122.6875):   9% 86/1000 [00:05<01:12, 12.68it/s]WARNING:root:Lossy conversion from float32 to uint8. Range [0, 1]. Convert image to uint8 prior to saving to suppress this warning.\n",
            "Optimizing (loss 1781.8125):   9% 86/1000 [00:05<01:12, 12.68it/s]WARNING:root:Lossy conversion from float32 to uint8. Range [0, 1]. Convert image to uint8 prior to saving to suppress this warning.\n",
            "Optimizing (loss 2040.1875):   9% 88/1000 [00:05<01:11, 12.68it/s]WARNING:root:Lossy conversion from float32 to uint8. Range [0, 1]. Convert image to uint8 prior to saving to suppress this warning.\n",
            "Optimizing (loss 2157.1250):   9% 88/1000 [00:05<01:11, 12.68it/s]WARNING:root:Lossy conversion from float32 to uint8. Range [0, 1]. Convert image to uint8 prior to saving to suppress this warning.\n",
            "Optimizing (loss 2068.2500):   9% 90/1000 [00:05<01:12, 12.63it/s]WARNING:root:Lossy conversion from float32 to uint8. Range [0, 1]. Convert image to uint8 prior to saving to suppress this warning.\n",
            "Optimizing (loss 1794.1250):   9% 90/1000 [00:05<01:12, 12.63it/s]WARNING:root:Lossy conversion from float32 to uint8. Range [0, 1]. Convert image to uint8 prior to saving to suppress this warning.\n",
            "Optimizing (loss 1486.3125):   9% 92/1000 [00:05<01:11, 12.66it/s]WARNING:root:Lossy conversion from float32 to uint8. Range [0, 1]. Convert image to uint8 prior to saving to suppress this warning.\n",
            "Optimizing (loss 1397.6250):   9% 92/1000 [00:05<01:11, 12.66it/s]WARNING:root:Lossy conversion from float32 to uint8. Range [0, 1]. Convert image to uint8 prior to saving to suppress this warning.\n",
            "Optimizing (loss 1340.0000):   9% 94/1000 [00:05<01:12, 12.52it/s]WARNING:root:Lossy conversion from float32 to uint8. Range [0, 1]. Convert image to uint8 prior to saving to suppress this warning.\n",
            "Optimizing (loss 1230.0000):   9% 94/1000 [00:05<01:12, 12.52it/s]WARNING:root:Lossy conversion from float32 to uint8. Range [0, 1]. Convert image to uint8 prior to saving to suppress this warning.\n",
            "Optimizing (loss 1001.4375):  10% 96/1000 [00:05<01:12, 12.47it/s]WARNING:root:Lossy conversion from float32 to uint8. Range [0, 1]. Convert image to uint8 prior to saving to suppress this warning.\n",
            "Optimizing (loss 794.8125):  10% 96/1000 [00:06<01:12, 12.47it/s] WARNING:root:Lossy conversion from float32 to uint8. Range [0, 1]. Convert image to uint8 prior to saving to suppress this warning.\n",
            "Optimizing (loss 815.3125):  10% 98/1000 [00:06<01:12, 12.49it/s]WARNING:root:Lossy conversion from float32 to uint8. Range [0, 1]. Convert image to uint8 prior to saving to suppress this warning.\n",
            "Optimizing (loss 729.8750):  10% 98/1000 [00:06<01:12, 12.49it/s]WARNING:root:Lossy conversion from float32 to uint8. Range [0, 1]. Convert image to uint8 prior to saving to suppress this warning.\n",
            "Optimizing (loss 440.1875):  10% 100/1000 [00:06<01:11, 12.57it/s]WARNING:root:Lossy conversion from float32 to uint8. Range [0, 1]. Convert image to uint8 prior to saving to suppress this warning.\n",
            "Optimizing (loss 270.5000):  10% 100/1000 [00:06<01:11, 12.57it/s]WARNING:root:Lossy conversion from float32 to uint8. Range [0, 1]. Convert image to uint8 prior to saving to suppress this warning.\n",
            "Optimizing (loss 381.6250):  10% 102/1000 [00:06<01:10, 12.73it/s]WARNING:root:Lossy conversion from float32 to uint8. Range [0, 1]. Convert image to uint8 prior to saving to suppress this warning.\n",
            "Optimizing (loss 486.5625):  10% 102/1000 [00:06<01:10, 12.73it/s]WARNING:root:Lossy conversion from float32 to uint8. Range [0, 1]. Convert image to uint8 prior to saving to suppress this warning.\n",
            "Optimizing (loss 565.8125):  10% 104/1000 [00:06<01:09, 12.81it/s]WARNING:root:Lossy conversion from float32 to uint8. Range [0, 1]. Convert image to uint8 prior to saving to suppress this warning.\n",
            "Optimizing (loss 631.9375):  10% 104/1000 [00:06<01:09, 12.81it/s]WARNING:root:Lossy conversion from float32 to uint8. Range [0, 1]. Convert image to uint8 prior to saving to suppress this warning.\n",
            "Optimizing (loss 601.4375):  11% 106/1000 [00:06<01:10, 12.72it/s]WARNING:root:Lossy conversion from float32 to uint8. Range [0, 1]. Convert image to uint8 prior to saving to suppress this warning.\n",
            "Optimizing (loss 484.3125):  11% 106/1000 [00:06<01:10, 12.72it/s]WARNING:root:Lossy conversion from float32 to uint8. Range [0, 1]. Convert image to uint8 prior to saving to suppress this warning.\n",
            "Optimizing (loss 265.2500):  11% 108/1000 [00:06<01:09, 12.79it/s]WARNING:root:Lossy conversion from float32 to uint8. Range [0, 1]. Convert image to uint8 prior to saving to suppress this warning.\n",
            "Optimizing (loss 69.5625):  11% 108/1000 [00:06<00:57, 15.50it/s]\n"
          ]
        }
      ]
    },
    {
      "cell_type": "markdown",
      "source": [
        "### Example 3 : Optimizing Textures"
      ],
      "metadata": {
        "id": "00FR1_wNPo6d"
      }
    },
    {
      "cell_type": "markdown",
      "source": [
        "- https://github.com/daniilidis-group/neural_renderer/blob/master/examples/example3.py"
      ],
      "metadata": {
        "id": "l2DtkcUKSeBC"
      }
    },
    {
      "cell_type": "code",
      "source": [
        "%pwd"
      ],
      "metadata": {
        "colab": {
          "base_uri": "https://localhost:8080/",
          "height": 35
        },
        "id": "nGVVfCi8P1Cy",
        "outputId": "e44b1258-66fa-486d-c4ea-0062131f4a01"
      },
      "execution_count": 13,
      "outputs": [
        {
          "output_type": "execute_result",
          "data": {
            "application/vnd.google.colaboratory.intrinsic+json": {
              "type": "string"
            },
            "text/plain": [
              "'/content/drive/MyDrive/3d_transfer/neural_renderer'"
            ]
          },
          "metadata": {},
          "execution_count": 13
        }
      ]
    },
    {
      "cell_type": "code",
      "source": [
        "%cd /content/drive/MyDrive/3d_transfer/neural_renderer"
      ],
      "metadata": {
        "colab": {
          "base_uri": "https://localhost:8080/"
        },
        "id": "Gl7KdcBmP_sr",
        "outputId": "41de7414-8132-40d3-dc31-38488e410a8c"
      },
      "execution_count": 19,
      "outputs": [
        {
          "output_type": "stream",
          "name": "stdout",
          "text": [
            "/content/drive/MyDrive/3d_transfer/neural_renderer\n"
          ]
        }
      ]
    },
    {
      "cell_type": "code",
      "source": [
        "# !python ./examples/example3.py\n",
        "\n",
        "!python ./examples/example3.py --filename_obj '/content/drive/MyDrive/3d_transfer/neural_renderer/examples/data/silica.obj' --filename_output '/content/drive/MyDrive/3d_transfer/neural_renderer/examples/data/silica_result.gif'"
      ],
      "metadata": {
        "colab": {
          "base_uri": "https://localhost:8080/"
        },
        "id": "TSYOHbmsM-Sv",
        "outputId": "ae6c7df6-501e-4763-fa1d-da38fd36aca8"
      },
      "execution_count": 22,
      "outputs": [
        {
          "output_type": "stream",
          "name": "stdout",
          "text": [
            "Optimizing: 100% 300/300 [37:59<00:00,  7.60s/it]\n",
            "Drawing:   0% 0/90 [00:00<?, ?it/s]WARNING:root:Lossy conversion from float32 to uint8. Range [0, 1]. Convert image to uint8 prior to saving to suppress this warning.\n",
            "Drawing:   1% 1/90 [00:07<11:17,  7.61s/it]WARNING:root:Lossy conversion from float32 to uint8. Range [0, 1]. Convert image to uint8 prior to saving to suppress this warning.\n",
            "Drawing:   2% 2/90 [00:15<11:03,  7.54s/it]WARNING:root:Lossy conversion from float32 to uint8. Range [0, 1]. Convert image to uint8 prior to saving to suppress this warning.\n",
            "Drawing:   3% 3/90 [00:22<10:53,  7.52s/it]WARNING:root:Lossy conversion from float32 to uint8. Range [0, 1]. Convert image to uint8 prior to saving to suppress this warning.\n",
            "Drawing:   4% 4/90 [00:30<10:45,  7.50s/it]WARNING:root:Lossy conversion from float32 to uint8. Range [0, 1]. Convert image to uint8 prior to saving to suppress this warning.\n",
            "Drawing:   6% 5/90 [00:37<10:37,  7.50s/it]WARNING:root:Lossy conversion from float32 to uint8. Range [0, 1]. Convert image to uint8 prior to saving to suppress this warning.\n",
            "Drawing:   7% 6/90 [00:45<10:29,  7.49s/it]WARNING:root:Lossy conversion from float32 to uint8. Range [-0.007914029061794281, 0.9736531972885132]. Convert image to uint8 prior to saving to suppress this warning.\n",
            "Drawing:   8% 7/90 [00:52<10:21,  7.49s/it]WARNING:root:Lossy conversion from float32 to uint8. Range [0, 1]. Convert image to uint8 prior to saving to suppress this warning.\n",
            "Drawing:   9% 8/90 [01:00<10:14,  7.49s/it]WARNING:root:Lossy conversion from float32 to uint8. Range [0, 1]. Convert image to uint8 prior to saving to suppress this warning.\n",
            "Drawing:  10% 9/90 [01:07<10:06,  7.49s/it]WARNING:root:Lossy conversion from float32 to uint8. Range [0, 1]. Convert image to uint8 prior to saving to suppress this warning.\n",
            "Drawing:  11% 10/90 [01:14<09:59,  7.49s/it]WARNING:root:Lossy conversion from float32 to uint8. Range [-0.07565561681985855, 0.9750398397445679]. Convert image to uint8 prior to saving to suppress this warning.\n",
            "Drawing:  12% 11/90 [01:22<09:51,  7.49s/it]WARNING:root:Lossy conversion from float32 to uint8. Range [0, 1]. Convert image to uint8 prior to saving to suppress this warning.\n",
            "Drawing:  13% 12/90 [01:29<09:43,  7.49s/it]WARNING:root:Lossy conversion from float32 to uint8. Range [0, 1]. Convert image to uint8 prior to saving to suppress this warning.\n",
            "Drawing:  14% 13/90 [01:37<09:36,  7.49s/it]WARNING:root:Lossy conversion from float32 to uint8. Range [0, 1]. Convert image to uint8 prior to saving to suppress this warning.\n",
            "Drawing:  16% 14/90 [01:44<09:28,  7.49s/it]WARNING:root:Lossy conversion from float32 to uint8. Range [0, 1]. Convert image to uint8 prior to saving to suppress this warning.\n",
            "Drawing:  17% 15/90 [01:52<09:21,  7.48s/it]WARNING:root:Lossy conversion from float32 to uint8. Range [-0.001840248703956604, 0.9745010137557983]. Convert image to uint8 prior to saving to suppress this warning.\n",
            "Drawing:  18% 16/90 [01:59<09:13,  7.48s/it]WARNING:root:Lossy conversion from float32 to uint8. Range [-0.05352795124053955, 0.971575915813446]. Convert image to uint8 prior to saving to suppress this warning.\n",
            "Drawing:  19% 17/90 [02:07<09:06,  7.48s/it]WARNING:root:Lossy conversion from float32 to uint8. Range [0, 1]. Convert image to uint8 prior to saving to suppress this warning.\n",
            "Drawing:  20% 18/90 [02:14<08:58,  7.48s/it]WARNING:root:Lossy conversion from float32 to uint8. Range [0, 1]. Convert image to uint8 prior to saving to suppress this warning.\n",
            "Drawing:  21% 19/90 [02:22<08:51,  7.48s/it]WARNING:root:Lossy conversion from float32 to uint8. Range [0, 1]. Convert image to uint8 prior to saving to suppress this warning.\n",
            "Drawing:  22% 20/90 [02:29<08:43,  7.48s/it]WARNING:root:Lossy conversion from float32 to uint8. Range [0, 1]. Convert image to uint8 prior to saving to suppress this warning.\n",
            "Drawing:  23% 21/90 [02:37<08:36,  7.48s/it]WARNING:root:Lossy conversion from float32 to uint8. Range [0, 1]. Convert image to uint8 prior to saving to suppress this warning.\n",
            "Drawing:  24% 22/90 [02:44<08:28,  7.48s/it]WARNING:root:Lossy conversion from float32 to uint8. Range [0, 1]. Convert image to uint8 prior to saving to suppress this warning.\n",
            "Drawing:  26% 23/90 [02:52<08:21,  7.48s/it]WARNING:root:Lossy conversion from float32 to uint8. Range [0, 1]. Convert image to uint8 prior to saving to suppress this warning.\n",
            "Drawing:  27% 24/90 [02:59<08:13,  7.48s/it]WARNING:root:Lossy conversion from float32 to uint8. Range [0, 1]. Convert image to uint8 prior to saving to suppress this warning.\n",
            "Drawing:  28% 25/90 [03:07<08:06,  7.48s/it]WARNING:root:Lossy conversion from float32 to uint8. Range [0, 1]. Convert image to uint8 prior to saving to suppress this warning.\n",
            "Drawing:  29% 26/90 [03:14<07:58,  7.48s/it]WARNING:root:Lossy conversion from float32 to uint8. Range [0, 1]. Convert image to uint8 prior to saving to suppress this warning.\n",
            "Drawing:  30% 27/90 [03:22<07:51,  7.48s/it]WARNING:root:Lossy conversion from float32 to uint8. Range [0, 1]. Convert image to uint8 prior to saving to suppress this warning.\n",
            "Drawing:  31% 28/90 [03:29<07:43,  7.48s/it]WARNING:root:Lossy conversion from float32 to uint8. Range [0, 1]. Convert image to uint8 prior to saving to suppress this warning.\n",
            "Drawing:  32% 29/90 [03:37<07:36,  7.48s/it]WARNING:root:Lossy conversion from float32 to uint8. Range [0, 1]. Convert image to uint8 prior to saving to suppress this warning.\n",
            "Drawing:  33% 30/90 [03:44<07:28,  7.48s/it]WARNING:root:Lossy conversion from float32 to uint8. Range [0, 1]. Convert image to uint8 prior to saving to suppress this warning.\n",
            "Drawing:  34% 31/90 [03:52<07:21,  7.48s/it]WARNING:root:Lossy conversion from float32 to uint8. Range [0, 1]. Convert image to uint8 prior to saving to suppress this warning.\n",
            "Drawing:  36% 32/90 [03:59<07:13,  7.48s/it]WARNING:root:Lossy conversion from float32 to uint8. Range [0, 1]. Convert image to uint8 prior to saving to suppress this warning.\n",
            "Drawing:  37% 33/90 [04:07<07:06,  7.48s/it]WARNING:root:Lossy conversion from float32 to uint8. Range [0, 1]. Convert image to uint8 prior to saving to suppress this warning.\n",
            "Drawing:  38% 34/90 [04:14<06:59,  7.48s/it]WARNING:root:Lossy conversion from float32 to uint8. Range [0, 1]. Convert image to uint8 prior to saving to suppress this warning.\n",
            "Drawing:  39% 35/90 [04:22<06:51,  7.48s/it]WARNING:root:Lossy conversion from float32 to uint8. Range [0, 1]. Convert image to uint8 prior to saving to suppress this warning.\n",
            "Drawing:  40% 36/90 [04:29<06:44,  7.48s/it]WARNING:root:Lossy conversion from float32 to uint8. Range [0, 1]. Convert image to uint8 prior to saving to suppress this warning.\n",
            "Drawing:  41% 37/90 [04:37<06:36,  7.48s/it]WARNING:root:Lossy conversion from float32 to uint8. Range [0, 1]. Convert image to uint8 prior to saving to suppress this warning.\n",
            "Drawing:  42% 38/90 [04:44<06:29,  7.48s/it]WARNING:root:Lossy conversion from float32 to uint8. Range [0, 1]. Convert image to uint8 prior to saving to suppress this warning.\n",
            "Drawing:  43% 39/90 [04:51<06:21,  7.48s/it]WARNING:root:Lossy conversion from float32 to uint8. Range [0, 1]. Convert image to uint8 prior to saving to suppress this warning.\n",
            "Drawing:  44% 40/90 [04:59<06:14,  7.48s/it]WARNING:root:Lossy conversion from float32 to uint8. Range [0, 1]. Convert image to uint8 prior to saving to suppress this warning.\n",
            "Drawing:  46% 41/90 [05:06<06:06,  7.48s/it]WARNING:root:Lossy conversion from float32 to uint8. Range [0, 1]. Convert image to uint8 prior to saving to suppress this warning.\n",
            "Drawing:  47% 42/90 [05:14<05:59,  7.48s/it]WARNING:root:Lossy conversion from float32 to uint8. Range [0, 1]. Convert image to uint8 prior to saving to suppress this warning.\n",
            "Drawing:  48% 43/90 [05:21<05:51,  7.48s/it]WARNING:root:Lossy conversion from float32 to uint8. Range [0, 1]. Convert image to uint8 prior to saving to suppress this warning.\n",
            "Drawing:  49% 44/90 [05:29<05:44,  7.48s/it]WARNING:root:Lossy conversion from float32 to uint8. Range [0, 1]. Convert image to uint8 prior to saving to suppress this warning.\n",
            "Drawing:  50% 45/90 [05:36<05:36,  7.48s/it]WARNING:root:Lossy conversion from float32 to uint8. Range [0, 1]. Convert image to uint8 prior to saving to suppress this warning.\n",
            "Drawing:  51% 46/90 [05:44<05:29,  7.48s/it]WARNING:root:Lossy conversion from float32 to uint8. Range [0, 1]. Convert image to uint8 prior to saving to suppress this warning.\n",
            "Drawing:  52% 47/90 [05:51<05:21,  7.48s/it]WARNING:root:Lossy conversion from float32 to uint8. Range [-0.008852735161781311, 0.9754257798194885]. Convert image to uint8 prior to saving to suppress this warning.\n",
            "Drawing:  53% 48/90 [05:59<05:14,  7.48s/it]WARNING:root:Lossy conversion from float32 to uint8. Range [-0.09869657456874847, 0.9729704856872559]. Convert image to uint8 prior to saving to suppress this warning.\n",
            "Drawing:  54% 49/90 [06:06<05:06,  7.48s/it]WARNING:root:Lossy conversion from float32 to uint8. Range [0, 1]. Convert image to uint8 prior to saving to suppress this warning.\n",
            "Drawing:  56% 50/90 [06:14<04:59,  7.48s/it]WARNING:root:Lossy conversion from float32 to uint8. Range [0, 1]. Convert image to uint8 prior to saving to suppress this warning.\n",
            "Drawing:  57% 51/90 [06:21<04:51,  7.48s/it]WARNING:root:Lossy conversion from float32 to uint8. Range [0, 1]. Convert image to uint8 prior to saving to suppress this warning.\n",
            "Drawing:  58% 52/90 [06:29<04:44,  7.48s/it]WARNING:root:Lossy conversion from float32 to uint8. Range [-0.07781676203012466, 0.9763630628585815]. Convert image to uint8 prior to saving to suppress this warning.\n",
            "Drawing:  59% 53/90 [06:36<04:36,  7.48s/it]WARNING:root:Lossy conversion from float32 to uint8. Range [0, 1]. Convert image to uint8 prior to saving to suppress this warning.\n",
            "Drawing:  60% 54/90 [06:44<04:29,  7.48s/it]WARNING:root:Lossy conversion from float32 to uint8. Range [-0.028049558401107788, 0.9756988286972046]. Convert image to uint8 prior to saving to suppress this warning.\n",
            "Drawing:  61% 55/90 [06:51<04:21,  7.48s/it]WARNING:root:Lossy conversion from float32 to uint8. Range [-0.01781763881444931, 0.9732251167297363]. Convert image to uint8 prior to saving to suppress this warning.\n",
            "Drawing:  62% 56/90 [06:59<04:14,  7.48s/it]WARNING:root:Lossy conversion from float32 to uint8. Range [0, 1]. Convert image to uint8 prior to saving to suppress this warning.\n",
            "Drawing:  63% 57/90 [07:06<04:06,  7.48s/it]WARNING:root:Lossy conversion from float32 to uint8. Range [0, 1]. Convert image to uint8 prior to saving to suppress this warning.\n",
            "Drawing:  64% 58/90 [07:14<03:59,  7.48s/it]WARNING:root:Lossy conversion from float32 to uint8. Range [0, 1]. Convert image to uint8 prior to saving to suppress this warning.\n",
            "Drawing:  66% 59/90 [07:21<03:51,  7.48s/it]WARNING:root:Lossy conversion from float32 to uint8. Range [-0.026853175833821297, 0.9745243787765503]. Convert image to uint8 prior to saving to suppress this warning.\n",
            "Drawing:  67% 60/90 [07:29<03:44,  7.48s/it]WARNING:root:Lossy conversion from float32 to uint8. Range [-0.029067356139421463, 0.9706854224205017]. Convert image to uint8 prior to saving to suppress this warning.\n",
            "Drawing:  68% 61/90 [07:36<03:36,  7.48s/it]WARNING:root:Lossy conversion from float32 to uint8. Range [0, 1]. Convert image to uint8 prior to saving to suppress this warning.\n",
            "Drawing:  69% 62/90 [07:44<03:29,  7.48s/it]WARNING:root:Lossy conversion from float32 to uint8. Range [0, 1]. Convert image to uint8 prior to saving to suppress this warning.\n",
            "Drawing:  70% 63/90 [07:51<03:21,  7.48s/it]WARNING:root:Lossy conversion from float32 to uint8. Range [-0.11334220319986343, 0.9708946943283081]. Convert image to uint8 prior to saving to suppress this warning.\n",
            "Drawing:  71% 64/90 [07:59<03:14,  7.48s/it]WARNING:root:Lossy conversion from float32 to uint8. Range [0, 1]. Convert image to uint8 prior to saving to suppress this warning.\n",
            "Drawing:  72% 65/90 [08:06<03:07,  7.48s/it]WARNING:root:Lossy conversion from float32 to uint8. Range [0, 1]. Convert image to uint8 prior to saving to suppress this warning.\n",
            "Drawing:  73% 66/90 [08:13<02:59,  7.48s/it]WARNING:root:Lossy conversion from float32 to uint8. Range [0, 1]. Convert image to uint8 prior to saving to suppress this warning.\n",
            "Drawing:  74% 67/90 [08:21<02:52,  7.48s/it]WARNING:root:Lossy conversion from float32 to uint8. Range [-0.16931487619876862, 0.9721132516860962]. Convert image to uint8 prior to saving to suppress this warning.\n",
            "Drawing:  76% 68/90 [08:28<02:44,  7.48s/it]WARNING:root:Lossy conversion from float32 to uint8. Range [0, 1]. Convert image to uint8 prior to saving to suppress this warning.\n",
            "Drawing:  77% 69/90 [08:36<02:37,  7.48s/it]WARNING:root:Lossy conversion from float32 to uint8. Range [0, 1]. Convert image to uint8 prior to saving to suppress this warning.\n",
            "Drawing:  78% 70/90 [08:43<02:29,  7.48s/it]WARNING:root:Lossy conversion from float32 to uint8. Range [0, 1]. Convert image to uint8 prior to saving to suppress this warning.\n",
            "Drawing:  79% 71/90 [08:51<02:22,  7.48s/it]WARNING:root:Lossy conversion from float32 to uint8. Range [0, 1]. Convert image to uint8 prior to saving to suppress this warning.\n",
            "Drawing:  80% 72/90 [08:58<02:14,  7.48s/it]WARNING:root:Lossy conversion from float32 to uint8. Range [0, 1]. Convert image to uint8 prior to saving to suppress this warning.\n",
            "Drawing:  81% 73/90 [09:06<02:07,  7.48s/it]WARNING:root:Lossy conversion from float32 to uint8. Range [0, 1]. Convert image to uint8 prior to saving to suppress this warning.\n",
            "Drawing:  82% 74/90 [09:13<01:59,  7.48s/it]WARNING:root:Lossy conversion from float32 to uint8. Range [0, 1]. Convert image to uint8 prior to saving to suppress this warning.\n",
            "Drawing:  83% 75/90 [09:21<01:52,  7.48s/it]WARNING:root:Lossy conversion from float32 to uint8. Range [-0.007140941917896271, 0.9719283580780029]. Convert image to uint8 prior to saving to suppress this warning.\n",
            "Drawing:  84% 76/90 [09:28<01:44,  7.48s/it]WARNING:root:Lossy conversion from float32 to uint8. Range [0, 1]. Convert image to uint8 prior to saving to suppress this warning.\n",
            "Drawing:  86% 77/90 [09:36<01:37,  7.48s/it]WARNING:root:Lossy conversion from float32 to uint8. Range [0, 1]. Convert image to uint8 prior to saving to suppress this warning.\n",
            "Drawing:  87% 78/90 [09:43<01:29,  7.48s/it]WARNING:root:Lossy conversion from float32 to uint8. Range [0, 1]. Convert image to uint8 prior to saving to suppress this warning.\n",
            "Drawing:  88% 79/90 [09:51<01:22,  7.48s/it]WARNING:root:Lossy conversion from float32 to uint8. Range [0, 1]. Convert image to uint8 prior to saving to suppress this warning.\n",
            "Drawing:  89% 80/90 [09:58<01:14,  7.48s/it]WARNING:root:Lossy conversion from float32 to uint8. Range [0, 1]. Convert image to uint8 prior to saving to suppress this warning.\n",
            "Drawing:  90% 81/90 [10:06<01:07,  7.48s/it]WARNING:root:Lossy conversion from float32 to uint8. Range [0, 1]. Convert image to uint8 prior to saving to suppress this warning.\n",
            "Drawing:  91% 82/90 [10:13<00:59,  7.48s/it]WARNING:root:Lossy conversion from float32 to uint8. Range [-0.10955628752708435, 0.9730373620986938]. Convert image to uint8 prior to saving to suppress this warning.\n",
            "Drawing:  92% 83/90 [10:21<00:52,  7.48s/it]WARNING:root:Lossy conversion from float32 to uint8. Range [0, 1]. Convert image to uint8 prior to saving to suppress this warning.\n",
            "Drawing:  93% 84/90 [10:28<00:44,  7.48s/it]WARNING:root:Lossy conversion from float32 to uint8. Range [0, 1]. Convert image to uint8 prior to saving to suppress this warning.\n",
            "Drawing:  94% 85/90 [10:36<00:37,  7.48s/it]WARNING:root:Lossy conversion from float32 to uint8. Range [0, 1]. Convert image to uint8 prior to saving to suppress this warning.\n",
            "Drawing:  96% 86/90 [10:43<00:29,  7.48s/it]WARNING:root:Lossy conversion from float32 to uint8. Range [0, 1]. Convert image to uint8 prior to saving to suppress this warning.\n",
            "Drawing:  97% 87/90 [10:51<00:22,  7.48s/it]WARNING:root:Lossy conversion from float32 to uint8. Range [0, 1]. Convert image to uint8 prior to saving to suppress this warning.\n",
            "Drawing:  98% 88/90 [10:58<00:14,  7.48s/it]WARNING:root:Lossy conversion from float32 to uint8. Range [0, 1]. Convert image to uint8 prior to saving to suppress this warning.\n",
            "Drawing:  99% 89/90 [11:06<00:07,  7.48s/it]WARNING:root:Lossy conversion from float32 to uint8. Range [0, 1]. Convert image to uint8 prior to saving to suppress this warning.\n",
            "Drawing: 100% 90/90 [11:13<00:00,  7.48s/it]\n"
          ]
        }
      ]
    },
    {
      "cell_type": "code",
      "source": [
        ""
      ],
      "metadata": {
        "id": "FBtP-_4lM-U4"
      },
      "execution_count": null,
      "outputs": []
    },
    {
      "cell_type": "code",
      "source": [
        ""
      ],
      "metadata": {
        "id": "cunoy9V9M-XO"
      },
      "execution_count": null,
      "outputs": []
    },
    {
      "cell_type": "code",
      "source": [
        ""
      ],
      "metadata": {
        "id": "prRNbll7M-Zb"
      },
      "execution_count": null,
      "outputs": []
    },
    {
      "cell_type": "code",
      "source": [
        ""
      ],
      "metadata": {
        "id": "VzyQ07mSM-bo"
      },
      "execution_count": null,
      "outputs": []
    },
    {
      "cell_type": "code",
      "source": [
        ""
      ],
      "metadata": {
        "id": "18yt7iojM-dv"
      },
      "execution_count": null,
      "outputs": []
    },
    {
      "cell_type": "code",
      "source": [
        ""
      ],
      "metadata": {
        "id": "24R4lJmAM-gA"
      },
      "execution_count": null,
      "outputs": []
    },
    {
      "cell_type": "code",
      "source": [
        ""
      ],
      "metadata": {
        "id": "7cTgtSMAM-iI"
      },
      "execution_count": null,
      "outputs": []
    },
    {
      "cell_type": "code",
      "source": [
        ""
      ],
      "metadata": {
        "id": "oHwjyIefM-j4"
      },
      "execution_count": null,
      "outputs": []
    }
  ]
}